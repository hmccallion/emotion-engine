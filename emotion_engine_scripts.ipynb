{
 "cells": [
  {
   "cell_type": "code",
   "execution_count": 1,
   "id": "ce65c0ee-1f63-4339-847e-3671aefacaee",
   "metadata": {},
   "outputs": [],
   "source": [
    "import pandas as pd\n",
    "import nltk"
   ]
  },
  {
   "cell_type": "code",
   "execution_count": 2,
   "id": "f8ea1211-1d45-4642-9932-09bf9b183c6e",
   "metadata": {},
   "outputs": [],
   "source": [
    "# word tokenize will turn each word in a text string into a token\n",
    "from nltk.tokenize import word_tokenize "
   ]
  },
  {
   "cell_type": "code",
   "execution_count": 3,
   "id": "25f1a137-0923-4cd5-9db2-7c11eb5df519",
   "metadata": {},
   "outputs": [
    {
     "name": "stderr",
     "output_type": "stream",
     "text": [
      "[nltk_data] Downloading package punkt to\n",
      "[nltk_data]     C:\\Users\\mccal\\AppData\\Roaming\\nltk_data...\n",
      "[nltk_data]   Package punkt is already up-to-date!\n"
     ]
    },
    {
     "data": {
      "text/plain": [
       "True"
      ]
     },
     "execution_count": 3,
     "metadata": {},
     "output_type": "execute_result"
    }
   ],
   "source": [
    "# punkt is a language aware model that can handle punctuation in text\n",
    "nltk.download('punkt') "
   ]
  },
  {
   "cell_type": "code",
   "execution_count": 4,
   "id": "30a68356-4930-4c7b-bab9-b54aa385cbe4",
   "metadata": {},
   "outputs": [],
   "source": [
    "# i don't think there is any punctuation in the data that we are using to train this model but best to be safe"
   ]
  },
  {
   "cell_type": "code",
   "execution_count": 5,
   "id": "16fbf0ca-57c5-4fbd-b016-4d9f897fb3f4",
   "metadata": {},
   "outputs": [
    {
     "name": "stderr",
     "output_type": "stream",
     "text": [
      "[nltk_data] Downloading package stopwords to\n",
      "[nltk_data]     C:\\Users\\mccal\\AppData\\Roaming\\nltk_data...\n",
      "[nltk_data]   Package stopwords is already up-to-date!\n"
     ]
    },
    {
     "data": {
      "text/plain": [
       "True"
      ]
     },
     "execution_count": 5,
     "metadata": {},
     "output_type": "execute_result"
    }
   ],
   "source": [
    "# there are definitely stop words in the data we will use to build the model (words that do not have sentiment)\n",
    "from nltk.corpus import stopwords\n",
    "nltk.download('stopwords') "
   ]
  },
  {
   "cell_type": "code",
   "execution_count": 6,
   "id": "c5af6fac-07e9-47ea-a358-9382e61e04cb",
   "metadata": {},
   "outputs": [],
   "source": [
    "# this weighs the importance of a word based on freqeuency (feature extraction tool)\n",
    "from sklearn.feature_extraction.text import TfidfVectorizer "
   ]
  },
  {
   "cell_type": "code",
   "execution_count": 7,
   "id": "bc6ac302-73ee-4a51-b15d-f2289b51b9a8",
   "metadata": {},
   "outputs": [],
   "source": [
    "# we all know what this is\n",
    "from sklearn.model_selection import train_test_split "
   ]
  },
  {
   "cell_type": "code",
   "execution_count": 8,
   "id": "c4e911b8-c320-4ef0-964b-49ee30af319b",
   "metadata": {},
   "outputs": [],
   "source": [
    " # this is our model of choice\n",
    "from sklearn.linear_model import LogisticRegression"
   ]
  },
  {
   "cell_type": "code",
   "execution_count": 9,
   "id": "11e8b31c-2c59-4ac6-a203-fdb92d6c902c",
   "metadata": {},
   "outputs": [],
   "source": [
    "# we will use this to see how accurate the model is\n",
    "from sklearn.metrics import accuracy_score, classification_report "
   ]
  },
  {
   "cell_type": "code",
   "execution_count": 10,
   "id": "52d3c9cc-514d-485a-a2f5-50585285688c",
   "metadata": {},
   "outputs": [],
   "source": [
    "# reading in labeled text data to make the model\n",
    "emotions=pd.read_csv('emotions.csv') "
   ]
  },
  {
   "cell_type": "code",
   "execution_count": 11,
   "id": "83118472-2494-484c-a92d-97764e5803ef",
   "metadata": {},
   "outputs": [
    {
     "name": "stdout",
     "output_type": "stream",
     "text": [
      "<class 'pandas.core.frame.DataFrame'>\n",
      "RangeIndex: 416809 entries, 0 to 416808\n",
      "Data columns (total 2 columns):\n",
      " #   Column  Non-Null Count   Dtype \n",
      "---  ------  --------------   ----- \n",
      " 0   text    416809 non-null  object\n",
      " 1   label   416809 non-null  int64 \n",
      "dtypes: int64(1), object(1)\n",
      "memory usage: 6.4+ MB\n"
     ]
    }
   ],
   "source": [
    "# basic data information\n",
    "emotions.info() "
   ]
  },
  {
   "cell_type": "code",
   "execution_count": 12,
   "id": "c284e670-454f-42a6-ba34-3f82c04e501c",
   "metadata": {},
   "outputs": [
    {
     "data": {
      "text/html": [
       "<div>\n",
       "<style scoped>\n",
       "    .dataframe tbody tr th:only-of-type {\n",
       "        vertical-align: middle;\n",
       "    }\n",
       "\n",
       "    .dataframe tbody tr th {\n",
       "        vertical-align: top;\n",
       "    }\n",
       "\n",
       "    .dataframe thead th {\n",
       "        text-align: right;\n",
       "    }\n",
       "</style>\n",
       "<table border=\"1\" class=\"dataframe\">\n",
       "  <thead>\n",
       "    <tr style=\"text-align: right;\">\n",
       "      <th></th>\n",
       "      <th>text</th>\n",
       "      <th>label</th>\n",
       "    </tr>\n",
       "  </thead>\n",
       "  <tbody>\n",
       "    <tr>\n",
       "      <th>0</th>\n",
       "      <td>i just feel really helpless and heavy hearted</td>\n",
       "      <td>4</td>\n",
       "    </tr>\n",
       "    <tr>\n",
       "      <th>1</th>\n",
       "      <td>ive enjoyed being able to slouch about relax a...</td>\n",
       "      <td>0</td>\n",
       "    </tr>\n",
       "    <tr>\n",
       "      <th>2</th>\n",
       "      <td>i gave up my internship with the dmrg and am f...</td>\n",
       "      <td>4</td>\n",
       "    </tr>\n",
       "    <tr>\n",
       "      <th>3</th>\n",
       "      <td>i dont know i feel so lost</td>\n",
       "      <td>0</td>\n",
       "    </tr>\n",
       "    <tr>\n",
       "      <th>4</th>\n",
       "      <td>i am a kindergarten teacher and i am thoroughl...</td>\n",
       "      <td>4</td>\n",
       "    </tr>\n",
       "  </tbody>\n",
       "</table>\n",
       "</div>"
      ],
      "text/plain": [
       "                                                text  label\n",
       "0      i just feel really helpless and heavy hearted      4\n",
       "1  ive enjoyed being able to slouch about relax a...      0\n",
       "2  i gave up my internship with the dmrg and am f...      4\n",
       "3                         i dont know i feel so lost      0\n",
       "4  i am a kindergarten teacher and i am thoroughl...      4"
      ]
     },
     "execution_count": 12,
     "metadata": {},
     "output_type": "execute_result"
    }
   ],
   "source": [
    "# here's what the data looks like\n",
    "emotions.head() "
   ]
  },
  {
   "cell_type": "code",
   "execution_count": 13,
   "id": "66c7dad2-3fff-4622-bf46-b657fd4b6390",
   "metadata": {},
   "outputs": [],
   "source": [
    "# sadness (0), joy (1), love (2), anger (3), fear (4), and surprise (5) emotions and their label"
   ]
  },
  {
   "cell_type": "code",
   "execution_count": 14,
   "id": "314b30f9-b76b-4a47-b59e-d0902572ae1d",
   "metadata": {},
   "outputs": [
    {
     "data": {
      "text/plain": [
       "label\n",
       "1    141067\n",
       "0    121187\n",
       "3     57317\n",
       "4     47712\n",
       "2     34554\n",
       "5     14972\n",
       "Name: count, dtype: int64"
      ]
     },
     "execution_count": 14,
     "metadata": {},
     "output_type": "execute_result"
    }
   ],
   "source": [
    "# we have some really unbalanced data here, this is what we adress first if we want to improve the model\n",
    "emotions.label.value_counts() "
   ]
  },
  {
   "cell_type": "code",
   "execution_count": 15,
   "id": "6960ecef-228c-4523-96be-ac7ae8b79e9c",
   "metadata": {},
   "outputs": [],
   "source": [
    "# i am writing a function that tokenizes text that we can apply to the text column\n",
    "def tokenize(text):\n",
    "    return nltk.word_tokenize(text.lower()) "
   ]
  },
  {
   "cell_type": "code",
   "execution_count": 16,
   "id": "60f29520-98e1-4b9c-ab45-51bd9db5e6ed",
   "metadata": {},
   "outputs": [],
   "source": [
    "# applying the tokenizer function to create a tokens column\n",
    "emotions['tokens']=emotions['text'].apply(tokenize) "
   ]
  },
  {
   "cell_type": "code",
   "execution_count": 17,
   "id": "04f37494-12ad-4010-bf99-5389a0f02566",
   "metadata": {},
   "outputs": [],
   "source": [
    "# this is going to be a set containing all of the english stop words\n",
    "stop_words = set(stopwords.words('english')) "
   ]
  },
  {
   "cell_type": "code",
   "execution_count": 18,
   "id": "f7ea2618-96b0-4837-9176-d6b13f87f423",
   "metadata": {},
   "outputs": [],
   "source": [
    "# we are creating a column of tokens that do not contain any words we do not want to feed the model\n",
    "emotions['filtered_tokens'] = emotions['tokens'].apply(lambda x: [word for word in x if word not in stop_words])"
   ]
  },
  {
   "cell_type": "code",
   "execution_count": 19,
   "id": "73f67382-9f67-4647-88c0-e693d8005a16",
   "metadata": {},
   "outputs": [
    {
     "data": {
      "text/html": [
       "<div>\n",
       "<style scoped>\n",
       "    .dataframe tbody tr th:only-of-type {\n",
       "        vertical-align: middle;\n",
       "    }\n",
       "\n",
       "    .dataframe tbody tr th {\n",
       "        vertical-align: top;\n",
       "    }\n",
       "\n",
       "    .dataframe thead th {\n",
       "        text-align: right;\n",
       "    }\n",
       "</style>\n",
       "<table border=\"1\" class=\"dataframe\">\n",
       "  <thead>\n",
       "    <tr style=\"text-align: right;\">\n",
       "      <th></th>\n",
       "      <th>text</th>\n",
       "      <th>label</th>\n",
       "      <th>tokens</th>\n",
       "      <th>filtered_tokens</th>\n",
       "    </tr>\n",
       "  </thead>\n",
       "  <tbody>\n",
       "    <tr>\n",
       "      <th>0</th>\n",
       "      <td>i just feel really helpless and heavy hearted</td>\n",
       "      <td>4</td>\n",
       "      <td>[i, just, feel, really, helpless, and, heavy, ...</td>\n",
       "      <td>[feel, really, helpless, heavy, hearted]</td>\n",
       "    </tr>\n",
       "    <tr>\n",
       "      <th>1</th>\n",
       "      <td>ive enjoyed being able to slouch about relax a...</td>\n",
       "      <td>0</td>\n",
       "      <td>[ive, enjoyed, being, able, to, slouch, about,...</td>\n",
       "      <td>[ive, enjoyed, able, slouch, relax, unwind, fr...</td>\n",
       "    </tr>\n",
       "    <tr>\n",
       "      <th>2</th>\n",
       "      <td>i gave up my internship with the dmrg and am f...</td>\n",
       "      <td>4</td>\n",
       "      <td>[i, gave, up, my, internship, with, the, dmrg,...</td>\n",
       "      <td>[gave, internship, dmrg, feeling, distraught]</td>\n",
       "    </tr>\n",
       "    <tr>\n",
       "      <th>3</th>\n",
       "      <td>i dont know i feel so lost</td>\n",
       "      <td>0</td>\n",
       "      <td>[i, dont, know, i, feel, so, lost]</td>\n",
       "      <td>[dont, know, feel, lost]</td>\n",
       "    </tr>\n",
       "    <tr>\n",
       "      <th>4</th>\n",
       "      <td>i am a kindergarten teacher and i am thoroughl...</td>\n",
       "      <td>4</td>\n",
       "      <td>[i, am, a, kindergarten, teacher, and, i, am, ...</td>\n",
       "      <td>[kindergarten, teacher, thoroughly, weary, job...</td>\n",
       "    </tr>\n",
       "  </tbody>\n",
       "</table>\n",
       "</div>"
      ],
      "text/plain": [
       "                                                text  label  \\\n",
       "0      i just feel really helpless and heavy hearted      4   \n",
       "1  ive enjoyed being able to slouch about relax a...      0   \n",
       "2  i gave up my internship with the dmrg and am f...      4   \n",
       "3                         i dont know i feel so lost      0   \n",
       "4  i am a kindergarten teacher and i am thoroughl...      4   \n",
       "\n",
       "                                              tokens  \\\n",
       "0  [i, just, feel, really, helpless, and, heavy, ...   \n",
       "1  [ive, enjoyed, being, able, to, slouch, about,...   \n",
       "2  [i, gave, up, my, internship, with, the, dmrg,...   \n",
       "3                 [i, dont, know, i, feel, so, lost]   \n",
       "4  [i, am, a, kindergarten, teacher, and, i, am, ...   \n",
       "\n",
       "                                     filtered_tokens  \n",
       "0           [feel, really, helpless, heavy, hearted]  \n",
       "1  [ive, enjoyed, able, slouch, relax, unwind, fr...  \n",
       "2      [gave, internship, dmrg, feeling, distraught]  \n",
       "3                           [dont, know, feel, lost]  \n",
       "4  [kindergarten, teacher, thoroughly, weary, job...  "
      ]
     },
     "execution_count": 19,
     "metadata": {},
     "output_type": "execute_result"
    }
   ],
   "source": [
    " # here's what our data looks like now with the new features\n",
    "emotions.head()"
   ]
  },
  {
   "cell_type": "code",
   "execution_count": 20,
   "id": "08fd9246-af8f-4881-b549-38cd48bdbe9d",
   "metadata": {},
   "outputs": [],
   "source": [
    "# what's happening here is we are creating a column combining the filtered tokens back together into a text string\n",
    "emotions['text_combined'] = emotions['filtered_tokens'].apply(lambda x: ' '.join(x))"
   ]
  },
  {
   "cell_type": "code",
   "execution_count": 21,
   "id": "72b6cb34-14ca-4684-81ea-5cb84c1b170d",
   "metadata": {},
   "outputs": [],
   "source": [
    "# i mentioned earlier that this is going to make the text readable for the logistic regression  model\n",
    "# this is going to create vectors from our text that we can use for training\n",
    "# the vectors are made with term frequency, relative to amount of documents, which in turn tells us something about their importance\n",
    "vectorizer = TfidfVectorizer()"
   ]
  },
  {
   "cell_type": "code",
   "execution_count": 22,
   "id": "5dd19310-7319-4b29-8c42-87c9ecc5c0ee",
   "metadata": {},
   "outputs": [],
   "source": [
    "# vectorize the text\n",
    "X = vectorizer.fit_transform(emotions['text_combined']) "
   ]
  },
  {
   "cell_type": "code",
   "execution_count": 23,
   "id": "daaf7f07-34af-44e2-91a3-9cc75071076c",
   "metadata": {},
   "outputs": [],
   "source": [
    "y=emotions['label']"
   ]
  },
  {
   "cell_type": "code",
   "execution_count": 24,
   "id": "5239631a-de39-45dc-9625-f21851492186",
   "metadata": {},
   "outputs": [],
   "source": [
    "# splitting the data into training data and testing data\n",
    "# 42 was chosen arbitrarily\n",
    "# random state accepts any number in range [-2,147,483,648 , 2,147,483,647]\n",
    "X_train, X_test, y_train, y_test = train_test_split(X, y, test_size=0.2, random_state=42)"
   ]
  },
  {
   "cell_type": "code",
   "execution_count": 25,
   "id": "9282b8ef-2822-4259-8c41-974051eaf34c",
   "metadata": {},
   "outputs": [],
   "source": [
    "# Default is 'l2'\n",
    "# i chose 200 for max_iter because it was large enough to reach convergence\n",
    "# if you do not set the max_iter to 200, the default, 100 is not enough and you will get an error\n",
    "model = LogisticRegression(penalty='l2', max_iter=200) "
   ]
  },
  {
   "cell_type": "code",
   "execution_count": 26,
   "id": "146fd7f5-1bb0-478c-a0f5-4039c9430673",
   "metadata": {},
   "outputs": [
    {
     "data": {
      "text/html": [
       "<style>#sk-container-id-1 {\n",
       "  /* Definition of color scheme common for light and dark mode */\n",
       "  --sklearn-color-text: black;\n",
       "  --sklearn-color-line: gray;\n",
       "  /* Definition of color scheme for unfitted estimators */\n",
       "  --sklearn-color-unfitted-level-0: #fff5e6;\n",
       "  --sklearn-color-unfitted-level-1: #f6e4d2;\n",
       "  --sklearn-color-unfitted-level-2: #ffe0b3;\n",
       "  --sklearn-color-unfitted-level-3: chocolate;\n",
       "  /* Definition of color scheme for fitted estimators */\n",
       "  --sklearn-color-fitted-level-0: #f0f8ff;\n",
       "  --sklearn-color-fitted-level-1: #d4ebff;\n",
       "  --sklearn-color-fitted-level-2: #b3dbfd;\n",
       "  --sklearn-color-fitted-level-3: cornflowerblue;\n",
       "\n",
       "  /* Specific color for light theme */\n",
       "  --sklearn-color-text-on-default-background: var(--sg-text-color, var(--theme-code-foreground, var(--jp-content-font-color1, black)));\n",
       "  --sklearn-color-background: var(--sg-background-color, var(--theme-background, var(--jp-layout-color0, white)));\n",
       "  --sklearn-color-border-box: var(--sg-text-color, var(--theme-code-foreground, var(--jp-content-font-color1, black)));\n",
       "  --sklearn-color-icon: #696969;\n",
       "\n",
       "  @media (prefers-color-scheme: dark) {\n",
       "    /* Redefinition of color scheme for dark theme */\n",
       "    --sklearn-color-text-on-default-background: var(--sg-text-color, var(--theme-code-foreground, var(--jp-content-font-color1, white)));\n",
       "    --sklearn-color-background: var(--sg-background-color, var(--theme-background, var(--jp-layout-color0, #111)));\n",
       "    --sklearn-color-border-box: var(--sg-text-color, var(--theme-code-foreground, var(--jp-content-font-color1, white)));\n",
       "    --sklearn-color-icon: #878787;\n",
       "  }\n",
       "}\n",
       "\n",
       "#sk-container-id-1 {\n",
       "  color: var(--sklearn-color-text);\n",
       "}\n",
       "\n",
       "#sk-container-id-1 pre {\n",
       "  padding: 0;\n",
       "}\n",
       "\n",
       "#sk-container-id-1 input.sk-hidden--visually {\n",
       "  border: 0;\n",
       "  clip: rect(1px 1px 1px 1px);\n",
       "  clip: rect(1px, 1px, 1px, 1px);\n",
       "  height: 1px;\n",
       "  margin: -1px;\n",
       "  overflow: hidden;\n",
       "  padding: 0;\n",
       "  position: absolute;\n",
       "  width: 1px;\n",
       "}\n",
       "\n",
       "#sk-container-id-1 div.sk-dashed-wrapped {\n",
       "  border: 1px dashed var(--sklearn-color-line);\n",
       "  margin: 0 0.4em 0.5em 0.4em;\n",
       "  box-sizing: border-box;\n",
       "  padding-bottom: 0.4em;\n",
       "  background-color: var(--sklearn-color-background);\n",
       "}\n",
       "\n",
       "#sk-container-id-1 div.sk-container {\n",
       "  /* jupyter's `normalize.less` sets `[hidden] { display: none; }`\n",
       "     but bootstrap.min.css set `[hidden] { display: none !important; }`\n",
       "     so we also need the `!important` here to be able to override the\n",
       "     default hidden behavior on the sphinx rendered scikit-learn.org.\n",
       "     See: https://github.com/scikit-learn/scikit-learn/issues/21755 */\n",
       "  display: inline-block !important;\n",
       "  position: relative;\n",
       "}\n",
       "\n",
       "#sk-container-id-1 div.sk-text-repr-fallback {\n",
       "  display: none;\n",
       "}\n",
       "\n",
       "div.sk-parallel-item,\n",
       "div.sk-serial,\n",
       "div.sk-item {\n",
       "  /* draw centered vertical line to link estimators */\n",
       "  background-image: linear-gradient(var(--sklearn-color-text-on-default-background), var(--sklearn-color-text-on-default-background));\n",
       "  background-size: 2px 100%;\n",
       "  background-repeat: no-repeat;\n",
       "  background-position: center center;\n",
       "}\n",
       "\n",
       "/* Parallel-specific style estimator block */\n",
       "\n",
       "#sk-container-id-1 div.sk-parallel-item::after {\n",
       "  content: \"\";\n",
       "  width: 100%;\n",
       "  border-bottom: 2px solid var(--sklearn-color-text-on-default-background);\n",
       "  flex-grow: 1;\n",
       "}\n",
       "\n",
       "#sk-container-id-1 div.sk-parallel {\n",
       "  display: flex;\n",
       "  align-items: stretch;\n",
       "  justify-content: center;\n",
       "  background-color: var(--sklearn-color-background);\n",
       "  position: relative;\n",
       "}\n",
       "\n",
       "#sk-container-id-1 div.sk-parallel-item {\n",
       "  display: flex;\n",
       "  flex-direction: column;\n",
       "}\n",
       "\n",
       "#sk-container-id-1 div.sk-parallel-item:first-child::after {\n",
       "  align-self: flex-end;\n",
       "  width: 50%;\n",
       "}\n",
       "\n",
       "#sk-container-id-1 div.sk-parallel-item:last-child::after {\n",
       "  align-self: flex-start;\n",
       "  width: 50%;\n",
       "}\n",
       "\n",
       "#sk-container-id-1 div.sk-parallel-item:only-child::after {\n",
       "  width: 0;\n",
       "}\n",
       "\n",
       "/* Serial-specific style estimator block */\n",
       "\n",
       "#sk-container-id-1 div.sk-serial {\n",
       "  display: flex;\n",
       "  flex-direction: column;\n",
       "  align-items: center;\n",
       "  background-color: var(--sklearn-color-background);\n",
       "  padding-right: 1em;\n",
       "  padding-left: 1em;\n",
       "}\n",
       "\n",
       "\n",
       "/* Toggleable style: style used for estimator/Pipeline/ColumnTransformer box that is\n",
       "clickable and can be expanded/collapsed.\n",
       "- Pipeline and ColumnTransformer use this feature and define the default style\n",
       "- Estimators will overwrite some part of the style using the `sk-estimator` class\n",
       "*/\n",
       "\n",
       "/* Pipeline and ColumnTransformer style (default) */\n",
       "\n",
       "#sk-container-id-1 div.sk-toggleable {\n",
       "  /* Default theme specific background. It is overwritten whether we have a\n",
       "  specific estimator or a Pipeline/ColumnTransformer */\n",
       "  background-color: var(--sklearn-color-background);\n",
       "}\n",
       "\n",
       "/* Toggleable label */\n",
       "#sk-container-id-1 label.sk-toggleable__label {\n",
       "  cursor: pointer;\n",
       "  display: block;\n",
       "  width: 100%;\n",
       "  margin-bottom: 0;\n",
       "  padding: 0.5em;\n",
       "  box-sizing: border-box;\n",
       "  text-align: center;\n",
       "}\n",
       "\n",
       "#sk-container-id-1 label.sk-toggleable__label-arrow:before {\n",
       "  /* Arrow on the left of the label */\n",
       "  content: \"▸\";\n",
       "  float: left;\n",
       "  margin-right: 0.25em;\n",
       "  color: var(--sklearn-color-icon);\n",
       "}\n",
       "\n",
       "#sk-container-id-1 label.sk-toggleable__label-arrow:hover:before {\n",
       "  color: var(--sklearn-color-text);\n",
       "}\n",
       "\n",
       "/* Toggleable content - dropdown */\n",
       "\n",
       "#sk-container-id-1 div.sk-toggleable__content {\n",
       "  max-height: 0;\n",
       "  max-width: 0;\n",
       "  overflow: hidden;\n",
       "  text-align: left;\n",
       "  /* unfitted */\n",
       "  background-color: var(--sklearn-color-unfitted-level-0);\n",
       "}\n",
       "\n",
       "#sk-container-id-1 div.sk-toggleable__content.fitted {\n",
       "  /* fitted */\n",
       "  background-color: var(--sklearn-color-fitted-level-0);\n",
       "}\n",
       "\n",
       "#sk-container-id-1 div.sk-toggleable__content pre {\n",
       "  margin: 0.2em;\n",
       "  border-radius: 0.25em;\n",
       "  color: var(--sklearn-color-text);\n",
       "  /* unfitted */\n",
       "  background-color: var(--sklearn-color-unfitted-level-0);\n",
       "}\n",
       "\n",
       "#sk-container-id-1 div.sk-toggleable__content.fitted pre {\n",
       "  /* unfitted */\n",
       "  background-color: var(--sklearn-color-fitted-level-0);\n",
       "}\n",
       "\n",
       "#sk-container-id-1 input.sk-toggleable__control:checked~div.sk-toggleable__content {\n",
       "  /* Expand drop-down */\n",
       "  max-height: 200px;\n",
       "  max-width: 100%;\n",
       "  overflow: auto;\n",
       "}\n",
       "\n",
       "#sk-container-id-1 input.sk-toggleable__control:checked~label.sk-toggleable__label-arrow:before {\n",
       "  content: \"▾\";\n",
       "}\n",
       "\n",
       "/* Pipeline/ColumnTransformer-specific style */\n",
       "\n",
       "#sk-container-id-1 div.sk-label input.sk-toggleable__control:checked~label.sk-toggleable__label {\n",
       "  color: var(--sklearn-color-text);\n",
       "  background-color: var(--sklearn-color-unfitted-level-2);\n",
       "}\n",
       "\n",
       "#sk-container-id-1 div.sk-label.fitted input.sk-toggleable__control:checked~label.sk-toggleable__label {\n",
       "  background-color: var(--sklearn-color-fitted-level-2);\n",
       "}\n",
       "\n",
       "/* Estimator-specific style */\n",
       "\n",
       "/* Colorize estimator box */\n",
       "#sk-container-id-1 div.sk-estimator input.sk-toggleable__control:checked~label.sk-toggleable__label {\n",
       "  /* unfitted */\n",
       "  background-color: var(--sklearn-color-unfitted-level-2);\n",
       "}\n",
       "\n",
       "#sk-container-id-1 div.sk-estimator.fitted input.sk-toggleable__control:checked~label.sk-toggleable__label {\n",
       "  /* fitted */\n",
       "  background-color: var(--sklearn-color-fitted-level-2);\n",
       "}\n",
       "\n",
       "#sk-container-id-1 div.sk-label label.sk-toggleable__label,\n",
       "#sk-container-id-1 div.sk-label label {\n",
       "  /* The background is the default theme color */\n",
       "  color: var(--sklearn-color-text-on-default-background);\n",
       "}\n",
       "\n",
       "/* On hover, darken the color of the background */\n",
       "#sk-container-id-1 div.sk-label:hover label.sk-toggleable__label {\n",
       "  color: var(--sklearn-color-text);\n",
       "  background-color: var(--sklearn-color-unfitted-level-2);\n",
       "}\n",
       "\n",
       "/* Label box, darken color on hover, fitted */\n",
       "#sk-container-id-1 div.sk-label.fitted:hover label.sk-toggleable__label.fitted {\n",
       "  color: var(--sklearn-color-text);\n",
       "  background-color: var(--sklearn-color-fitted-level-2);\n",
       "}\n",
       "\n",
       "/* Estimator label */\n",
       "\n",
       "#sk-container-id-1 div.sk-label label {\n",
       "  font-family: monospace;\n",
       "  font-weight: bold;\n",
       "  display: inline-block;\n",
       "  line-height: 1.2em;\n",
       "}\n",
       "\n",
       "#sk-container-id-1 div.sk-label-container {\n",
       "  text-align: center;\n",
       "}\n",
       "\n",
       "/* Estimator-specific */\n",
       "#sk-container-id-1 div.sk-estimator {\n",
       "  font-family: monospace;\n",
       "  border: 1px dotted var(--sklearn-color-border-box);\n",
       "  border-radius: 0.25em;\n",
       "  box-sizing: border-box;\n",
       "  margin-bottom: 0.5em;\n",
       "  /* unfitted */\n",
       "  background-color: var(--sklearn-color-unfitted-level-0);\n",
       "}\n",
       "\n",
       "#sk-container-id-1 div.sk-estimator.fitted {\n",
       "  /* fitted */\n",
       "  background-color: var(--sklearn-color-fitted-level-0);\n",
       "}\n",
       "\n",
       "/* on hover */\n",
       "#sk-container-id-1 div.sk-estimator:hover {\n",
       "  /* unfitted */\n",
       "  background-color: var(--sklearn-color-unfitted-level-2);\n",
       "}\n",
       "\n",
       "#sk-container-id-1 div.sk-estimator.fitted:hover {\n",
       "  /* fitted */\n",
       "  background-color: var(--sklearn-color-fitted-level-2);\n",
       "}\n",
       "\n",
       "/* Specification for estimator info (e.g. \"i\" and \"?\") */\n",
       "\n",
       "/* Common style for \"i\" and \"?\" */\n",
       "\n",
       ".sk-estimator-doc-link,\n",
       "a:link.sk-estimator-doc-link,\n",
       "a:visited.sk-estimator-doc-link {\n",
       "  float: right;\n",
       "  font-size: smaller;\n",
       "  line-height: 1em;\n",
       "  font-family: monospace;\n",
       "  background-color: var(--sklearn-color-background);\n",
       "  border-radius: 1em;\n",
       "  height: 1em;\n",
       "  width: 1em;\n",
       "  text-decoration: none !important;\n",
       "  margin-left: 1ex;\n",
       "  /* unfitted */\n",
       "  border: var(--sklearn-color-unfitted-level-1) 1pt solid;\n",
       "  color: var(--sklearn-color-unfitted-level-1);\n",
       "}\n",
       "\n",
       ".sk-estimator-doc-link.fitted,\n",
       "a:link.sk-estimator-doc-link.fitted,\n",
       "a:visited.sk-estimator-doc-link.fitted {\n",
       "  /* fitted */\n",
       "  border: var(--sklearn-color-fitted-level-1) 1pt solid;\n",
       "  color: var(--sklearn-color-fitted-level-1);\n",
       "}\n",
       "\n",
       "/* On hover */\n",
       "div.sk-estimator:hover .sk-estimator-doc-link:hover,\n",
       ".sk-estimator-doc-link:hover,\n",
       "div.sk-label-container:hover .sk-estimator-doc-link:hover,\n",
       ".sk-estimator-doc-link:hover {\n",
       "  /* unfitted */\n",
       "  background-color: var(--sklearn-color-unfitted-level-3);\n",
       "  color: var(--sklearn-color-background);\n",
       "  text-decoration: none;\n",
       "}\n",
       "\n",
       "div.sk-estimator.fitted:hover .sk-estimator-doc-link.fitted:hover,\n",
       ".sk-estimator-doc-link.fitted:hover,\n",
       "div.sk-label-container:hover .sk-estimator-doc-link.fitted:hover,\n",
       ".sk-estimator-doc-link.fitted:hover {\n",
       "  /* fitted */\n",
       "  background-color: var(--sklearn-color-fitted-level-3);\n",
       "  color: var(--sklearn-color-background);\n",
       "  text-decoration: none;\n",
       "}\n",
       "\n",
       "/* Span, style for the box shown on hovering the info icon */\n",
       ".sk-estimator-doc-link span {\n",
       "  display: none;\n",
       "  z-index: 9999;\n",
       "  position: relative;\n",
       "  font-weight: normal;\n",
       "  right: .2ex;\n",
       "  padding: .5ex;\n",
       "  margin: .5ex;\n",
       "  width: min-content;\n",
       "  min-width: 20ex;\n",
       "  max-width: 50ex;\n",
       "  color: var(--sklearn-color-text);\n",
       "  box-shadow: 2pt 2pt 4pt #999;\n",
       "  /* unfitted */\n",
       "  background: var(--sklearn-color-unfitted-level-0);\n",
       "  border: .5pt solid var(--sklearn-color-unfitted-level-3);\n",
       "}\n",
       "\n",
       ".sk-estimator-doc-link.fitted span {\n",
       "  /* fitted */\n",
       "  background: var(--sklearn-color-fitted-level-0);\n",
       "  border: var(--sklearn-color-fitted-level-3);\n",
       "}\n",
       "\n",
       ".sk-estimator-doc-link:hover span {\n",
       "  display: block;\n",
       "}\n",
       "\n",
       "/* \"?\"-specific style due to the `<a>` HTML tag */\n",
       "\n",
       "#sk-container-id-1 a.estimator_doc_link {\n",
       "  float: right;\n",
       "  font-size: 1rem;\n",
       "  line-height: 1em;\n",
       "  font-family: monospace;\n",
       "  background-color: var(--sklearn-color-background);\n",
       "  border-radius: 1rem;\n",
       "  height: 1rem;\n",
       "  width: 1rem;\n",
       "  text-decoration: none;\n",
       "  /* unfitted */\n",
       "  color: var(--sklearn-color-unfitted-level-1);\n",
       "  border: var(--sklearn-color-unfitted-level-1) 1pt solid;\n",
       "}\n",
       "\n",
       "#sk-container-id-1 a.estimator_doc_link.fitted {\n",
       "  /* fitted */\n",
       "  border: var(--sklearn-color-fitted-level-1) 1pt solid;\n",
       "  color: var(--sklearn-color-fitted-level-1);\n",
       "}\n",
       "\n",
       "/* On hover */\n",
       "#sk-container-id-1 a.estimator_doc_link:hover {\n",
       "  /* unfitted */\n",
       "  background-color: var(--sklearn-color-unfitted-level-3);\n",
       "  color: var(--sklearn-color-background);\n",
       "  text-decoration: none;\n",
       "}\n",
       "\n",
       "#sk-container-id-1 a.estimator_doc_link.fitted:hover {\n",
       "  /* fitted */\n",
       "  background-color: var(--sklearn-color-fitted-level-3);\n",
       "}\n",
       "</style><div id=\"sk-container-id-1\" class=\"sk-top-container\"><div class=\"sk-text-repr-fallback\"><pre>LogisticRegression(max_iter=200)</pre><b>In a Jupyter environment, please rerun this cell to show the HTML representation or trust the notebook. <br />On GitHub, the HTML representation is unable to render, please try loading this page with nbviewer.org.</b></div><div class=\"sk-container\" hidden><div class=\"sk-item\"><div class=\"sk-estimator fitted sk-toggleable\"><input class=\"sk-toggleable__control sk-hidden--visually\" id=\"sk-estimator-id-1\" type=\"checkbox\" checked><label for=\"sk-estimator-id-1\" class=\"sk-toggleable__label fitted sk-toggleable__label-arrow fitted\">&nbsp;&nbsp;LogisticRegression<a class=\"sk-estimator-doc-link fitted\" rel=\"noreferrer\" target=\"_blank\" href=\"https://scikit-learn.org/1.4/modules/generated/sklearn.linear_model.LogisticRegression.html\">?<span>Documentation for LogisticRegression</span></a><span class=\"sk-estimator-doc-link fitted\">i<span>Fitted</span></span></label><div class=\"sk-toggleable__content fitted\"><pre>LogisticRegression(max_iter=200)</pre></div> </div></div></div></div>"
      ],
      "text/plain": [
       "LogisticRegression(max_iter=200)"
      ]
     },
     "execution_count": 26,
     "metadata": {},
     "output_type": "execute_result"
    }
   ],
   "source": [
    "# fit the model\n",
    "model.fit(X_train, y_train)"
   ]
  },
  {
   "cell_type": "code",
   "execution_count": 27,
   "id": "3257f872-5d30-47d3-9b4d-9af0e2c75ae9",
   "metadata": {},
   "outputs": [],
   "source": [
    "# basic prediction function call\n",
    "y_pred = model.predict(X_test)"
   ]
  },
  {
   "cell_type": "code",
   "execution_count": 28,
   "id": "a1c6894b-c026-4d07-a268-d60bba2c4c7d",
   "metadata": {},
   "outputs": [],
   "source": [
    "accuracy = accuracy_score(y_test, y_pred)"
   ]
  },
  {
   "cell_type": "code",
   "execution_count": 29,
   "id": "02eb8c38-22ce-4ef4-9a67-4472a4630017",
   "metadata": {},
   "outputs": [
    {
     "data": {
      "text/plain": [
       "0.8939924665914926"
      ]
     },
     "execution_count": 29,
     "metadata": {},
     "output_type": "execute_result"
    }
   ],
   "source": [
    "# did pretty well\n",
    "accuracy "
   ]
  },
  {
   "cell_type": "code",
   "execution_count": 30,
   "id": "cb1359fc-3e24-435f-b6ee-c93a7a76a3c6",
   "metadata": {},
   "outputs": [],
   "source": [
    "# we aren't after the models prediction for the labels\n",
    "# we are after the probability scores for each label because we want nuanced emotion vectors\n",
    "# lets do a demo"
   ]
  },
  {
   "cell_type": "code",
   "execution_count": 31,
   "id": "baa1efc0-8053-4501-8278-c4236276b4e6",
   "metadata": {},
   "outputs": [],
   "source": [
    "# here is a string that i am going to write that will contain some things i want to say about my emotional state\n",
    "hank_feeling = 'i had a stressfull day but i was able to get a lot done which made me proud'"
   ]
  },
  {
   "cell_type": "code",
   "execution_count": 32,
   "id": "4961e653-5005-4e56-90f1-efaa2605ab8a",
   "metadata": {},
   "outputs": [],
   "source": [
    "# in order to pull an emotion vector from this string we need to apply the same principles we used to train the model\n",
    "# we need to tokenize the text\n",
    "# we need to filter the tokenized text for stopwords\n",
    "# we need to re join that filtered token into plain text\n",
    "# we need to extract features using tfidf vectorization\n",
    "# we need to tell the model to predict probabilites NOT the label\n",
    "# we're gonna investigate what the probabilities look like"
   ]
  },
  {
   "cell_type": "code",
   "execution_count": 33,
   "id": "e292372b-f28e-4714-9a98-08c9a6af4ce2",
   "metadata": {},
   "outputs": [],
   "source": [
    "#  recall this key; sadness (0), joy (1), love (2), anger (3), fear (4), and surprise (5) emotions and their label"
   ]
  },
  {
   "cell_type": "code",
   "execution_count": 34,
   "id": "07ae7a7d-b5d0-43dc-a89b-4e84b5be4a0a",
   "metadata": {},
   "outputs": [],
   "source": [
    "# now let's write a function that does that whole process for us"
   ]
  },
  {
   "cell_type": "code",
   "execution_count": 35,
   "id": "a1fb3c98-ef69-4f90-a0c7-1b24f540fa50",
   "metadata": {},
   "outputs": [],
   "source": [
    "def emotion_score(user_input):\n",
    "    # tokenize the input\n",
    "    input_tokens = nltk.word_tokenize(user_input.lower()) \n",
    "    # filter stopwords out of the input\n",
    "    filtered_input_tokens = [word for word in input_tokens if word not in stop_words] \n",
    "    # re-join the filtered tokens\n",
    "    input_combined = ' '.join(filtered_input_tokens) \n",
    "    # feature extraction\n",
    "    input_vector = vectorizer.transform([input_combined]) \n",
    "    # pull the probabilities from the input\n",
    "    probabilities = model.predict_proba(input_vector)\n",
    "    # return the probabilities\n",
    "    return probabilities.tolist()[0] "
   ]
  },
  {
   "cell_type": "code",
   "execution_count": 36,
   "id": "7918448e-3f19-4624-938c-836aa0a5f489",
   "metadata": {},
   "outputs": [
    {
     "data": {
      "text/plain": [
       "[0.015336456086055822,\n",
       " 0.9519273437595572,\n",
       " 0.010170432898996905,\n",
       " 0.009528920934266534,\n",
       " 0.005507372710613149,\n",
       " 0.007529473610510535]"
      ]
     },
     "execution_count": 36,
     "metadata": {},
     "output_type": "execute_result"
    }
   ],
   "source": [
    "emotion_score(hank_feeling) # test drive"
   ]
  },
  {
   "cell_type": "code",
   "execution_count": 37,
   "id": "ab94086c-a672-4f88-b973-18a3126c065c",
   "metadata": {},
   "outputs": [],
   "source": [
    "# i wanna run this function on an entire data frame of song lyrics\n",
    "music=pd.read_csv('songs_with_lyrics_Cleaned.csv') "
   ]
  },
  {
   "cell_type": "code",
   "execution_count": 38,
   "id": "9226bb13-8fa9-4dd3-8d8f-0c4eda91b48c",
   "metadata": {},
   "outputs": [
    {
     "data": {
      "text/html": [
       "<div>\n",
       "<style scoped>\n",
       "    .dataframe tbody tr th:only-of-type {\n",
       "        vertical-align: middle;\n",
       "    }\n",
       "\n",
       "    .dataframe tbody tr th {\n",
       "        vertical-align: top;\n",
       "    }\n",
       "\n",
       "    .dataframe thead th {\n",
       "        text-align: right;\n",
       "    }\n",
       "</style>\n",
       "<table border=\"1\" class=\"dataframe\">\n",
       "  <thead>\n",
       "    <tr style=\"text-align: right;\">\n",
       "      <th></th>\n",
       "      <th>Unnamed: 0</th>\n",
       "      <th>artist</th>\n",
       "      <th>song</th>\n",
       "      <th>link</th>\n",
       "      <th>text</th>\n",
       "    </tr>\n",
       "  </thead>\n",
       "  <tbody>\n",
       "    <tr>\n",
       "      <th>0</th>\n",
       "      <td>0</td>\n",
       "      <td>ABBA</td>\n",
       "      <td>Ahe's My Kind Of Girl</td>\n",
       "      <td>/a/abba/ahes+my+kind+of+girl_20598417.html</td>\n",
       "      <td>look at her face, it's a wonderful face and it...</td>\n",
       "    </tr>\n",
       "    <tr>\n",
       "      <th>1</th>\n",
       "      <td>1</td>\n",
       "      <td>ABBA</td>\n",
       "      <td>Andante, Andante</td>\n",
       "      <td>/a/abba/andante+andante_20002708.html</td>\n",
       "      <td>take it easy with me, please touch me gently l...</td>\n",
       "    </tr>\n",
       "    <tr>\n",
       "      <th>2</th>\n",
       "      <td>2</td>\n",
       "      <td>ABBA</td>\n",
       "      <td>As Good As New</td>\n",
       "      <td>/a/abba/as+good+as+new_20003033.html</td>\n",
       "      <td>i'll never know why i had to go why i had to p...</td>\n",
       "    </tr>\n",
       "    <tr>\n",
       "      <th>3</th>\n",
       "      <td>3</td>\n",
       "      <td>ABBA</td>\n",
       "      <td>Bang</td>\n",
       "      <td>/a/abba/bang_20598415.html</td>\n",
       "      <td>making somebody happy is a question of give an...</td>\n",
       "    </tr>\n",
       "    <tr>\n",
       "      <th>4</th>\n",
       "      <td>4</td>\n",
       "      <td>ABBA</td>\n",
       "      <td>Bang-A-Boomerang</td>\n",
       "      <td>/a/abba/bang+a+boomerang_20002668.html</td>\n",
       "      <td>making somebody happy is a question of give an...</td>\n",
       "    </tr>\n",
       "  </tbody>\n",
       "</table>\n",
       "</div>"
      ],
      "text/plain": [
       "   Unnamed: 0 artist                   song  \\\n",
       "0           0   ABBA  Ahe's My Kind Of Girl   \n",
       "1           1   ABBA       Andante, Andante   \n",
       "2           2   ABBA         As Good As New   \n",
       "3           3   ABBA                   Bang   \n",
       "4           4   ABBA       Bang-A-Boomerang   \n",
       "\n",
       "                                         link  \\\n",
       "0  /a/abba/ahes+my+kind+of+girl_20598417.html   \n",
       "1       /a/abba/andante+andante_20002708.html   \n",
       "2        /a/abba/as+good+as+new_20003033.html   \n",
       "3                  /a/abba/bang_20598415.html   \n",
       "4      /a/abba/bang+a+boomerang_20002668.html   \n",
       "\n",
       "                                                text  \n",
       "0  look at her face, it's a wonderful face and it...  \n",
       "1  take it easy with me, please touch me gently l...  \n",
       "2  i'll never know why i had to go why i had to p...  \n",
       "3  making somebody happy is a question of give an...  \n",
       "4  making somebody happy is a question of give an...  "
      ]
     },
     "execution_count": 38,
     "metadata": {},
     "output_type": "execute_result"
    }
   ],
   "source": [
    " # here's what the data frame with music data and song lyrics\n",
    "music.head()"
   ]
  },
  {
   "cell_type": "code",
   "execution_count": 39,
   "id": "65d0821d-2e38-4ae7-b0b1-149c92fd9792",
   "metadata": {},
   "outputs": [
    {
     "data": {
      "text/plain": [
       "[0.734118761988165,\n",
       " 0.132520592501066,\n",
       " 0.029530023819752265,\n",
       " 0.040496651943053505,\n",
       " 0.034728021670850914,\n",
       " 0.028605948077112395]"
      ]
     },
     "execution_count": 39,
     "metadata": {},
     "output_type": "execute_result"
    }
   ],
   "source": [
    "# demo for how the song handles user input\n",
    "emotion_score(' i had a pretty rough day, can you recommend me a sad song?')"
   ]
  },
  {
   "cell_type": "code",
   "execution_count": 40,
   "id": "e95ebb7e-0d41-4e89-8096-e8ccd1d619a3",
   "metadata": {},
   "outputs": [],
   "source": [
    "# write a function that vectorizes the song lyric data with an emotion score dictionary in order to create a table for the lyric scores"
   ]
  },
  {
   "cell_type": "code",
   "execution_count": 41,
   "id": "9568a222-80eb-407c-80b7-9c50b77e9f97",
   "metadata": {},
   "outputs": [],
   "source": [
    "def emotion_dictionary(user_input):\n",
    "    # make tokens\n",
    "    input_tokens = nltk.word_tokenize(user_input.lower()) \n",
    "    # filter the tokens\n",
    "    filtered_input_tokens = [word for word in input_tokens if word not in stop_words] \n",
    "    # recombine filtered tokens\n",
    "    input_combined = ' '.join(filtered_input_tokens) \n",
    "    # tfidf feature extraction\n",
    "    input_vector = vectorizer.transform([input_combined]) \n",
    "    # call the probabilities\n",
    "    probabilities = model.predict_proba(input_vector) \n",
    "    # create the vector\n",
    "    emotion_vector = probabilities.tolist()[0] \n",
    "    # use the vector to create a dictionary with the scores and a key that references the scores\n",
    "    return {'sadness': emotion_vector[0], \n",
    "    'joy': emotion_vector[1],\n",
    "    'love': emotion_vector[2],\n",
    "    'anger': emotion_vector[3],\n",
    "    'fear': emotion_vector[4],\n",
    "    'surprise': emotion_vector[5] }"
   ]
  },
  {
   "cell_type": "code",
   "execution_count": 42,
   "id": "1652f7e9-3625-447e-a860-cf2114b12e08",
   "metadata": {},
   "outputs": [],
   "source": [
    "# time to make the score table"
   ]
  },
  {
   "cell_type": "code",
   "execution_count": 43,
   "id": "1d69c974-6b64-4a56-bbd6-14ae461fe6f5",
   "metadata": {},
   "outputs": [],
   "source": [
    "# import tqdm for progress bar\n",
    "from tqdm import tqdm "
   ]
  },
  {
   "cell_type": "code",
   "execution_count": 44,
   "id": "f8e4bc40-9702-41e1-af70-922291982cc3",
   "metadata": {},
   "outputs": [],
   "source": [
    "# call this to get the progress bar\n",
    "tqdm.pandas() "
   ]
  },
  {
   "cell_type": "code",
   "execution_count": 45,
   "id": "f6c2e014-9a32-465d-929c-b5be069c2293",
   "metadata": {},
   "outputs": [
    {
     "name": "stderr",
     "output_type": "stream",
     "text": [
      "100%|██████████| 44795/44795 [05:59<00:00, 124.65it/s]\n"
     ]
    }
   ],
   "source": [
    "# get a series containing the emotion scores for every song\n",
    "scores=music['text'].progress_apply(emotion_dictionary).apply(pd.Series) "
   ]
  },
  {
   "cell_type": "code",
   "execution_count": 46,
   "id": "9842ddd4",
   "metadata": {},
   "outputs": [
    {
     "data": {
      "text/html": [
       "<div>\n",
       "<style scoped>\n",
       "    .dataframe tbody tr th:only-of-type {\n",
       "        vertical-align: middle;\n",
       "    }\n",
       "\n",
       "    .dataframe tbody tr th {\n",
       "        vertical-align: top;\n",
       "    }\n",
       "\n",
       "    .dataframe thead th {\n",
       "        text-align: right;\n",
       "    }\n",
       "</style>\n",
       "<table border=\"1\" class=\"dataframe\">\n",
       "  <thead>\n",
       "    <tr style=\"text-align: right;\">\n",
       "      <th></th>\n",
       "      <th>sadness</th>\n",
       "      <th>joy</th>\n",
       "      <th>love</th>\n",
       "      <th>anger</th>\n",
       "      <th>fear</th>\n",
       "      <th>surprise</th>\n",
       "    </tr>\n",
       "  </thead>\n",
       "  <tbody>\n",
       "    <tr>\n",
       "      <th>0</th>\n",
       "      <td>0.037772</td>\n",
       "      <td>0.865948</td>\n",
       "      <td>0.020204</td>\n",
       "      <td>0.032962</td>\n",
       "      <td>0.023208</td>\n",
       "      <td>0.019906</td>\n",
       "    </tr>\n",
       "    <tr>\n",
       "      <th>1</th>\n",
       "      <td>0.066016</td>\n",
       "      <td>0.637793</td>\n",
       "      <td>0.148777</td>\n",
       "      <td>0.056284</td>\n",
       "      <td>0.058281</td>\n",
       "      <td>0.032849</td>\n",
       "    </tr>\n",
       "    <tr>\n",
       "      <th>2</th>\n",
       "      <td>0.557590</td>\n",
       "      <td>0.304692</td>\n",
       "      <td>0.064213</td>\n",
       "      <td>0.023887</td>\n",
       "      <td>0.027135</td>\n",
       "      <td>0.022482</td>\n",
       "    </tr>\n",
       "    <tr>\n",
       "      <th>3</th>\n",
       "      <td>0.136736</td>\n",
       "      <td>0.362437</td>\n",
       "      <td>0.262408</td>\n",
       "      <td>0.145773</td>\n",
       "      <td>0.065213</td>\n",
       "      <td>0.027435</td>\n",
       "    </tr>\n",
       "    <tr>\n",
       "      <th>4</th>\n",
       "      <td>0.967274</td>\n",
       "      <td>0.005258</td>\n",
       "      <td>0.016713</td>\n",
       "      <td>0.006844</td>\n",
       "      <td>0.002461</td>\n",
       "      <td>0.001449</td>\n",
       "    </tr>\n",
       "    <tr>\n",
       "      <th>...</th>\n",
       "      <td>...</td>\n",
       "      <td>...</td>\n",
       "      <td>...</td>\n",
       "      <td>...</td>\n",
       "      <td>...</td>\n",
       "      <td>...</td>\n",
       "    </tr>\n",
       "    <tr>\n",
       "      <th>44790</th>\n",
       "      <td>0.152381</td>\n",
       "      <td>0.504729</td>\n",
       "      <td>0.055719</td>\n",
       "      <td>0.141408</td>\n",
       "      <td>0.109148</td>\n",
       "      <td>0.036615</td>\n",
       "    </tr>\n",
       "    <tr>\n",
       "      <th>44791</th>\n",
       "      <td>0.426336</td>\n",
       "      <td>0.203087</td>\n",
       "      <td>0.030651</td>\n",
       "      <td>0.199676</td>\n",
       "      <td>0.091436</td>\n",
       "      <td>0.048814</td>\n",
       "    </tr>\n",
       "    <tr>\n",
       "      <th>44792</th>\n",
       "      <td>0.164597</td>\n",
       "      <td>0.422916</td>\n",
       "      <td>0.090274</td>\n",
       "      <td>0.126768</td>\n",
       "      <td>0.155709</td>\n",
       "      <td>0.039737</td>\n",
       "    </tr>\n",
       "    <tr>\n",
       "      <th>44793</th>\n",
       "      <td>0.297446</td>\n",
       "      <td>0.294825</td>\n",
       "      <td>0.074738</td>\n",
       "      <td>0.199254</td>\n",
       "      <td>0.100945</td>\n",
       "      <td>0.032792</td>\n",
       "    </tr>\n",
       "    <tr>\n",
       "      <th>44794</th>\n",
       "      <td>0.307117</td>\n",
       "      <td>0.265349</td>\n",
       "      <td>0.081950</td>\n",
       "      <td>0.221630</td>\n",
       "      <td>0.094529</td>\n",
       "      <td>0.029424</td>\n",
       "    </tr>\n",
       "  </tbody>\n",
       "</table>\n",
       "<p>44795 rows × 6 columns</p>\n",
       "</div>"
      ],
      "text/plain": [
       "        sadness       joy      love     anger      fear  surprise\n",
       "0      0.037772  0.865948  0.020204  0.032962  0.023208  0.019906\n",
       "1      0.066016  0.637793  0.148777  0.056284  0.058281  0.032849\n",
       "2      0.557590  0.304692  0.064213  0.023887  0.027135  0.022482\n",
       "3      0.136736  0.362437  0.262408  0.145773  0.065213  0.027435\n",
       "4      0.967274  0.005258  0.016713  0.006844  0.002461  0.001449\n",
       "...         ...       ...       ...       ...       ...       ...\n",
       "44790  0.152381  0.504729  0.055719  0.141408  0.109148  0.036615\n",
       "44791  0.426336  0.203087  0.030651  0.199676  0.091436  0.048814\n",
       "44792  0.164597  0.422916  0.090274  0.126768  0.155709  0.039737\n",
       "44793  0.297446  0.294825  0.074738  0.199254  0.100945  0.032792\n",
       "44794  0.307117  0.265349  0.081950  0.221630  0.094529  0.029424\n",
       "\n",
       "[44795 rows x 6 columns]"
      ]
     },
     "execution_count": 46,
     "metadata": {},
     "output_type": "execute_result"
    }
   ],
   "source": [
    "# here is the scores data series that we will concat to our original data frame\n",
    "scores "
   ]
  },
  {
   "cell_type": "code",
   "execution_count": 47,
   "id": "dc5625c4",
   "metadata": {},
   "outputs": [],
   "source": [
    "# concat the scores to the music to get a df with the scores\n",
    "scored_music=pd.concat([music,scores],axis=1) "
   ]
  },
  {
   "cell_type": "code",
   "execution_count": 49,
   "id": "7300bf19",
   "metadata": {},
   "outputs": [],
   "source": [
    "# useless column\n",
    "scored_music.drop(columns=['Unnamed: 0'],inplace=True) "
   ]
  },
  {
   "cell_type": "code",
   "execution_count": 50,
   "id": "29b33929-f791-4d6b-82fc-42d866099f4e",
   "metadata": {},
   "outputs": [
    {
     "name": "stderr",
     "output_type": "stream",
     "text": [
      "  0%|          | 0/44795 [00:00<?, ?it/s]"
     ]
    },
    {
     "name": "stderr",
     "output_type": "stream",
     "text": [
      "100%|██████████| 44795/44795 [06:29<00:00, 115.05it/s]\n"
     ]
    }
   ],
   "source": [
    "# we also want a column with just the vectors\n",
    "vector=music['text'].progress_apply(emotion_score) "
   ]
  },
  {
   "cell_type": "code",
   "execution_count": 51,
   "id": "73818238-ca89-46a7-a8e3-5f771ce7f8b9",
   "metadata": {},
   "outputs": [],
   "source": [
    "# create a column to store the vectors\n",
    "scored_music['vector']=vector "
   ]
  },
  {
   "cell_type": "code",
   "execution_count": 52,
   "id": "06a09800-d232-4ad9-ab2d-e4f8a03cd743",
   "metadata": {},
   "outputs": [
    {
     "data": {
      "text/html": [
       "<div>\n",
       "<style scoped>\n",
       "    .dataframe tbody tr th:only-of-type {\n",
       "        vertical-align: middle;\n",
       "    }\n",
       "\n",
       "    .dataframe tbody tr th {\n",
       "        vertical-align: top;\n",
       "    }\n",
       "\n",
       "    .dataframe thead th {\n",
       "        text-align: right;\n",
       "    }\n",
       "</style>\n",
       "<table border=\"1\" class=\"dataframe\">\n",
       "  <thead>\n",
       "    <tr style=\"text-align: right;\">\n",
       "      <th></th>\n",
       "      <th>artist</th>\n",
       "      <th>song</th>\n",
       "      <th>link</th>\n",
       "      <th>text</th>\n",
       "      <th>sadness</th>\n",
       "      <th>joy</th>\n",
       "      <th>love</th>\n",
       "      <th>anger</th>\n",
       "      <th>fear</th>\n",
       "      <th>surprise</th>\n",
       "      <th>vector</th>\n",
       "    </tr>\n",
       "  </thead>\n",
       "  <tbody>\n",
       "    <tr>\n",
       "      <th>1290</th>\n",
       "      <td>Bette Midler</td>\n",
       "      <td>I Remember You</td>\n",
       "      <td>/b/bette+midler/i+remember+you_20017007.html</td>\n",
       "      <td>i remember you. you're the one who made my dre...</td>\n",
       "      <td>0.218151</td>\n",
       "      <td>0.231523</td>\n",
       "      <td>0.112770</td>\n",
       "      <td>0.110902</td>\n",
       "      <td>0.170540</td>\n",
       "      <td>0.156115</td>\n",
       "      <td>[0.21815059097238804, 0.23152251377323413, 0.1...</td>\n",
       "    </tr>\n",
       "    <tr>\n",
       "      <th>12655</th>\n",
       "      <td>Nirvana</td>\n",
       "      <td>Negative Creep</td>\n",
       "      <td>/n/nirvana/negative+creep_20100986.html</td>\n",
       "      <td>this is out of our reach this is out of our re...</td>\n",
       "      <td>0.302437</td>\n",
       "      <td>0.181382</td>\n",
       "      <td>0.052648</td>\n",
       "      <td>0.326273</td>\n",
       "      <td>0.115412</td>\n",
       "      <td>0.021848</td>\n",
       "      <td>[0.30243722812567275, 0.18138196027271103, 0.0...</td>\n",
       "    </tr>\n",
       "    <tr>\n",
       "      <th>40392</th>\n",
       "      <td>Scorpions</td>\n",
       "      <td>Destin</td>\n",
       "      <td>/s/scorpions/destin_20122670.html</td>\n",
       "      <td>do you say a prayer when your feeling down do ...</td>\n",
       "      <td>0.213674</td>\n",
       "      <td>0.572996</td>\n",
       "      <td>0.053409</td>\n",
       "      <td>0.073524</td>\n",
       "      <td>0.067277</td>\n",
       "      <td>0.019119</td>\n",
       "      <td>[0.21367433070710073, 0.5729957097129348, 0.05...</td>\n",
       "    </tr>\n",
       "    <tr>\n",
       "      <th>31336</th>\n",
       "      <td>Joni Mitchell</td>\n",
       "      <td>Ethiopia</td>\n",
       "      <td>/j/joni+mitchell/ethiopia_20075311.html</td>\n",
       "      <td>hot winds and hunger cries--ethiopia flies in ...</td>\n",
       "      <td>0.284354</td>\n",
       "      <td>0.239677</td>\n",
       "      <td>0.118459</td>\n",
       "      <td>0.245663</td>\n",
       "      <td>0.081239</td>\n",
       "      <td>0.030607</td>\n",
       "      <td>[0.28435439380123806, 0.23967740983201632, 0.1...</td>\n",
       "    </tr>\n",
       "    <tr>\n",
       "      <th>24808</th>\n",
       "      <td>Devo</td>\n",
       "      <td>Mr. B's Ballroom</td>\n",
       "      <td>/d/devo/mr+bs+ballroom_10084260.html</td>\n",
       "      <td>three cheers! they're yellin' again three chee...</td>\n",
       "      <td>0.307410</td>\n",
       "      <td>0.294094</td>\n",
       "      <td>0.106825</td>\n",
       "      <td>0.110291</td>\n",
       "      <td>0.131367</td>\n",
       "      <td>0.050013</td>\n",
       "      <td>[0.30740997178756196, 0.2940941701538825, 0.10...</td>\n",
       "    </tr>\n",
       "  </tbody>\n",
       "</table>\n",
       "</div>"
      ],
      "text/plain": [
       "              artist              song  \\\n",
       "1290    Bette Midler    I Remember You   \n",
       "12655        Nirvana    Negative Creep   \n",
       "40392      Scorpions            Destin   \n",
       "31336  Joni Mitchell          Ethiopia   \n",
       "24808           Devo  Mr. B's Ballroom   \n",
       "\n",
       "                                               link  \\\n",
       "1290   /b/bette+midler/i+remember+you_20017007.html   \n",
       "12655       /n/nirvana/negative+creep_20100986.html   \n",
       "40392             /s/scorpions/destin_20122670.html   \n",
       "31336       /j/joni+mitchell/ethiopia_20075311.html   \n",
       "24808          /d/devo/mr+bs+ballroom_10084260.html   \n",
       "\n",
       "                                                    text   sadness       joy  \\\n",
       "1290   i remember you. you're the one who made my dre...  0.218151  0.231523   \n",
       "12655  this is out of our reach this is out of our re...  0.302437  0.181382   \n",
       "40392  do you say a prayer when your feeling down do ...  0.213674  0.572996   \n",
       "31336  hot winds and hunger cries--ethiopia flies in ...  0.284354  0.239677   \n",
       "24808  three cheers! they're yellin' again three chee...  0.307410  0.294094   \n",
       "\n",
       "           love     anger      fear  surprise  \\\n",
       "1290   0.112770  0.110902  0.170540  0.156115   \n",
       "12655  0.052648  0.326273  0.115412  0.021848   \n",
       "40392  0.053409  0.073524  0.067277  0.019119   \n",
       "31336  0.118459  0.245663  0.081239  0.030607   \n",
       "24808  0.106825  0.110291  0.131367  0.050013   \n",
       "\n",
       "                                                  vector  \n",
       "1290   [0.21815059097238804, 0.23152251377323413, 0.1...  \n",
       "12655  [0.30243722812567275, 0.18138196027271103, 0.0...  \n",
       "40392  [0.21367433070710073, 0.5729957097129348, 0.05...  \n",
       "31336  [0.28435439380123806, 0.23967740983201632, 0.1...  \n",
       "24808  [0.30740997178756196, 0.2940941701538825, 0.10...  "
      ]
     },
     "execution_count": 52,
     "metadata": {},
     "output_type": "execute_result"
    }
   ],
   "source": [
    "# our final dataframe\n",
    "scored_music.sample(5) "
   ]
  },
  {
   "cell_type": "code",
   "execution_count": 53,
   "id": "ca6f8420-a68f-4c61-860f-b3a8d8da6a4f",
   "metadata": {},
   "outputs": [],
   "source": [
    "# use pickle to pickle the variables instead of joblib"
   ]
  },
  {
   "cell_type": "code",
   "execution_count": 54,
   "id": "688e7509-cf71-4cd3-9e5d-4feeb13db8ca",
   "metadata": {},
   "outputs": [],
   "source": [
    "import pickle"
   ]
  },
  {
   "cell_type": "code",
   "execution_count": 55,
   "id": "aaca0fe6-5ce0-4d74-bd1c-d589efd242b2",
   "metadata": {},
   "outputs": [],
   "source": [
    "#with open('emotion_model.pkl', 'wb') as file:\n",
    "    #pickle.dump(model, file)"
   ]
  },
  {
   "cell_type": "code",
   "execution_count": 56,
   "id": "be697e1f-8aff-4396-8476-243d8b15c3e9",
   "metadata": {},
   "outputs": [],
   "source": [
    "#with open('vectorizer.pkl','wb') as file:\n",
    "    #pickle.dump(vectorizer,file)"
   ]
  },
  {
   "cell_type": "code",
   "execution_count": 57,
   "id": "8f76de32-d92f-47e9-9e4b-7d9ced448980",
   "metadata": {},
   "outputs": [],
   "source": [
    "#with open('scored_music.pkl','wb') as file:\n",
    "    #pickle.dump(scored_music,file)"
   ]
  },
  {
   "cell_type": "code",
   "execution_count": null,
   "id": "d5d27813-3e54-4a6f-b6f7-d15c1c046812",
   "metadata": {},
   "outputs": [],
   "source": []
  }
 ],
 "metadata": {
  "kernelspec": {
   "display_name": "base",
   "language": "python",
   "name": "python3"
  },
  "language_info": {
   "codemirror_mode": {
    "name": "ipython",
    "version": 3
   },
   "file_extension": ".py",
   "mimetype": "text/x-python",
   "name": "python",
   "nbconvert_exporter": "python",
   "pygments_lexer": "ipython3",
   "version": "3.9.19"
  }
 },
 "nbformat": 4,
 "nbformat_minor": 5
}
