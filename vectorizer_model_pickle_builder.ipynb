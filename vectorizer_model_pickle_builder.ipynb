{
 "cells": [
  {
   "cell_type": "code",
   "execution_count": 1,
   "id": "ce65c0ee-1f63-4339-847e-3671aefacaee",
   "metadata": {},
   "outputs": [
    {
     "name": "stderr",
     "output_type": "stream",
     "text": [
      "[nltk_data] Downloading package punkt to\n",
      "[nltk_data]     C:\\Users\\mccal\\AppData\\Roaming\\nltk_data...\n",
      "[nltk_data]   Package punkt is already up-to-date!\n",
      "[nltk_data] Downloading package stopwords to\n",
      "[nltk_data]     C:\\Users\\mccal\\AppData\\Roaming\\nltk_data...\n",
      "[nltk_data]   Package stopwords is already up-to-date!\n"
     ]
    }
   ],
   "source": [
    "import pandas as pd\n",
    "import nltk\n",
    "# word tokenize will turn each word in a text string into a token\n",
    "from nltk.tokenize import word_tokenize \n",
    "# punkt is a language aware model that can handle punctuation in text\n",
    "nltk.download('punkt')\n",
    "# i don't think there is any punctuation in the data that we are using to train this model but best to be safe\n",
    "# there are definitely stop words in the data we will use to build the model (words that do not have sentiment)\n",
    "from nltk.corpus import stopwords\n",
    "nltk.download('stopwords')\n",
    "# this weighs the importance of a word based on freqeuency (feature extraction tool)\n",
    "from sklearn.feature_extraction.text import TfidfVectorizer\n",
    "# we all know what this is\n",
    "from sklearn.model_selection import train_test_split\n",
    " # this is our model of choice\n",
    "from sklearn.linear_model import LogisticRegression\n",
    "# we will use this to see how accurate the model is\n",
    "from sklearn.metrics import accuracy_score, classification_report   \n",
    "  "
   ]
  },
  {
   "cell_type": "code",
   "execution_count": 2,
   "id": "52d3c9cc-514d-485a-a2f5-50585285688c",
   "metadata": {},
   "outputs": [],
   "source": [
    "# reading in labeled text data to make the model\n",
    "emotions=pd.read_csv('emotions.csv') "
   ]
  },
  {
   "cell_type": "code",
   "execution_count": 3,
   "id": "83118472-2494-484c-a92d-97764e5803ef",
   "metadata": {},
   "outputs": [
    {
     "name": "stdout",
     "output_type": "stream",
     "text": [
      "<class 'pandas.core.frame.DataFrame'>\n",
      "RangeIndex: 416809 entries, 0 to 416808\n",
      "Data columns (total 2 columns):\n",
      " #   Column  Non-Null Count   Dtype \n",
      "---  ------  --------------   ----- \n",
      " 0   text    416809 non-null  object\n",
      " 1   label   416809 non-null  int64 \n",
      "dtypes: int64(1), object(1)\n",
      "memory usage: 6.4+ MB\n"
     ]
    }
   ],
   "source": [
    "# basic data information\n",
    "emotions.info() "
   ]
  },
  {
   "cell_type": "code",
   "execution_count": 4,
   "id": "c284e670-454f-42a6-ba34-3f82c04e501c",
   "metadata": {},
   "outputs": [
    {
     "data": {
      "text/html": [
       "<div>\n",
       "<style scoped>\n",
       "    .dataframe tbody tr th:only-of-type {\n",
       "        vertical-align: middle;\n",
       "    }\n",
       "\n",
       "    .dataframe tbody tr th {\n",
       "        vertical-align: top;\n",
       "    }\n",
       "\n",
       "    .dataframe thead th {\n",
       "        text-align: right;\n",
       "    }\n",
       "</style>\n",
       "<table border=\"1\" class=\"dataframe\">\n",
       "  <thead>\n",
       "    <tr style=\"text-align: right;\">\n",
       "      <th></th>\n",
       "      <th>text</th>\n",
       "      <th>label</th>\n",
       "    </tr>\n",
       "  </thead>\n",
       "  <tbody>\n",
       "    <tr>\n",
       "      <th>0</th>\n",
       "      <td>i just feel really helpless and heavy hearted</td>\n",
       "      <td>4</td>\n",
       "    </tr>\n",
       "    <tr>\n",
       "      <th>1</th>\n",
       "      <td>ive enjoyed being able to slouch about relax a...</td>\n",
       "      <td>0</td>\n",
       "    </tr>\n",
       "    <tr>\n",
       "      <th>2</th>\n",
       "      <td>i gave up my internship with the dmrg and am f...</td>\n",
       "      <td>4</td>\n",
       "    </tr>\n",
       "    <tr>\n",
       "      <th>3</th>\n",
       "      <td>i dont know i feel so lost</td>\n",
       "      <td>0</td>\n",
       "    </tr>\n",
       "    <tr>\n",
       "      <th>4</th>\n",
       "      <td>i am a kindergarten teacher and i am thoroughl...</td>\n",
       "      <td>4</td>\n",
       "    </tr>\n",
       "  </tbody>\n",
       "</table>\n",
       "</div>"
      ],
      "text/plain": [
       "                                                text  label\n",
       "0      i just feel really helpless and heavy hearted      4\n",
       "1  ive enjoyed being able to slouch about relax a...      0\n",
       "2  i gave up my internship with the dmrg and am f...      4\n",
       "3                         i dont know i feel so lost      0\n",
       "4  i am a kindergarten teacher and i am thoroughl...      4"
      ]
     },
     "execution_count": 4,
     "metadata": {},
     "output_type": "execute_result"
    }
   ],
   "source": [
    "# here's what the data looks like\n",
    "emotions.head() "
   ]
  },
  {
   "cell_type": "code",
   "execution_count": 5,
   "id": "66c7dad2-3fff-4622-bf46-b657fd4b6390",
   "metadata": {},
   "outputs": [],
   "source": [
    "# sadness (0), joy (1), love (2), anger (3), fear (4), and surprise (5) emotions and their label"
   ]
  },
  {
   "cell_type": "code",
   "execution_count": 6,
   "id": "314b30f9-b76b-4a47-b59e-d0902572ae1d",
   "metadata": {},
   "outputs": [
    {
     "data": {
      "text/plain": [
       "1    141067\n",
       "0    121187\n",
       "3     57317\n",
       "4     47712\n",
       "2     34554\n",
       "5     14972\n",
       "Name: label, dtype: int64"
      ]
     },
     "execution_count": 6,
     "metadata": {},
     "output_type": "execute_result"
    }
   ],
   "source": [
    "# we have some really unbalanced data here, this is what we adress first if we want to improve the model\n",
    "emotions.label.value_counts() "
   ]
  },
  {
   "cell_type": "code",
   "execution_count": 7,
   "id": "6960ecef-228c-4523-96be-ac7ae8b79e9c",
   "metadata": {},
   "outputs": [],
   "source": [
    "# i am writing a function that tokenizes text that we can apply to the text column\n",
    "def tokenize(text):\n",
    "    return nltk.word_tokenize(text.lower()) "
   ]
  },
  {
   "cell_type": "code",
   "execution_count": 8,
   "id": "60f29520-98e1-4b9c-ab45-51bd9db5e6ed",
   "metadata": {},
   "outputs": [],
   "source": [
    "# applying the tokenizer function to create a tokens column\n",
    "emotions['tokens']=emotions['text'].apply(tokenize) "
   ]
  },
  {
   "cell_type": "code",
   "execution_count": 9,
   "id": "04f37494-12ad-4010-bf99-5389a0f02566",
   "metadata": {},
   "outputs": [],
   "source": [
    "# this is going to be a set containing all of the english stop words\n",
    "stop_words = set(stopwords.words('english')) "
   ]
  },
  {
   "cell_type": "code",
   "execution_count": 10,
   "id": "f7ea2618-96b0-4837-9176-d6b13f87f423",
   "metadata": {},
   "outputs": [],
   "source": [
    "# we are creating a column of tokens that do not contain any words we do not want to feed the model\n",
    "emotions['filtered_tokens'] = emotions['tokens'].apply(lambda x: [word for word in x if word not in stop_words])"
   ]
  },
  {
   "cell_type": "code",
   "execution_count": 11,
   "id": "73f67382-9f67-4647-88c0-e693d8005a16",
   "metadata": {},
   "outputs": [
    {
     "data": {
      "text/html": [
       "<div>\n",
       "<style scoped>\n",
       "    .dataframe tbody tr th:only-of-type {\n",
       "        vertical-align: middle;\n",
       "    }\n",
       "\n",
       "    .dataframe tbody tr th {\n",
       "        vertical-align: top;\n",
       "    }\n",
       "\n",
       "    .dataframe thead th {\n",
       "        text-align: right;\n",
       "    }\n",
       "</style>\n",
       "<table border=\"1\" class=\"dataframe\">\n",
       "  <thead>\n",
       "    <tr style=\"text-align: right;\">\n",
       "      <th></th>\n",
       "      <th>text</th>\n",
       "      <th>label</th>\n",
       "      <th>tokens</th>\n",
       "      <th>filtered_tokens</th>\n",
       "    </tr>\n",
       "  </thead>\n",
       "  <tbody>\n",
       "    <tr>\n",
       "      <th>0</th>\n",
       "      <td>i just feel really helpless and heavy hearted</td>\n",
       "      <td>4</td>\n",
       "      <td>[i, just, feel, really, helpless, and, heavy, ...</td>\n",
       "      <td>[feel, really, helpless, heavy, hearted]</td>\n",
       "    </tr>\n",
       "    <tr>\n",
       "      <th>1</th>\n",
       "      <td>ive enjoyed being able to slouch about relax a...</td>\n",
       "      <td>0</td>\n",
       "      <td>[ive, enjoyed, being, able, to, slouch, about,...</td>\n",
       "      <td>[ive, enjoyed, able, slouch, relax, unwind, fr...</td>\n",
       "    </tr>\n",
       "    <tr>\n",
       "      <th>2</th>\n",
       "      <td>i gave up my internship with the dmrg and am f...</td>\n",
       "      <td>4</td>\n",
       "      <td>[i, gave, up, my, internship, with, the, dmrg,...</td>\n",
       "      <td>[gave, internship, dmrg, feeling, distraught]</td>\n",
       "    </tr>\n",
       "    <tr>\n",
       "      <th>3</th>\n",
       "      <td>i dont know i feel so lost</td>\n",
       "      <td>0</td>\n",
       "      <td>[i, dont, know, i, feel, so, lost]</td>\n",
       "      <td>[dont, know, feel, lost]</td>\n",
       "    </tr>\n",
       "    <tr>\n",
       "      <th>4</th>\n",
       "      <td>i am a kindergarten teacher and i am thoroughl...</td>\n",
       "      <td>4</td>\n",
       "      <td>[i, am, a, kindergarten, teacher, and, i, am, ...</td>\n",
       "      <td>[kindergarten, teacher, thoroughly, weary, job...</td>\n",
       "    </tr>\n",
       "  </tbody>\n",
       "</table>\n",
       "</div>"
      ],
      "text/plain": [
       "                                                text  label  \\\n",
       "0      i just feel really helpless and heavy hearted      4   \n",
       "1  ive enjoyed being able to slouch about relax a...      0   \n",
       "2  i gave up my internship with the dmrg and am f...      4   \n",
       "3                         i dont know i feel so lost      0   \n",
       "4  i am a kindergarten teacher and i am thoroughl...      4   \n",
       "\n",
       "                                              tokens  \\\n",
       "0  [i, just, feel, really, helpless, and, heavy, ...   \n",
       "1  [ive, enjoyed, being, able, to, slouch, about,...   \n",
       "2  [i, gave, up, my, internship, with, the, dmrg,...   \n",
       "3                 [i, dont, know, i, feel, so, lost]   \n",
       "4  [i, am, a, kindergarten, teacher, and, i, am, ...   \n",
       "\n",
       "                                     filtered_tokens  \n",
       "0           [feel, really, helpless, heavy, hearted]  \n",
       "1  [ive, enjoyed, able, slouch, relax, unwind, fr...  \n",
       "2      [gave, internship, dmrg, feeling, distraught]  \n",
       "3                           [dont, know, feel, lost]  \n",
       "4  [kindergarten, teacher, thoroughly, weary, job...  "
      ]
     },
     "execution_count": 11,
     "metadata": {},
     "output_type": "execute_result"
    }
   ],
   "source": [
    " # here's what our data looks like now with the new features\n",
    "emotions.head()"
   ]
  },
  {
   "cell_type": "code",
   "execution_count": 12,
   "id": "08fd9246-af8f-4881-b549-38cd48bdbe9d",
   "metadata": {},
   "outputs": [],
   "source": [
    "# what's happening here is we are creating a column combining the filtered tokens back together into a text string\n",
    "emotions['text_combined'] = emotions['filtered_tokens'].apply(lambda x: ' '.join(x))"
   ]
  },
  {
   "cell_type": "code",
   "execution_count": 13,
   "id": "72b6cb34-14ca-4684-81ea-5cb84c1b170d",
   "metadata": {},
   "outputs": [],
   "source": [
    "# i mentioned earlier that this is going to make the text readable for the logistic regression  model\n",
    "# this is going to create vectors from our text that we can use for training\n",
    "# the vectors are made with term frequency, relative to amount of documents, which in turn tells us something about their importance\n",
    "vectorizer = TfidfVectorizer()"
   ]
  },
  {
   "cell_type": "code",
   "execution_count": 14,
   "id": "ba17bef7",
   "metadata": {},
   "outputs": [],
   "source": [
    "X = emotions[\"text_combined\"]\n",
    "y = emotions[\"label\"]"
   ]
  },
  {
   "cell_type": "code",
   "execution_count": 15,
   "id": "5239631a-de39-45dc-9625-f21851492186",
   "metadata": {},
   "outputs": [],
   "source": [
    "# splitting the data into training data and testing data\n",
    "# 42 was chosen arbitrarily\n",
    "# random state accepts any number in range [-2,147,483,648 , 2,147,483,647]\n",
    "X_train, X_test, y_train, y_test = train_test_split(X, y, test_size=0.2, random_state=42)"
   ]
  },
  {
   "cell_type": "code",
   "execution_count": 16,
   "id": "3fb98413",
   "metadata": {},
   "outputs": [],
   "source": [
    "# fit a tfidf vectorizer on the training data then implement it\n",
    "X_train = vectorizer.fit_transform(X_train)"
   ]
  },
  {
   "cell_type": "code",
   "execution_count": 17,
   "id": "9282b8ef-2822-4259-8c41-974051eaf34c",
   "metadata": {},
   "outputs": [],
   "source": [
    "# Default is 'l2'\n",
    "# i chose 1000 for max_iter because it was large enough to reach convergence\n",
    "model = LogisticRegression(penalty='l2', max_iter=1000) "
   ]
  },
  {
   "cell_type": "code",
   "execution_count": 18,
   "id": "146fd7f5-1bb0-478c-a0f5-4039c9430673",
   "metadata": {},
   "outputs": [
    {
     "data": {
      "text/plain": [
       "LogisticRegression(max_iter=1000)"
      ]
     },
     "execution_count": 18,
     "metadata": {},
     "output_type": "execute_result"
    }
   ],
   "source": [
    "# fit the model\n",
    "model.fit(X_train, y_train)"
   ]
  },
  {
   "cell_type": "code",
   "execution_count": 19,
   "id": "543f92e7",
   "metadata": {},
   "outputs": [],
   "source": [
    "X_test = vectorizer.transform(X_test)"
   ]
  },
  {
   "cell_type": "code",
   "execution_count": 20,
   "id": "3257f872-5d30-47d3-9b4d-9af0e2c75ae9",
   "metadata": {},
   "outputs": [],
   "source": [
    "# basic prediction function call\n",
    "y_pred = model.predict(X_test)"
   ]
  },
  {
   "cell_type": "code",
   "execution_count": 21,
   "id": "a1c6894b-c026-4d07-a268-d60bba2c4c7d",
   "metadata": {},
   "outputs": [],
   "source": [
    "accuracy = accuracy_score(y_test, y_pred)"
   ]
  },
  {
   "cell_type": "code",
   "execution_count": 22,
   "id": "02eb8c38-22ce-4ef4-9a67-4472a4630017",
   "metadata": {},
   "outputs": [
    {
     "data": {
      "text/plain": [
       "0.8938005326167798"
      ]
     },
     "execution_count": 22,
     "metadata": {},
     "output_type": "execute_result"
    }
   ],
   "source": [
    "# did pretty well\n",
    "accuracy "
   ]
  },
  {
   "cell_type": "code",
   "execution_count": 23,
   "id": "cb1359fc-3e24-435f-b6ee-c93a7a76a3c6",
   "metadata": {},
   "outputs": [],
   "source": [
    "# we aren't after the models prediction for the labels\n",
    "# we are after the probability scores for each label because we want nuanced emotion vectors\n",
    "# lets do a demo"
   ]
  },
  {
   "cell_type": "code",
   "execution_count": 24,
   "id": "baa1efc0-8053-4501-8278-c4236276b4e6",
   "metadata": {},
   "outputs": [],
   "source": [
    "# here is a string that i am going to write that will contain some things i want to say about my emotional state\n",
    "hank_feeling = 'i had a stressfull day but i was able to get a lot done which made me proud'"
   ]
  },
  {
   "cell_type": "code",
   "execution_count": 25,
   "id": "4961e653-5005-4e56-90f1-efaa2605ab8a",
   "metadata": {},
   "outputs": [],
   "source": [
    "# in order to pull an emotion vector from this string we need to apply the same principles we used to train the model\n",
    "# we need to tokenize the text\n",
    "# we need to filter the tokenized text for stopwords\n",
    "# we need to re join that filtered token into plain text\n",
    "# we need to extract features using tfidf vectorization\n",
    "# we need to tell the model to predict probabilites NOT the label\n",
    "# we're gonna investigate what the probabilities look like"
   ]
  },
  {
   "cell_type": "code",
   "execution_count": 26,
   "id": "e292372b-f28e-4714-9a98-08c9a6af4ce2",
   "metadata": {},
   "outputs": [],
   "source": [
    "#  recall this key; sadness (0), joy (1), love (2), anger (3), fear (4), and surprise (5) emotions and their label"
   ]
  },
  {
   "cell_type": "code",
   "execution_count": 27,
   "id": "07ae7a7d-b5d0-43dc-a89b-4e84b5be4a0a",
   "metadata": {},
   "outputs": [],
   "source": [
    "# now let's write a function that does that whole process for us"
   ]
  },
  {
   "cell_type": "code",
   "execution_count": 28,
   "id": "a1fb3c98-ef69-4f90-a0c7-1b24f540fa50",
   "metadata": {},
   "outputs": [],
   "source": [
    "def emotion_score(user_input):\n",
    "    # tokenize the input\n",
    "    input_tokens = nltk.word_tokenize(user_input.lower()) \n",
    "    # filter stopwords out of the input\n",
    "    filtered_input_tokens = [word for word in input_tokens if word not in stop_words] \n",
    "    # re-join the filtered tokens\n",
    "    input_combined = ' '.join(filtered_input_tokens) \n",
    "    # feature extraction\n",
    "    input_vector = vectorizer.transform([input_combined]) \n",
    "    # pull the probabilities from the input\n",
    "    probabilities = model.predict_proba(input_vector)\n",
    "    # return the probabilities\n",
    "    return probabilities.tolist()[0] "
   ]
  },
  {
   "cell_type": "code",
   "execution_count": 29,
   "id": "7918448e-3f19-4624-938c-836aa0a5f489",
   "metadata": {},
   "outputs": [
    {
     "data": {
      "text/plain": [
       "[0.01451814599024002,\n",
       " 0.9553725169077298,\n",
       " 0.009214358151940431,\n",
       " 0.009108672106888238,\n",
       " 0.005062137502834668,\n",
       " 0.006724169340367127]"
      ]
     },
     "execution_count": 29,
     "metadata": {},
     "output_type": "execute_result"
    }
   ],
   "source": [
    "emotion_score(hank_feeling) # test drive"
   ]
  },
  {
   "cell_type": "code",
   "execution_count": 30,
   "id": "ab94086c-a672-4f88-b973-18a3126c065c",
   "metadata": {},
   "outputs": [],
   "source": [
    "# i wanna run this function on an entire data frame of song lyrics\n",
    "music=pd.read_csv('songs_with_lyrics_Cleaned.csv') "
   ]
  },
  {
   "cell_type": "code",
   "execution_count": 31,
   "id": "9226bb13-8fa9-4dd3-8d8f-0c4eda91b48c",
   "metadata": {},
   "outputs": [
    {
     "data": {
      "text/html": [
       "<div>\n",
       "<style scoped>\n",
       "    .dataframe tbody tr th:only-of-type {\n",
       "        vertical-align: middle;\n",
       "    }\n",
       "\n",
       "    .dataframe tbody tr th {\n",
       "        vertical-align: top;\n",
       "    }\n",
       "\n",
       "    .dataframe thead th {\n",
       "        text-align: right;\n",
       "    }\n",
       "</style>\n",
       "<table border=\"1\" class=\"dataframe\">\n",
       "  <thead>\n",
       "    <tr style=\"text-align: right;\">\n",
       "      <th></th>\n",
       "      <th>Unnamed: 0</th>\n",
       "      <th>artist</th>\n",
       "      <th>song</th>\n",
       "      <th>link</th>\n",
       "      <th>text</th>\n",
       "    </tr>\n",
       "  </thead>\n",
       "  <tbody>\n",
       "    <tr>\n",
       "      <th>0</th>\n",
       "      <td>0</td>\n",
       "      <td>ABBA</td>\n",
       "      <td>Ahe's My Kind Of Girl</td>\n",
       "      <td>/a/abba/ahes+my+kind+of+girl_20598417.html</td>\n",
       "      <td>look at her face, it's a wonderful face and it...</td>\n",
       "    </tr>\n",
       "    <tr>\n",
       "      <th>1</th>\n",
       "      <td>1</td>\n",
       "      <td>ABBA</td>\n",
       "      <td>Andante, Andante</td>\n",
       "      <td>/a/abba/andante+andante_20002708.html</td>\n",
       "      <td>take it easy with me, please touch me gently l...</td>\n",
       "    </tr>\n",
       "    <tr>\n",
       "      <th>2</th>\n",
       "      <td>2</td>\n",
       "      <td>ABBA</td>\n",
       "      <td>As Good As New</td>\n",
       "      <td>/a/abba/as+good+as+new_20003033.html</td>\n",
       "      <td>i'll never know why i had to go why i had to p...</td>\n",
       "    </tr>\n",
       "    <tr>\n",
       "      <th>3</th>\n",
       "      <td>3</td>\n",
       "      <td>ABBA</td>\n",
       "      <td>Bang</td>\n",
       "      <td>/a/abba/bang_20598415.html</td>\n",
       "      <td>making somebody happy is a question of give an...</td>\n",
       "    </tr>\n",
       "    <tr>\n",
       "      <th>4</th>\n",
       "      <td>4</td>\n",
       "      <td>ABBA</td>\n",
       "      <td>Bang-A-Boomerang</td>\n",
       "      <td>/a/abba/bang+a+boomerang_20002668.html</td>\n",
       "      <td>making somebody happy is a question of give an...</td>\n",
       "    </tr>\n",
       "  </tbody>\n",
       "</table>\n",
       "</div>"
      ],
      "text/plain": [
       "   Unnamed: 0 artist                   song  \\\n",
       "0           0   ABBA  Ahe's My Kind Of Girl   \n",
       "1           1   ABBA       Andante, Andante   \n",
       "2           2   ABBA         As Good As New   \n",
       "3           3   ABBA                   Bang   \n",
       "4           4   ABBA       Bang-A-Boomerang   \n",
       "\n",
       "                                         link  \\\n",
       "0  /a/abba/ahes+my+kind+of+girl_20598417.html   \n",
       "1       /a/abba/andante+andante_20002708.html   \n",
       "2        /a/abba/as+good+as+new_20003033.html   \n",
       "3                  /a/abba/bang_20598415.html   \n",
       "4      /a/abba/bang+a+boomerang_20002668.html   \n",
       "\n",
       "                                                text  \n",
       "0  look at her face, it's a wonderful face and it...  \n",
       "1  take it easy with me, please touch me gently l...  \n",
       "2  i'll never know why i had to go why i had to p...  \n",
       "3  making somebody happy is a question of give an...  \n",
       "4  making somebody happy is a question of give an...  "
      ]
     },
     "execution_count": 31,
     "metadata": {},
     "output_type": "execute_result"
    }
   ],
   "source": [
    " # here's what the data frame with music data and song lyrics\n",
    "music.head()"
   ]
  },
  {
   "cell_type": "code",
   "execution_count": 32,
   "id": "65d0821d-2e38-4ae7-b0b1-149c92fd9792",
   "metadata": {},
   "outputs": [
    {
     "data": {
      "text/plain": [
       "[0.7279565979649304,\n",
       " 0.134221973501646,\n",
       " 0.03065877030105599,\n",
       " 0.04333536542173937,\n",
       " 0.03509448096248684,\n",
       " 0.0287328118481416]"
      ]
     },
     "execution_count": 32,
     "metadata": {},
     "output_type": "execute_result"
    }
   ],
   "source": [
    "# demo for how the song handles user input\n",
    "emotion_score(' i had a pretty rough day, can you recommend me a sad song?')"
   ]
  },
  {
   "cell_type": "code",
   "execution_count": 33,
   "id": "e95ebb7e-0d41-4e89-8096-e8ccd1d619a3",
   "metadata": {},
   "outputs": [],
   "source": [
    "# write a function that vectorizes the song lyric data with an emotion score dictionary in order to create a table for the lyric scores"
   ]
  },
  {
   "cell_type": "code",
   "execution_count": 34,
   "id": "9568a222-80eb-407c-80b7-9c50b77e9f97",
   "metadata": {},
   "outputs": [],
   "source": [
    "def emotion_dictionary(user_input):\n",
    "    # make tokens\n",
    "    input_tokens = nltk.word_tokenize(user_input.lower()) \n",
    "    # filter the tokens\n",
    "    filtered_input_tokens = [word for word in input_tokens if word not in stop_words] \n",
    "    # recombine filtered tokens\n",
    "    input_combined = ' '.join(filtered_input_tokens) \n",
    "    # tfidf feature extraction\n",
    "    input_vector = vectorizer.transform([input_combined]) \n",
    "    # call the probabilities\n",
    "    probabilities = model.predict_proba(input_vector) \n",
    "    # create the vector\n",
    "    emotion_vector = probabilities.tolist()[0] \n",
    "    # use the vector to create a dictionary with the scores and a key that references the scores\n",
    "    return {'sadness': emotion_vector[0], \n",
    "    'joy': emotion_vector[1],\n",
    "    'love': emotion_vector[2],\n",
    "    'anger': emotion_vector[3],\n",
    "    'fear': emotion_vector[4],\n",
    "    'surprise': emotion_vector[5] }"
   ]
  },
  {
   "cell_type": "code",
   "execution_count": 35,
   "id": "1652f7e9-3625-447e-a860-cf2114b12e08",
   "metadata": {},
   "outputs": [],
   "source": [
    "# time to make the score table"
   ]
  },
  {
   "cell_type": "code",
   "execution_count": 36,
   "id": "1d69c974-6b64-4a56-bbd6-14ae461fe6f5",
   "metadata": {},
   "outputs": [],
   "source": [
    "# import tqdm for progress bar\n",
    "from tqdm import tqdm "
   ]
  },
  {
   "cell_type": "code",
   "execution_count": 37,
   "id": "f8e4bc40-9702-41e1-af70-922291982cc3",
   "metadata": {},
   "outputs": [],
   "source": [
    "# call this to get the progress bar\n",
    "tqdm.pandas() "
   ]
  },
  {
   "cell_type": "code",
   "execution_count": 38,
   "id": "f6c2e014-9a32-465d-929c-b5be069c2293",
   "metadata": {},
   "outputs": [
    {
     "name": "stderr",
     "output_type": "stream",
     "text": [
      "100%|██████████| 44795/44795 [05:11<00:00, 143.72it/s]\n"
     ]
    }
   ],
   "source": [
    "# get a series containing the emotion scores for every song\n",
    "scores=music['text'].progress_apply(emotion_dictionary).apply(pd.Series) "
   ]
  },
  {
   "cell_type": "code",
   "execution_count": 39,
   "id": "9842ddd4",
   "metadata": {},
   "outputs": [
    {
     "data": {
      "text/html": [
       "<div>\n",
       "<style scoped>\n",
       "    .dataframe tbody tr th:only-of-type {\n",
       "        vertical-align: middle;\n",
       "    }\n",
       "\n",
       "    .dataframe tbody tr th {\n",
       "        vertical-align: top;\n",
       "    }\n",
       "\n",
       "    .dataframe thead th {\n",
       "        text-align: right;\n",
       "    }\n",
       "</style>\n",
       "<table border=\"1\" class=\"dataframe\">\n",
       "  <thead>\n",
       "    <tr style=\"text-align: right;\">\n",
       "      <th></th>\n",
       "      <th>sadness</th>\n",
       "      <th>joy</th>\n",
       "      <th>love</th>\n",
       "      <th>anger</th>\n",
       "      <th>fear</th>\n",
       "      <th>surprise</th>\n",
       "    </tr>\n",
       "  </thead>\n",
       "  <tbody>\n",
       "    <tr>\n",
       "      <th>0</th>\n",
       "      <td>0.036311</td>\n",
       "      <td>0.868506</td>\n",
       "      <td>0.019026</td>\n",
       "      <td>0.033213</td>\n",
       "      <td>0.022543</td>\n",
       "      <td>0.020402</td>\n",
       "    </tr>\n",
       "    <tr>\n",
       "      <th>1</th>\n",
       "      <td>0.063244</td>\n",
       "      <td>0.643494</td>\n",
       "      <td>0.147380</td>\n",
       "      <td>0.052924</td>\n",
       "      <td>0.059883</td>\n",
       "      <td>0.033075</td>\n",
       "    </tr>\n",
       "    <tr>\n",
       "      <th>2</th>\n",
       "      <td>0.554030</td>\n",
       "      <td>0.301641</td>\n",
       "      <td>0.071583</td>\n",
       "      <td>0.021935</td>\n",
       "      <td>0.027055</td>\n",
       "      <td>0.023757</td>\n",
       "    </tr>\n",
       "    <tr>\n",
       "      <th>3</th>\n",
       "      <td>0.137310</td>\n",
       "      <td>0.356770</td>\n",
       "      <td>0.268195</td>\n",
       "      <td>0.144623</td>\n",
       "      <td>0.065731</td>\n",
       "      <td>0.027370</td>\n",
       "    </tr>\n",
       "    <tr>\n",
       "      <th>4</th>\n",
       "      <td>0.966621</td>\n",
       "      <td>0.005189</td>\n",
       "      <td>0.017372</td>\n",
       "      <td>0.006792</td>\n",
       "      <td>0.002545</td>\n",
       "      <td>0.001481</td>\n",
       "    </tr>\n",
       "    <tr>\n",
       "      <th>...</th>\n",
       "      <td>...</td>\n",
       "      <td>...</td>\n",
       "      <td>...</td>\n",
       "      <td>...</td>\n",
       "      <td>...</td>\n",
       "      <td>...</td>\n",
       "    </tr>\n",
       "    <tr>\n",
       "      <th>44790</th>\n",
       "      <td>0.148298</td>\n",
       "      <td>0.511386</td>\n",
       "      <td>0.055229</td>\n",
       "      <td>0.140651</td>\n",
       "      <td>0.109590</td>\n",
       "      <td>0.034846</td>\n",
       "    </tr>\n",
       "    <tr>\n",
       "      <th>44791</th>\n",
       "      <td>0.433139</td>\n",
       "      <td>0.196215</td>\n",
       "      <td>0.030965</td>\n",
       "      <td>0.198344</td>\n",
       "      <td>0.094397</td>\n",
       "      <td>0.046940</td>\n",
       "    </tr>\n",
       "    <tr>\n",
       "      <th>44792</th>\n",
       "      <td>0.171882</td>\n",
       "      <td>0.412404</td>\n",
       "      <td>0.088898</td>\n",
       "      <td>0.132166</td>\n",
       "      <td>0.154708</td>\n",
       "      <td>0.039942</td>\n",
       "    </tr>\n",
       "    <tr>\n",
       "      <th>44793</th>\n",
       "      <td>0.294399</td>\n",
       "      <td>0.297507</td>\n",
       "      <td>0.073960</td>\n",
       "      <td>0.199487</td>\n",
       "      <td>0.102041</td>\n",
       "      <td>0.032606</td>\n",
       "    </tr>\n",
       "    <tr>\n",
       "      <th>44794</th>\n",
       "      <td>0.303890</td>\n",
       "      <td>0.268195</td>\n",
       "      <td>0.083485</td>\n",
       "      <td>0.217503</td>\n",
       "      <td>0.096369</td>\n",
       "      <td>0.030558</td>\n",
       "    </tr>\n",
       "  </tbody>\n",
       "</table>\n",
       "<p>44795 rows × 6 columns</p>\n",
       "</div>"
      ],
      "text/plain": [
       "        sadness       joy      love     anger      fear  surprise\n",
       "0      0.036311  0.868506  0.019026  0.033213  0.022543  0.020402\n",
       "1      0.063244  0.643494  0.147380  0.052924  0.059883  0.033075\n",
       "2      0.554030  0.301641  0.071583  0.021935  0.027055  0.023757\n",
       "3      0.137310  0.356770  0.268195  0.144623  0.065731  0.027370\n",
       "4      0.966621  0.005189  0.017372  0.006792  0.002545  0.001481\n",
       "...         ...       ...       ...       ...       ...       ...\n",
       "44790  0.148298  0.511386  0.055229  0.140651  0.109590  0.034846\n",
       "44791  0.433139  0.196215  0.030965  0.198344  0.094397  0.046940\n",
       "44792  0.171882  0.412404  0.088898  0.132166  0.154708  0.039942\n",
       "44793  0.294399  0.297507  0.073960  0.199487  0.102041  0.032606\n",
       "44794  0.303890  0.268195  0.083485  0.217503  0.096369  0.030558\n",
       "\n",
       "[44795 rows x 6 columns]"
      ]
     },
     "execution_count": 39,
     "metadata": {},
     "output_type": "execute_result"
    }
   ],
   "source": [
    "# here is the scores data series that we will concat to our original data frame\n",
    "scores "
   ]
  },
  {
   "cell_type": "code",
   "execution_count": 40,
   "id": "dc5625c4",
   "metadata": {},
   "outputs": [],
   "source": [
    "# concat the scores to the music to get a df with the scores\n",
    "scored_music=pd.concat([music,scores],axis=1) "
   ]
  },
  {
   "cell_type": "code",
   "execution_count": 41,
   "id": "7300bf19",
   "metadata": {},
   "outputs": [],
   "source": [
    "# useless column\n",
    "scored_music.drop(columns=['Unnamed: 0'],inplace=True) "
   ]
  },
  {
   "cell_type": "code",
   "execution_count": 42,
   "id": "29b33929-f791-4d6b-82fc-42d866099f4e",
   "metadata": {},
   "outputs": [
    {
     "name": "stderr",
     "output_type": "stream",
     "text": [
      "100%|██████████| 44795/44795 [05:00<00:00, 148.97it/s]\n"
     ]
    }
   ],
   "source": [
    "# we also want a column with just the vectors\n",
    "vector=music['text'].progress_apply(emotion_score) "
   ]
  },
  {
   "cell_type": "code",
   "execution_count": 43,
   "id": "73818238-ca89-46a7-a8e3-5f771ce7f8b9",
   "metadata": {},
   "outputs": [],
   "source": [
    "# create a column to store the vectors\n",
    "scored_music['vector']=vector "
   ]
  },
  {
   "cell_type": "code",
   "execution_count": 44,
   "id": "06a09800-d232-4ad9-ab2d-e4f8a03cd743",
   "metadata": {},
   "outputs": [
    {
     "data": {
      "text/html": [
       "<div>\n",
       "<style scoped>\n",
       "    .dataframe tbody tr th:only-of-type {\n",
       "        vertical-align: middle;\n",
       "    }\n",
       "\n",
       "    .dataframe tbody tr th {\n",
       "        vertical-align: top;\n",
       "    }\n",
       "\n",
       "    .dataframe thead th {\n",
       "        text-align: right;\n",
       "    }\n",
       "</style>\n",
       "<table border=\"1\" class=\"dataframe\">\n",
       "  <thead>\n",
       "    <tr style=\"text-align: right;\">\n",
       "      <th></th>\n",
       "      <th>artist</th>\n",
       "      <th>song</th>\n",
       "      <th>link</th>\n",
       "      <th>text</th>\n",
       "      <th>sadness</th>\n",
       "      <th>joy</th>\n",
       "      <th>love</th>\n",
       "      <th>anger</th>\n",
       "      <th>fear</th>\n",
       "      <th>surprise</th>\n",
       "      <th>vector</th>\n",
       "    </tr>\n",
       "  </thead>\n",
       "  <tbody>\n",
       "    <tr>\n",
       "      <th>18904</th>\n",
       "      <td>XTC</td>\n",
       "      <td>Burning With Optimism's Flames</td>\n",
       "      <td>/x/xtc/burning+with+optimisms+flames_20147983....</td>\n",
       "      <td>never seen her glowing all that bright she's t...</td>\n",
       "      <td>0.247445</td>\n",
       "      <td>0.205680</td>\n",
       "      <td>0.184827</td>\n",
       "      <td>0.165282</td>\n",
       "      <td>0.134163</td>\n",
       "      <td>0.062602</td>\n",
       "      <td>[0.2474450943119507, 0.20568043655593823, 0.18...</td>\n",
       "    </tr>\n",
       "    <tr>\n",
       "      <th>36848</th>\n",
       "      <td>O.A.R.</td>\n",
       "      <td>Whatever Happened</td>\n",
       "      <td>/o/oar/whatever+happened_20748690.html</td>\n",
       "      <td>tell me i'm dreaming my feet are stone and my ...</td>\n",
       "      <td>0.214803</td>\n",
       "      <td>0.227782</td>\n",
       "      <td>0.097041</td>\n",
       "      <td>0.289696</td>\n",
       "      <td>0.110919</td>\n",
       "      <td>0.059758</td>\n",
       "      <td>[0.2148025674851398, 0.2277820059531977, 0.097...</td>\n",
       "    </tr>\n",
       "    <tr>\n",
       "      <th>561</th>\n",
       "      <td>Alison Krauss</td>\n",
       "      <td>Shield Of Faith</td>\n",
       "      <td>/a/alison+krauss/shield+of+faith_20006114.html</td>\n",
       "      <td>sometimes i'm battle weary i forget to use my ...</td>\n",
       "      <td>0.187542</td>\n",
       "      <td>0.437938</td>\n",
       "      <td>0.131063</td>\n",
       "      <td>0.119489</td>\n",
       "      <td>0.101856</td>\n",
       "      <td>0.022111</td>\n",
       "      <td>[0.18754225051755907, 0.43793829990885985, 0.1...</td>\n",
       "    </tr>\n",
       "    <tr>\n",
       "      <th>11659</th>\n",
       "      <td>Michael Jackson</td>\n",
       "      <td>Cinderella Stay Awhile</td>\n",
       "      <td>/m/michael+jackson/cinderella+stay+awhile_2009...</td>\n",
       "      <td>cinderella, stay awhile you're the one that's ...</td>\n",
       "      <td>0.093331</td>\n",
       "      <td>0.492024</td>\n",
       "      <td>0.261747</td>\n",
       "      <td>0.064700</td>\n",
       "      <td>0.067276</td>\n",
       "      <td>0.020922</td>\n",
       "      <td>[0.09333091562654525, 0.492023792453446, 0.261...</td>\n",
       "    </tr>\n",
       "    <tr>\n",
       "      <th>3766</th>\n",
       "      <td>Death</td>\n",
       "      <td>Open Casket</td>\n",
       "      <td>/d/death/open+casket_20293085.html</td>\n",
       "      <td>approach the image filled with fear as the ima...</td>\n",
       "      <td>0.355580</td>\n",
       "      <td>0.089183</td>\n",
       "      <td>0.072271</td>\n",
       "      <td>0.128653</td>\n",
       "      <td>0.238958</td>\n",
       "      <td>0.115356</td>\n",
       "      <td>[0.35557999324820166, 0.08918267886597295, 0.0...</td>\n",
       "    </tr>\n",
       "  </tbody>\n",
       "</table>\n",
       "</div>"
      ],
      "text/plain": [
       "                artist                            song  \\\n",
       "18904              XTC  Burning With Optimism's Flames   \n",
       "36848           O.A.R.               Whatever Happened   \n",
       "561      Alison Krauss                 Shield Of Faith   \n",
       "11659  Michael Jackson          Cinderella Stay Awhile   \n",
       "3766             Death                     Open Casket   \n",
       "\n",
       "                                                    link  \\\n",
       "18904  /x/xtc/burning+with+optimisms+flames_20147983....   \n",
       "36848             /o/oar/whatever+happened_20748690.html   \n",
       "561       /a/alison+krauss/shield+of+faith_20006114.html   \n",
       "11659  /m/michael+jackson/cinderella+stay+awhile_2009...   \n",
       "3766                  /d/death/open+casket_20293085.html   \n",
       "\n",
       "                                                    text   sadness       joy  \\\n",
       "18904  never seen her glowing all that bright she's t...  0.247445  0.205680   \n",
       "36848  tell me i'm dreaming my feet are stone and my ...  0.214803  0.227782   \n",
       "561    sometimes i'm battle weary i forget to use my ...  0.187542  0.437938   \n",
       "11659  cinderella, stay awhile you're the one that's ...  0.093331  0.492024   \n",
       "3766   approach the image filled with fear as the ima...  0.355580  0.089183   \n",
       "\n",
       "           love     anger      fear  surprise  \\\n",
       "18904  0.184827  0.165282  0.134163  0.062602   \n",
       "36848  0.097041  0.289696  0.110919  0.059758   \n",
       "561    0.131063  0.119489  0.101856  0.022111   \n",
       "11659  0.261747  0.064700  0.067276  0.020922   \n",
       "3766   0.072271  0.128653  0.238958  0.115356   \n",
       "\n",
       "                                                  vector  \n",
       "18904  [0.2474450943119507, 0.20568043655593823, 0.18...  \n",
       "36848  [0.2148025674851398, 0.2277820059531977, 0.097...  \n",
       "561    [0.18754225051755907, 0.43793829990885985, 0.1...  \n",
       "11659  [0.09333091562654525, 0.492023792453446, 0.261...  \n",
       "3766   [0.35557999324820166, 0.08918267886597295, 0.0...  "
      ]
     },
     "execution_count": 44,
     "metadata": {},
     "output_type": "execute_result"
    }
   ],
   "source": [
    "# our final dataframe\n",
    "scored_music.sample(5) "
   ]
  },
  {
   "cell_type": "code",
   "execution_count": 45,
   "id": "ca6f8420-a68f-4c61-860f-b3a8d8da6a4f",
   "metadata": {},
   "outputs": [],
   "source": [
    "# use pickle to pickle the variables instead of joblib"
   ]
  },
  {
   "cell_type": "code",
   "execution_count": 47,
   "id": "aaca0fe6-5ce0-4d74-bd1c-d589efd242b2",
   "metadata": {},
   "outputs": [],
   "source": [
    "# import pickle\n",
    "# with open('emotion_model.pkl', 'wb') as file:\n",
    "    # pickle.dump(model, file)\n",
    "# with open('vectorizer.pkl','wb') as file:\n",
    "    # pickle.dump(vectorizer,file)\n",
    "# with open('scored_music.pkl','wb') as file:\n",
    "    # pickle.dump(scored_music,file)"
   ]
  }
 ],
 "metadata": {
  "kernelspec": {
   "display_name": "py36",
   "language": "python",
   "name": "python3"
  },
  "language_info": {
   "codemirror_mode": {
    "name": "ipython",
    "version": 3
   },
   "file_extension": ".py",
   "mimetype": "text/x-python",
   "name": "python",
   "nbconvert_exporter": "python",
   "pygments_lexer": "ipython3",
   "version": "3.6.8"
  }
 },
 "nbformat": 4,
 "nbformat_minor": 5
}
