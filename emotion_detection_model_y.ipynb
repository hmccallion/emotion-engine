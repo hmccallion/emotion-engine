{
 "cells": [
  {
   "cell_type": "code",
   "execution_count": 1,
   "id": "ce65c0ee-1f63-4339-847e-3671aefacaee",
   "metadata": {},
   "outputs": [],
   "source": [
    "import pandas as pd\n",
    "import nltk"
   ]
  },
  {
   "cell_type": "code",
   "execution_count": 2,
   "id": "f8ea1211-1d45-4642-9932-09bf9b183c6e",
   "metadata": {},
   "outputs": [],
   "source": [
    "from nltk.tokenize import word_tokenize # word tokenize will turn each word in a text string into a token"
   ]
  },
  {
   "cell_type": "code",
   "execution_count": 3,
   "id": "25f1a137-0923-4cd5-9db2-7c11eb5df519",
   "metadata": {},
   "outputs": [
    {
     "name": "stderr",
     "output_type": "stream",
     "text": [
      "[nltk_data] Downloading package punkt to\n",
      "[nltk_data]     C:\\Users\\mccal\\AppData\\Roaming\\nltk_data...\n",
      "[nltk_data]   Package punkt is already up-to-date!\n"
     ]
    },
    {
     "data": {
      "text/plain": [
       "True"
      ]
     },
     "execution_count": 3,
     "metadata": {},
     "output_type": "execute_result"
    }
   ],
   "source": [
    "nltk.download('punkt') # punkt is a language aware model that can handle punctuation in text"
   ]
  },
  {
   "cell_type": "code",
   "execution_count": 4,
   "id": "30a68356-4930-4c7b-bab9-b54aa385cbe4",
   "metadata": {},
   "outputs": [],
   "source": [
    "# i don't think there is any punctuation in the data that we are using to train this model but best to be safe"
   ]
  },
  {
   "cell_type": "code",
   "execution_count": 5,
   "id": "16fbf0ca-57c5-4fbd-b016-4d9f897fb3f4",
   "metadata": {},
   "outputs": [
    {
     "name": "stderr",
     "output_type": "stream",
     "text": [
      "[nltk_data] Downloading package stopwords to\n",
      "[nltk_data]     C:\\Users\\mccal\\AppData\\Roaming\\nltk_data...\n",
      "[nltk_data]   Package stopwords is already up-to-date!\n"
     ]
    },
    {
     "data": {
      "text/plain": [
       "True"
      ]
     },
     "execution_count": 5,
     "metadata": {},
     "output_type": "execute_result"
    }
   ],
   "source": [
    "from nltk.corpus import stopwords\n",
    "nltk.download('stopwords') # there are definitely stop words in the data we will use to build the model (words that do not have sentiment)"
   ]
  },
  {
   "cell_type": "code",
   "execution_count": 6,
   "id": "c5af6fac-07e9-47ea-a358-9382e61e04cb",
   "metadata": {},
   "outputs": [],
   "source": [
    "from sklearn.feature_extraction.text import TfidfVectorizer # this weighs the importance of a word based on freqeuency (feature extraction tool)"
   ]
  },
  {
   "cell_type": "code",
   "execution_count": 7,
   "id": "bc6ac302-73ee-4a51-b15d-f2289b51b9a8",
   "metadata": {},
   "outputs": [],
   "source": [
    "from sklearn.model_selection import train_test_split # we all know what this is"
   ]
  },
  {
   "cell_type": "code",
   "execution_count": 8,
   "id": "c4e911b8-c320-4ef0-964b-49ee30af319b",
   "metadata": {},
   "outputs": [],
   "source": [
    "from sklearn.linear_model import LogisticRegression # this is our model of choice"
   ]
  },
  {
   "cell_type": "code",
   "execution_count": 9,
   "id": "11e8b31c-2c59-4ac6-a203-fdb92d6c902c",
   "metadata": {},
   "outputs": [],
   "source": [
    "from sklearn.metrics import accuracy_score, classification_report # we will use this to see how accurate the model is"
   ]
  },
  {
   "cell_type": "code",
   "execution_count": 10,
   "id": "52d3c9cc-514d-485a-a2f5-50585285688c",
   "metadata": {},
   "outputs": [],
   "source": [
    "emotions=pd.read_csv('emotions.csv') # reading in labeled text data to make the model"
   ]
  },
  {
   "cell_type": "code",
   "execution_count": 11,
   "id": "83118472-2494-484c-a92d-97764e5803ef",
   "metadata": {},
   "outputs": [
    {
     "name": "stdout",
     "output_type": "stream",
     "text": [
      "<class 'pandas.core.frame.DataFrame'>\n",
      "RangeIndex: 416809 entries, 0 to 416808\n",
      "Data columns (total 2 columns):\n",
      " #   Column  Non-Null Count   Dtype \n",
      "---  ------  --------------   ----- \n",
      " 0   text    416809 non-null  object\n",
      " 1   label   416809 non-null  int64 \n",
      "dtypes: int64(1), object(1)\n",
      "memory usage: 6.4+ MB\n"
     ]
    }
   ],
   "source": [
    "emotions.info() # basic data information"
   ]
  },
  {
   "cell_type": "code",
   "execution_count": 12,
   "id": "c284e670-454f-42a6-ba34-3f82c04e501c",
   "metadata": {},
   "outputs": [
    {
     "data": {
      "text/html": [
       "<div>\n",
       "<style scoped>\n",
       "    .dataframe tbody tr th:only-of-type {\n",
       "        vertical-align: middle;\n",
       "    }\n",
       "\n",
       "    .dataframe tbody tr th {\n",
       "        vertical-align: top;\n",
       "    }\n",
       "\n",
       "    .dataframe thead th {\n",
       "        text-align: right;\n",
       "    }\n",
       "</style>\n",
       "<table border=\"1\" class=\"dataframe\">\n",
       "  <thead>\n",
       "    <tr style=\"text-align: right;\">\n",
       "      <th></th>\n",
       "      <th>text</th>\n",
       "      <th>label</th>\n",
       "    </tr>\n",
       "  </thead>\n",
       "  <tbody>\n",
       "    <tr>\n",
       "      <th>0</th>\n",
       "      <td>i just feel really helpless and heavy hearted</td>\n",
       "      <td>4</td>\n",
       "    </tr>\n",
       "    <tr>\n",
       "      <th>1</th>\n",
       "      <td>ive enjoyed being able to slouch about relax a...</td>\n",
       "      <td>0</td>\n",
       "    </tr>\n",
       "    <tr>\n",
       "      <th>2</th>\n",
       "      <td>i gave up my internship with the dmrg and am f...</td>\n",
       "      <td>4</td>\n",
       "    </tr>\n",
       "    <tr>\n",
       "      <th>3</th>\n",
       "      <td>i dont know i feel so lost</td>\n",
       "      <td>0</td>\n",
       "    </tr>\n",
       "    <tr>\n",
       "      <th>4</th>\n",
       "      <td>i am a kindergarten teacher and i am thoroughl...</td>\n",
       "      <td>4</td>\n",
       "    </tr>\n",
       "  </tbody>\n",
       "</table>\n",
       "</div>"
      ],
      "text/plain": [
       "                                                text  label\n",
       "0      i just feel really helpless and heavy hearted      4\n",
       "1  ive enjoyed being able to slouch about relax a...      0\n",
       "2  i gave up my internship with the dmrg and am f...      4\n",
       "3                         i dont know i feel so lost      0\n",
       "4  i am a kindergarten teacher and i am thoroughl...      4"
      ]
     },
     "execution_count": 12,
     "metadata": {},
     "output_type": "execute_result"
    }
   ],
   "source": [
    "emotions.head() # here's what the data looks like"
   ]
  },
  {
   "cell_type": "code",
   "execution_count": 13,
   "id": "66c7dad2-3fff-4622-bf46-b657fd4b6390",
   "metadata": {},
   "outputs": [],
   "source": [
    "# sadness (0), joy (1), love (2), anger (3), fear (4), and surprise (5) emotions and their label"
   ]
  },
  {
   "cell_type": "code",
   "execution_count": 14,
   "id": "314b30f9-b76b-4a47-b59e-d0902572ae1d",
   "metadata": {},
   "outputs": [
    {
     "data": {
      "text/plain": [
       "label\n",
       "1    141067\n",
       "0    121187\n",
       "3     57317\n",
       "4     47712\n",
       "2     34554\n",
       "5     14972\n",
       "Name: count, dtype: int64"
      ]
     },
     "execution_count": 14,
     "metadata": {},
     "output_type": "execute_result"
    }
   ],
   "source": [
    "emotions.label.value_counts() # we have some really unbalanced data here, this is what we adress first if we want to improve the model"
   ]
  },
  {
   "cell_type": "code",
   "execution_count": 15,
   "id": "6960ecef-228c-4523-96be-ac7ae8b79e9c",
   "metadata": {},
   "outputs": [],
   "source": [
    "def tokenize(text):\n",
    "    return nltk.word_tokenize(text.lower()) # i am writing a function that tokenizes text that we can apply to the text column"
   ]
  },
  {
   "cell_type": "code",
   "execution_count": 16,
   "id": "60f29520-98e1-4b9c-ab45-51bd9db5e6ed",
   "metadata": {},
   "outputs": [],
   "source": [
    "emotions['tokens']=emotions['text'].apply(tokenize) # applying the tokenizer function to create a tokens column"
   ]
  },
  {
   "cell_type": "code",
   "execution_count": 17,
   "id": "04f37494-12ad-4010-bf99-5389a0f02566",
   "metadata": {},
   "outputs": [],
   "source": [
    "stop_words = set(stopwords.words('english')) # this is going to be a set containing all of the english stop words"
   ]
  },
  {
   "cell_type": "code",
   "execution_count": 18,
   "id": "f7ea2618-96b0-4837-9176-d6b13f87f423",
   "metadata": {},
   "outputs": [],
   "source": [
    "emotions['filtered_tokens'] = emotions['tokens'].apply(lambda x: [word for word in x if word not in stop_words])\n",
    "# we are creating a column of tokens that do not contain any words we do not want to feed the model"
   ]
  },
  {
   "cell_type": "code",
   "execution_count": 19,
   "id": "73f67382-9f67-4647-88c0-e693d8005a16",
   "metadata": {},
   "outputs": [
    {
     "data": {
      "text/html": [
       "<div>\n",
       "<style scoped>\n",
       "    .dataframe tbody tr th:only-of-type {\n",
       "        vertical-align: middle;\n",
       "    }\n",
       "\n",
       "    .dataframe tbody tr th {\n",
       "        vertical-align: top;\n",
       "    }\n",
       "\n",
       "    .dataframe thead th {\n",
       "        text-align: right;\n",
       "    }\n",
       "</style>\n",
       "<table border=\"1\" class=\"dataframe\">\n",
       "  <thead>\n",
       "    <tr style=\"text-align: right;\">\n",
       "      <th></th>\n",
       "      <th>text</th>\n",
       "      <th>label</th>\n",
       "      <th>tokens</th>\n",
       "      <th>filtered_tokens</th>\n",
       "    </tr>\n",
       "  </thead>\n",
       "  <tbody>\n",
       "    <tr>\n",
       "      <th>0</th>\n",
       "      <td>i just feel really helpless and heavy hearted</td>\n",
       "      <td>4</td>\n",
       "      <td>[i, just, feel, really, helpless, and, heavy, ...</td>\n",
       "      <td>[feel, really, helpless, heavy, hearted]</td>\n",
       "    </tr>\n",
       "    <tr>\n",
       "      <th>1</th>\n",
       "      <td>ive enjoyed being able to slouch about relax a...</td>\n",
       "      <td>0</td>\n",
       "      <td>[ive, enjoyed, being, able, to, slouch, about,...</td>\n",
       "      <td>[ive, enjoyed, able, slouch, relax, unwind, fr...</td>\n",
       "    </tr>\n",
       "    <tr>\n",
       "      <th>2</th>\n",
       "      <td>i gave up my internship with the dmrg and am f...</td>\n",
       "      <td>4</td>\n",
       "      <td>[i, gave, up, my, internship, with, the, dmrg,...</td>\n",
       "      <td>[gave, internship, dmrg, feeling, distraught]</td>\n",
       "    </tr>\n",
       "    <tr>\n",
       "      <th>3</th>\n",
       "      <td>i dont know i feel so lost</td>\n",
       "      <td>0</td>\n",
       "      <td>[i, dont, know, i, feel, so, lost]</td>\n",
       "      <td>[dont, know, feel, lost]</td>\n",
       "    </tr>\n",
       "    <tr>\n",
       "      <th>4</th>\n",
       "      <td>i am a kindergarten teacher and i am thoroughl...</td>\n",
       "      <td>4</td>\n",
       "      <td>[i, am, a, kindergarten, teacher, and, i, am, ...</td>\n",
       "      <td>[kindergarten, teacher, thoroughly, weary, job...</td>\n",
       "    </tr>\n",
       "  </tbody>\n",
       "</table>\n",
       "</div>"
      ],
      "text/plain": [
       "                                                text  label  \\\n",
       "0      i just feel really helpless and heavy hearted      4   \n",
       "1  ive enjoyed being able to slouch about relax a...      0   \n",
       "2  i gave up my internship with the dmrg and am f...      4   \n",
       "3                         i dont know i feel so lost      0   \n",
       "4  i am a kindergarten teacher and i am thoroughl...      4   \n",
       "\n",
       "                                              tokens  \\\n",
       "0  [i, just, feel, really, helpless, and, heavy, ...   \n",
       "1  [ive, enjoyed, being, able, to, slouch, about,...   \n",
       "2  [i, gave, up, my, internship, with, the, dmrg,...   \n",
       "3                 [i, dont, know, i, feel, so, lost]   \n",
       "4  [i, am, a, kindergarten, teacher, and, i, am, ...   \n",
       "\n",
       "                                     filtered_tokens  \n",
       "0           [feel, really, helpless, heavy, hearted]  \n",
       "1  [ive, enjoyed, able, slouch, relax, unwind, fr...  \n",
       "2      [gave, internship, dmrg, feeling, distraught]  \n",
       "3                           [dont, know, feel, lost]  \n",
       "4  [kindergarten, teacher, thoroughly, weary, job...  "
      ]
     },
     "execution_count": 19,
     "metadata": {},
     "output_type": "execute_result"
    }
   ],
   "source": [
    "emotions.head() # here's what our data looks like now with the new features"
   ]
  },
  {
   "cell_type": "code",
   "execution_count": 20,
   "id": "08fd9246-af8f-4881-b549-38cd48bdbe9d",
   "metadata": {},
   "outputs": [],
   "source": [
    "emotions['text_combined'] = emotions['filtered_tokens'].apply(lambda x: ' '.join(x))\n",
    "\n",
    "# what's happening here is we are creating a column combining the filtered tokens back together into a text string"
   ]
  },
  {
   "cell_type": "code",
   "execution_count": 21,
   "id": "72b6cb34-14ca-4684-81ea-5cb84c1b170d",
   "metadata": {},
   "outputs": [],
   "source": [
    "vectorizer = TfidfVectorizer()\n",
    "# i mentioned earlier that this is going to make the text readable for the logistic regression  model\n",
    "# this is going to create vectors from our text that we can use for training\n",
    "# the vectors are made with term frequency, relative to amount of documents, which in turn tells us something about their importance"
   ]
  },
  {
   "cell_type": "code",
   "execution_count": 22,
   "id": "5dd19310-7319-4b29-8c42-87c9ecc5c0ee",
   "metadata": {},
   "outputs": [],
   "source": [
    "X = vectorizer.fit_transform(emotions['text_combined']) # vectorize the text"
   ]
  },
  {
   "cell_type": "code",
   "execution_count": 23,
   "id": "daaf7f07-34af-44e2-91a3-9cc75071076c",
   "metadata": {},
   "outputs": [],
   "source": [
    "y=emotions['label']"
   ]
  },
  {
   "cell_type": "code",
   "execution_count": 24,
   "id": "5239631a-de39-45dc-9625-f21851492186",
   "metadata": {},
   "outputs": [],
   "source": [
    "X_train, X_test, y_train, y_test = train_test_split(X, y, test_size=0.2, random_state=42)\n",
    "# splitting the data into training data and testing data\n",
    "# 42 was chosen arbitrarily\n",
    "# random state accepts any number in range [-2,147,483,648 , 2,147,483,647]"
   ]
  },
  {
   "cell_type": "code",
   "execution_count": 25,
   "id": "9282b8ef-2822-4259-8c41-974051eaf34c",
   "metadata": {},
   "outputs": [],
   "source": [
    "model = LogisticRegression(penalty='l2', max_iter=200)  # Default is 'l2'\n",
    "# i chose 200 for max_iter because it was large enough to reach convergence\n",
    "# if you do not set the max_iter to 200, the default, 100 is not enough and you will get an error"
   ]
  },
  {
   "cell_type": "code",
   "execution_count": 26,
   "id": "146fd7f5-1bb0-478c-a0f5-4039c9430673",
   "metadata": {},
   "outputs": [
    {
     "data": {
      "text/html": [
       "<style>#sk-container-id-1 {\n",
       "  /* Definition of color scheme common for light and dark mode */\n",
       "  --sklearn-color-text: black;\n",
       "  --sklearn-color-line: gray;\n",
       "  /* Definition of color scheme for unfitted estimators */\n",
       "  --sklearn-color-unfitted-level-0: #fff5e6;\n",
       "  --sklearn-color-unfitted-level-1: #f6e4d2;\n",
       "  --sklearn-color-unfitted-level-2: #ffe0b3;\n",
       "  --sklearn-color-unfitted-level-3: chocolate;\n",
       "  /* Definition of color scheme for fitted estimators */\n",
       "  --sklearn-color-fitted-level-0: #f0f8ff;\n",
       "  --sklearn-color-fitted-level-1: #d4ebff;\n",
       "  --sklearn-color-fitted-level-2: #b3dbfd;\n",
       "  --sklearn-color-fitted-level-3: cornflowerblue;\n",
       "\n",
       "  /* Specific color for light theme */\n",
       "  --sklearn-color-text-on-default-background: var(--sg-text-color, var(--theme-code-foreground, var(--jp-content-font-color1, black)));\n",
       "  --sklearn-color-background: var(--sg-background-color, var(--theme-background, var(--jp-layout-color0, white)));\n",
       "  --sklearn-color-border-box: var(--sg-text-color, var(--theme-code-foreground, var(--jp-content-font-color1, black)));\n",
       "  --sklearn-color-icon: #696969;\n",
       "\n",
       "  @media (prefers-color-scheme: dark) {\n",
       "    /* Redefinition of color scheme for dark theme */\n",
       "    --sklearn-color-text-on-default-background: var(--sg-text-color, var(--theme-code-foreground, var(--jp-content-font-color1, white)));\n",
       "    --sklearn-color-background: var(--sg-background-color, var(--theme-background, var(--jp-layout-color0, #111)));\n",
       "    --sklearn-color-border-box: var(--sg-text-color, var(--theme-code-foreground, var(--jp-content-font-color1, white)));\n",
       "    --sklearn-color-icon: #878787;\n",
       "  }\n",
       "}\n",
       "\n",
       "#sk-container-id-1 {\n",
       "  color: var(--sklearn-color-text);\n",
       "}\n",
       "\n",
       "#sk-container-id-1 pre {\n",
       "  padding: 0;\n",
       "}\n",
       "\n",
       "#sk-container-id-1 input.sk-hidden--visually {\n",
       "  border: 0;\n",
       "  clip: rect(1px 1px 1px 1px);\n",
       "  clip: rect(1px, 1px, 1px, 1px);\n",
       "  height: 1px;\n",
       "  margin: -1px;\n",
       "  overflow: hidden;\n",
       "  padding: 0;\n",
       "  position: absolute;\n",
       "  width: 1px;\n",
       "}\n",
       "\n",
       "#sk-container-id-1 div.sk-dashed-wrapped {\n",
       "  border: 1px dashed var(--sklearn-color-line);\n",
       "  margin: 0 0.4em 0.5em 0.4em;\n",
       "  box-sizing: border-box;\n",
       "  padding-bottom: 0.4em;\n",
       "  background-color: var(--sklearn-color-background);\n",
       "}\n",
       "\n",
       "#sk-container-id-1 div.sk-container {\n",
       "  /* jupyter's `normalize.less` sets `[hidden] { display: none; }`\n",
       "     but bootstrap.min.css set `[hidden] { display: none !important; }`\n",
       "     so we also need the `!important` here to be able to override the\n",
       "     default hidden behavior on the sphinx rendered scikit-learn.org.\n",
       "     See: https://github.com/scikit-learn/scikit-learn/issues/21755 */\n",
       "  display: inline-block !important;\n",
       "  position: relative;\n",
       "}\n",
       "\n",
       "#sk-container-id-1 div.sk-text-repr-fallback {\n",
       "  display: none;\n",
       "}\n",
       "\n",
       "div.sk-parallel-item,\n",
       "div.sk-serial,\n",
       "div.sk-item {\n",
       "  /* draw centered vertical line to link estimators */\n",
       "  background-image: linear-gradient(var(--sklearn-color-text-on-default-background), var(--sklearn-color-text-on-default-background));\n",
       "  background-size: 2px 100%;\n",
       "  background-repeat: no-repeat;\n",
       "  background-position: center center;\n",
       "}\n",
       "\n",
       "/* Parallel-specific style estimator block */\n",
       "\n",
       "#sk-container-id-1 div.sk-parallel-item::after {\n",
       "  content: \"\";\n",
       "  width: 100%;\n",
       "  border-bottom: 2px solid var(--sklearn-color-text-on-default-background);\n",
       "  flex-grow: 1;\n",
       "}\n",
       "\n",
       "#sk-container-id-1 div.sk-parallel {\n",
       "  display: flex;\n",
       "  align-items: stretch;\n",
       "  justify-content: center;\n",
       "  background-color: var(--sklearn-color-background);\n",
       "  position: relative;\n",
       "}\n",
       "\n",
       "#sk-container-id-1 div.sk-parallel-item {\n",
       "  display: flex;\n",
       "  flex-direction: column;\n",
       "}\n",
       "\n",
       "#sk-container-id-1 div.sk-parallel-item:first-child::after {\n",
       "  align-self: flex-end;\n",
       "  width: 50%;\n",
       "}\n",
       "\n",
       "#sk-container-id-1 div.sk-parallel-item:last-child::after {\n",
       "  align-self: flex-start;\n",
       "  width: 50%;\n",
       "}\n",
       "\n",
       "#sk-container-id-1 div.sk-parallel-item:only-child::after {\n",
       "  width: 0;\n",
       "}\n",
       "\n",
       "/* Serial-specific style estimator block */\n",
       "\n",
       "#sk-container-id-1 div.sk-serial {\n",
       "  display: flex;\n",
       "  flex-direction: column;\n",
       "  align-items: center;\n",
       "  background-color: var(--sklearn-color-background);\n",
       "  padding-right: 1em;\n",
       "  padding-left: 1em;\n",
       "}\n",
       "\n",
       "\n",
       "/* Toggleable style: style used for estimator/Pipeline/ColumnTransformer box that is\n",
       "clickable and can be expanded/collapsed.\n",
       "- Pipeline and ColumnTransformer use this feature and define the default style\n",
       "- Estimators will overwrite some part of the style using the `sk-estimator` class\n",
       "*/\n",
       "\n",
       "/* Pipeline and ColumnTransformer style (default) */\n",
       "\n",
       "#sk-container-id-1 div.sk-toggleable {\n",
       "  /* Default theme specific background. It is overwritten whether we have a\n",
       "  specific estimator or a Pipeline/ColumnTransformer */\n",
       "  background-color: var(--sklearn-color-background);\n",
       "}\n",
       "\n",
       "/* Toggleable label */\n",
       "#sk-container-id-1 label.sk-toggleable__label {\n",
       "  cursor: pointer;\n",
       "  display: block;\n",
       "  width: 100%;\n",
       "  margin-bottom: 0;\n",
       "  padding: 0.5em;\n",
       "  box-sizing: border-box;\n",
       "  text-align: center;\n",
       "}\n",
       "\n",
       "#sk-container-id-1 label.sk-toggleable__label-arrow:before {\n",
       "  /* Arrow on the left of the label */\n",
       "  content: \"▸\";\n",
       "  float: left;\n",
       "  margin-right: 0.25em;\n",
       "  color: var(--sklearn-color-icon);\n",
       "}\n",
       "\n",
       "#sk-container-id-1 label.sk-toggleable__label-arrow:hover:before {\n",
       "  color: var(--sklearn-color-text);\n",
       "}\n",
       "\n",
       "/* Toggleable content - dropdown */\n",
       "\n",
       "#sk-container-id-1 div.sk-toggleable__content {\n",
       "  max-height: 0;\n",
       "  max-width: 0;\n",
       "  overflow: hidden;\n",
       "  text-align: left;\n",
       "  /* unfitted */\n",
       "  background-color: var(--sklearn-color-unfitted-level-0);\n",
       "}\n",
       "\n",
       "#sk-container-id-1 div.sk-toggleable__content.fitted {\n",
       "  /* fitted */\n",
       "  background-color: var(--sklearn-color-fitted-level-0);\n",
       "}\n",
       "\n",
       "#sk-container-id-1 div.sk-toggleable__content pre {\n",
       "  margin: 0.2em;\n",
       "  border-radius: 0.25em;\n",
       "  color: var(--sklearn-color-text);\n",
       "  /* unfitted */\n",
       "  background-color: var(--sklearn-color-unfitted-level-0);\n",
       "}\n",
       "\n",
       "#sk-container-id-1 div.sk-toggleable__content.fitted pre {\n",
       "  /* unfitted */\n",
       "  background-color: var(--sklearn-color-fitted-level-0);\n",
       "}\n",
       "\n",
       "#sk-container-id-1 input.sk-toggleable__control:checked~div.sk-toggleable__content {\n",
       "  /* Expand drop-down */\n",
       "  max-height: 200px;\n",
       "  max-width: 100%;\n",
       "  overflow: auto;\n",
       "}\n",
       "\n",
       "#sk-container-id-1 input.sk-toggleable__control:checked~label.sk-toggleable__label-arrow:before {\n",
       "  content: \"▾\";\n",
       "}\n",
       "\n",
       "/* Pipeline/ColumnTransformer-specific style */\n",
       "\n",
       "#sk-container-id-1 div.sk-label input.sk-toggleable__control:checked~label.sk-toggleable__label {\n",
       "  color: var(--sklearn-color-text);\n",
       "  background-color: var(--sklearn-color-unfitted-level-2);\n",
       "}\n",
       "\n",
       "#sk-container-id-1 div.sk-label.fitted input.sk-toggleable__control:checked~label.sk-toggleable__label {\n",
       "  background-color: var(--sklearn-color-fitted-level-2);\n",
       "}\n",
       "\n",
       "/* Estimator-specific style */\n",
       "\n",
       "/* Colorize estimator box */\n",
       "#sk-container-id-1 div.sk-estimator input.sk-toggleable__control:checked~label.sk-toggleable__label {\n",
       "  /* unfitted */\n",
       "  background-color: var(--sklearn-color-unfitted-level-2);\n",
       "}\n",
       "\n",
       "#sk-container-id-1 div.sk-estimator.fitted input.sk-toggleable__control:checked~label.sk-toggleable__label {\n",
       "  /* fitted */\n",
       "  background-color: var(--sklearn-color-fitted-level-2);\n",
       "}\n",
       "\n",
       "#sk-container-id-1 div.sk-label label.sk-toggleable__label,\n",
       "#sk-container-id-1 div.sk-label label {\n",
       "  /* The background is the default theme color */\n",
       "  color: var(--sklearn-color-text-on-default-background);\n",
       "}\n",
       "\n",
       "/* On hover, darken the color of the background */\n",
       "#sk-container-id-1 div.sk-label:hover label.sk-toggleable__label {\n",
       "  color: var(--sklearn-color-text);\n",
       "  background-color: var(--sklearn-color-unfitted-level-2);\n",
       "}\n",
       "\n",
       "/* Label box, darken color on hover, fitted */\n",
       "#sk-container-id-1 div.sk-label.fitted:hover label.sk-toggleable__label.fitted {\n",
       "  color: var(--sklearn-color-text);\n",
       "  background-color: var(--sklearn-color-fitted-level-2);\n",
       "}\n",
       "\n",
       "/* Estimator label */\n",
       "\n",
       "#sk-container-id-1 div.sk-label label {\n",
       "  font-family: monospace;\n",
       "  font-weight: bold;\n",
       "  display: inline-block;\n",
       "  line-height: 1.2em;\n",
       "}\n",
       "\n",
       "#sk-container-id-1 div.sk-label-container {\n",
       "  text-align: center;\n",
       "}\n",
       "\n",
       "/* Estimator-specific */\n",
       "#sk-container-id-1 div.sk-estimator {\n",
       "  font-family: monospace;\n",
       "  border: 1px dotted var(--sklearn-color-border-box);\n",
       "  border-radius: 0.25em;\n",
       "  box-sizing: border-box;\n",
       "  margin-bottom: 0.5em;\n",
       "  /* unfitted */\n",
       "  background-color: var(--sklearn-color-unfitted-level-0);\n",
       "}\n",
       "\n",
       "#sk-container-id-1 div.sk-estimator.fitted {\n",
       "  /* fitted */\n",
       "  background-color: var(--sklearn-color-fitted-level-0);\n",
       "}\n",
       "\n",
       "/* on hover */\n",
       "#sk-container-id-1 div.sk-estimator:hover {\n",
       "  /* unfitted */\n",
       "  background-color: var(--sklearn-color-unfitted-level-2);\n",
       "}\n",
       "\n",
       "#sk-container-id-1 div.sk-estimator.fitted:hover {\n",
       "  /* fitted */\n",
       "  background-color: var(--sklearn-color-fitted-level-2);\n",
       "}\n",
       "\n",
       "/* Specification for estimator info (e.g. \"i\" and \"?\") */\n",
       "\n",
       "/* Common style for \"i\" and \"?\" */\n",
       "\n",
       ".sk-estimator-doc-link,\n",
       "a:link.sk-estimator-doc-link,\n",
       "a:visited.sk-estimator-doc-link {\n",
       "  float: right;\n",
       "  font-size: smaller;\n",
       "  line-height: 1em;\n",
       "  font-family: monospace;\n",
       "  background-color: var(--sklearn-color-background);\n",
       "  border-radius: 1em;\n",
       "  height: 1em;\n",
       "  width: 1em;\n",
       "  text-decoration: none !important;\n",
       "  margin-left: 1ex;\n",
       "  /* unfitted */\n",
       "  border: var(--sklearn-color-unfitted-level-1) 1pt solid;\n",
       "  color: var(--sklearn-color-unfitted-level-1);\n",
       "}\n",
       "\n",
       ".sk-estimator-doc-link.fitted,\n",
       "a:link.sk-estimator-doc-link.fitted,\n",
       "a:visited.sk-estimator-doc-link.fitted {\n",
       "  /* fitted */\n",
       "  border: var(--sklearn-color-fitted-level-1) 1pt solid;\n",
       "  color: var(--sklearn-color-fitted-level-1);\n",
       "}\n",
       "\n",
       "/* On hover */\n",
       "div.sk-estimator:hover .sk-estimator-doc-link:hover,\n",
       ".sk-estimator-doc-link:hover,\n",
       "div.sk-label-container:hover .sk-estimator-doc-link:hover,\n",
       ".sk-estimator-doc-link:hover {\n",
       "  /* unfitted */\n",
       "  background-color: var(--sklearn-color-unfitted-level-3);\n",
       "  color: var(--sklearn-color-background);\n",
       "  text-decoration: none;\n",
       "}\n",
       "\n",
       "div.sk-estimator.fitted:hover .sk-estimator-doc-link.fitted:hover,\n",
       ".sk-estimator-doc-link.fitted:hover,\n",
       "div.sk-label-container:hover .sk-estimator-doc-link.fitted:hover,\n",
       ".sk-estimator-doc-link.fitted:hover {\n",
       "  /* fitted */\n",
       "  background-color: var(--sklearn-color-fitted-level-3);\n",
       "  color: var(--sklearn-color-background);\n",
       "  text-decoration: none;\n",
       "}\n",
       "\n",
       "/* Span, style for the box shown on hovering the info icon */\n",
       ".sk-estimator-doc-link span {\n",
       "  display: none;\n",
       "  z-index: 9999;\n",
       "  position: relative;\n",
       "  font-weight: normal;\n",
       "  right: .2ex;\n",
       "  padding: .5ex;\n",
       "  margin: .5ex;\n",
       "  width: min-content;\n",
       "  min-width: 20ex;\n",
       "  max-width: 50ex;\n",
       "  color: var(--sklearn-color-text);\n",
       "  box-shadow: 2pt 2pt 4pt #999;\n",
       "  /* unfitted */\n",
       "  background: var(--sklearn-color-unfitted-level-0);\n",
       "  border: .5pt solid var(--sklearn-color-unfitted-level-3);\n",
       "}\n",
       "\n",
       ".sk-estimator-doc-link.fitted span {\n",
       "  /* fitted */\n",
       "  background: var(--sklearn-color-fitted-level-0);\n",
       "  border: var(--sklearn-color-fitted-level-3);\n",
       "}\n",
       "\n",
       ".sk-estimator-doc-link:hover span {\n",
       "  display: block;\n",
       "}\n",
       "\n",
       "/* \"?\"-specific style due to the `<a>` HTML tag */\n",
       "\n",
       "#sk-container-id-1 a.estimator_doc_link {\n",
       "  float: right;\n",
       "  font-size: 1rem;\n",
       "  line-height: 1em;\n",
       "  font-family: monospace;\n",
       "  background-color: var(--sklearn-color-background);\n",
       "  border-radius: 1rem;\n",
       "  height: 1rem;\n",
       "  width: 1rem;\n",
       "  text-decoration: none;\n",
       "  /* unfitted */\n",
       "  color: var(--sklearn-color-unfitted-level-1);\n",
       "  border: var(--sklearn-color-unfitted-level-1) 1pt solid;\n",
       "}\n",
       "\n",
       "#sk-container-id-1 a.estimator_doc_link.fitted {\n",
       "  /* fitted */\n",
       "  border: var(--sklearn-color-fitted-level-1) 1pt solid;\n",
       "  color: var(--sklearn-color-fitted-level-1);\n",
       "}\n",
       "\n",
       "/* On hover */\n",
       "#sk-container-id-1 a.estimator_doc_link:hover {\n",
       "  /* unfitted */\n",
       "  background-color: var(--sklearn-color-unfitted-level-3);\n",
       "  color: var(--sklearn-color-background);\n",
       "  text-decoration: none;\n",
       "}\n",
       "\n",
       "#sk-container-id-1 a.estimator_doc_link.fitted:hover {\n",
       "  /* fitted */\n",
       "  background-color: var(--sklearn-color-fitted-level-3);\n",
       "}\n",
       "</style><div id=\"sk-container-id-1\" class=\"sk-top-container\"><div class=\"sk-text-repr-fallback\"><pre>LogisticRegression(max_iter=200)</pre><b>In a Jupyter environment, please rerun this cell to show the HTML representation or trust the notebook. <br />On GitHub, the HTML representation is unable to render, please try loading this page with nbviewer.org.</b></div><div class=\"sk-container\" hidden><div class=\"sk-item\"><div class=\"sk-estimator fitted sk-toggleable\"><input class=\"sk-toggleable__control sk-hidden--visually\" id=\"sk-estimator-id-1\" type=\"checkbox\" checked><label for=\"sk-estimator-id-1\" class=\"sk-toggleable__label fitted sk-toggleable__label-arrow fitted\">&nbsp;&nbsp;LogisticRegression<a class=\"sk-estimator-doc-link fitted\" rel=\"noreferrer\" target=\"_blank\" href=\"https://scikit-learn.org/1.4/modules/generated/sklearn.linear_model.LogisticRegression.html\">?<span>Documentation for LogisticRegression</span></a><span class=\"sk-estimator-doc-link fitted\">i<span>Fitted</span></span></label><div class=\"sk-toggleable__content fitted\"><pre>LogisticRegression(max_iter=200)</pre></div> </div></div></div></div>"
      ],
      "text/plain": [
       "LogisticRegression(max_iter=200)"
      ]
     },
     "execution_count": 26,
     "metadata": {},
     "output_type": "execute_result"
    }
   ],
   "source": [
    "model.fit(X_train, y_train) # fit the model"
   ]
  },
  {
   "cell_type": "code",
   "execution_count": 27,
   "id": "3257f872-5d30-47d3-9b4d-9af0e2c75ae9",
   "metadata": {},
   "outputs": [],
   "source": [
    "y_pred = model.predict(X_test) # basic prediction function call"
   ]
  },
  {
   "cell_type": "code",
   "execution_count": 28,
   "id": "a1c6894b-c026-4d07-a268-d60bba2c4c7d",
   "metadata": {},
   "outputs": [],
   "source": [
    "accuracy = accuracy_score(y_test, y_pred)"
   ]
  },
  {
   "cell_type": "code",
   "execution_count": 29,
   "id": "02eb8c38-22ce-4ef4-9a67-4472a4630017",
   "metadata": {},
   "outputs": [
    {
     "data": {
      "text/plain": [
       "0.8939924665914926"
      ]
     },
     "execution_count": 29,
     "metadata": {},
     "output_type": "execute_result"
    }
   ],
   "source": [
    "accuracy # did pretty well"
   ]
  },
  {
   "cell_type": "code",
   "execution_count": 30,
   "id": "cb1359fc-3e24-435f-b6ee-c93a7a76a3c6",
   "metadata": {},
   "outputs": [],
   "source": [
    "# we aren't after the models prediction for the labels\n",
    "# we are after the probability scores for each label because we want nuanced emotion vectors\n",
    "# lets do a demo"
   ]
  },
  {
   "cell_type": "code",
   "execution_count": 31,
   "id": "baa1efc0-8053-4501-8278-c4236276b4e6",
   "metadata": {},
   "outputs": [],
   "source": [
    "# here is a string that i am going to write that will contain some things i want to say about my emotional state\n",
    "hank_feeling = 'i had a stressfull day but i was able to get a lot done which made me proud'"
   ]
  },
  {
   "cell_type": "code",
   "execution_count": 32,
   "id": "4961e653-5005-4e56-90f1-efaa2605ab8a",
   "metadata": {},
   "outputs": [],
   "source": [
    "# in order to pull an emotion vector from this string we need to apply the same principles we used to train the model\n",
    "# we need to tokenize the text\n",
    "# we need to filter the tokenized text for stopwords\n",
    "# we need to re join that filtered token into plain text\n",
    "# we need to extract features using tfidf vectorization\n",
    "# we need to tell the model to predict probabilites NOT the label\n",
    "# we're gonna investigate what the probabilities look like"
   ]
  },
  {
   "cell_type": "code",
   "execution_count": 33,
   "id": "d23d3d59-d6bb-4186-af19-b7bd51fa901b",
   "metadata": {},
   "outputs": [
    {
     "data": {
      "text/plain": [
       "['i',\n",
       " 'had',\n",
       " 'a',\n",
       " 'stressfull',\n",
       " 'day',\n",
       " 'but',\n",
       " 'i',\n",
       " 'was',\n",
       " 'able',\n",
       " 'to',\n",
       " 'get',\n",
       " 'a',\n",
       " 'lot',\n",
       " 'done',\n",
       " 'which',\n",
       " 'made',\n",
       " 'me',\n",
       " 'proud']"
      ]
     },
     "execution_count": 33,
     "metadata": {},
     "output_type": "execute_result"
    }
   ],
   "source": [
    "hank_feeling_tokens = nltk.word_tokenize( hank_feeling.lower()) #tokenizing the sentence i wrote\n",
    "hank_feeling_tokens # feels right"
   ]
  },
  {
   "cell_type": "code",
   "execution_count": 34,
   "id": "e177489c-3733-46e1-9c25-9f24ce6982bc",
   "metadata": {},
   "outputs": [
    {
     "data": {
      "text/plain": [
       "['stressfull', 'day', 'able', 'get', 'lot', 'done', 'made', 'proud']"
      ]
     },
     "execution_count": 34,
     "metadata": {},
     "output_type": "execute_result"
    }
   ],
   "source": [
    "filtered_hank_feeling_tokens = [word for word in hank_feeling_tokens if word not in stop_words]\n",
    "# remove stop words from the tokenized sentence i wrote\n",
    "filtered_hank_feeling_tokens # feels right"
   ]
  },
  {
   "cell_type": "code",
   "execution_count": 35,
   "id": "9980c54f-272f-49fe-870f-de0f1e6093ed",
   "metadata": {},
   "outputs": [
    {
     "data": {
      "text/plain": [
       "'stressfull day able get lot done made proud'"
      ]
     },
     "execution_count": 35,
     "metadata": {},
     "output_type": "execute_result"
    }
   ],
   "source": [
    "hank_feeling_combined = ' '.join(filtered_hank_feeling_tokens) # re combine the text \n",
    "hank_feeling_combined # feels right"
   ]
  },
  {
   "cell_type": "code",
   "execution_count": 36,
   "id": "36920bcd-dacc-494e-ac34-17cb6b5bc270",
   "metadata": {},
   "outputs": [
    {
     "data": {
      "text/plain": [
       "<1x75127 sparse matrix of type '<class 'numpy.float64'>'\n",
       "\twith 7 stored elements in Compressed Sparse Row format>"
      ]
     },
     "execution_count": 36,
     "metadata": {},
     "output_type": "execute_result"
    }
   ],
   "source": [
    "tfidf_hank_feeling = vectorizer.transform([hank_feeling_combined]) # get the tfidf vector from my combined text\n",
    "tfidf_hank_feeling # feels confusing but we need to do this to make the text readable for the computer"
   ]
  },
  {
   "cell_type": "code",
   "execution_count": 37,
   "id": "36cf13ea-0b97-4af1-bab8-4107ec9d8a9f",
   "metadata": {},
   "outputs": [
    {
     "data": {
      "text/plain": [
       "array([[0.01533646, 0.95192734, 0.01017043, 0.00952892, 0.00550737,\n",
       "        0.00752947]])"
      ]
     },
     "execution_count": 37,
     "metadata": {},
     "output_type": "execute_result"
    }
   ],
   "source": [
    "emotion_probabilities = model.predict_proba(tfidf_hank_feeling) # pulling the probabilities for each emotion\n",
    "emotion_probabilities # what we have is an array where each element is the liklihood of an emotion"
   ]
  },
  {
   "cell_type": "code",
   "execution_count": 38,
   "id": "e292372b-f28e-4714-9a98-08c9a6af4ce2",
   "metadata": {},
   "outputs": [],
   "source": [
    "#  recall this key; sadness (0), joy (1), love (2), anger (3), fear (4), and surprise (5) emotions and their label"
   ]
  },
  {
   "cell_type": "code",
   "execution_count": 39,
   "id": "2b724c8a-0670-4ff7-883f-bde2e58a8da0",
   "metadata": {},
   "outputs": [],
   "source": [
    "# this still isn't entirely what we want, we want a list of probabilities that we can index"
   ]
  },
  {
   "cell_type": "code",
   "execution_count": 40,
   "id": "a1c78af3-ef8c-461c-bdea-8cdec9c4e50e",
   "metadata": {},
   "outputs": [
    {
     "data": {
      "text/plain": [
       "[[0.015336456086055822,\n",
       "  0.9519273437595572,\n",
       "  0.010170432898996905,\n",
       "  0.009528920934266534,\n",
       "  0.005507372710613149,\n",
       "  0.007529473610510535]]"
      ]
     },
     "execution_count": 40,
     "metadata": {},
     "output_type": "execute_result"
    }
   ],
   "source": [
    "prob_list = emotion_probabilities.tolist()\n",
    "prob_list # this is close, we really need that list in the list though"
   ]
  },
  {
   "cell_type": "code",
   "execution_count": 41,
   "id": "f4c06d3b-37ff-4c59-bd12-8f6420e30152",
   "metadata": {},
   "outputs": [
    {
     "data": {
      "text/plain": [
       "[0.015336456086055822,\n",
       " 0.9519273437595572,\n",
       " 0.010170432898996905,\n",
       " 0.009528920934266534,\n",
       " 0.005507372710613149,\n",
       " 0.007529473610510535]"
      ]
     },
     "execution_count": 41,
     "metadata": {},
     "output_type": "execute_result"
    }
   ],
   "source": [
    "hank_emotion_vector = prob_list[0]\n",
    "hank_emotion_vector # perfect now we have a list of emotion scores pulled from a text string that i wrote"
   ]
  },
  {
   "cell_type": "code",
   "execution_count": 42,
   "id": "07ae7a7d-b5d0-43dc-a89b-4e84b5be4a0a",
   "metadata": {},
   "outputs": [],
   "source": [
    "# now let's write a function that does that whole process for us"
   ]
  },
  {
   "cell_type": "code",
   "execution_count": 43,
   "id": "a1fb3c98-ef69-4f90-a0c7-1b24f540fa50",
   "metadata": {},
   "outputs": [],
   "source": [
    "def emotion_score(user_input):\n",
    "    \n",
    "    input_tokens = nltk.word_tokenize(user_input.lower())\n",
    "    \n",
    "    filtered_input_tokens = [word for word in input_tokens if word not in stop_words]\n",
    "    \n",
    "    input_combined = ' '.join(filtered_input_tokens)\n",
    "    \n",
    "    input_vector = vectorizer.transform([input_combined])\n",
    "    \n",
    "    probabilities = model.predict_proba(input_vector)\n",
    "    \n",
    "    return probabilities.tolist()[0]"
   ]
  },
  {
   "cell_type": "code",
   "execution_count": 44,
   "id": "0fe93aee-e3b5-4fa2-bd22-f2e436cba9c3",
   "metadata": {},
   "outputs": [
    {
     "data": {
      "text/plain": [
       "[0.004727503627023497,\n",
       " 0.9900315263103031,\n",
       " 0.0032173409452982433,\n",
       " 0.0010353425353012962,\n",
       " 0.0007143066889650694,\n",
       " 0.00027397989310886674]"
      ]
     },
     "execution_count": 44,
     "metadata": {},
     "output_type": "execute_result"
    }
   ],
   "source": [
    "emotion_score('i am feeling happy today') # feels right"
   ]
  },
  {
   "cell_type": "code",
   "execution_count": 45,
   "id": "ab94086c-a672-4f88-b973-18a3126c065c",
   "metadata": {},
   "outputs": [],
   "source": [
    "music=pd.read_csv('songs_with_lyrics_Cleaned.csv') # i wanna run this function on an entire data frame of song lyrics"
   ]
  },
  {
   "cell_type": "code",
   "execution_count": 46,
   "id": "9226bb13-8fa9-4dd3-8d8f-0c4eda91b48c",
   "metadata": {},
   "outputs": [
    {
     "data": {
      "text/html": [
       "<div>\n",
       "<style scoped>\n",
       "    .dataframe tbody tr th:only-of-type {\n",
       "        vertical-align: middle;\n",
       "    }\n",
       "\n",
       "    .dataframe tbody tr th {\n",
       "        vertical-align: top;\n",
       "    }\n",
       "\n",
       "    .dataframe thead th {\n",
       "        text-align: right;\n",
       "    }\n",
       "</style>\n",
       "<table border=\"1\" class=\"dataframe\">\n",
       "  <thead>\n",
       "    <tr style=\"text-align: right;\">\n",
       "      <th></th>\n",
       "      <th>Unnamed: 0</th>\n",
       "      <th>artist</th>\n",
       "      <th>song</th>\n",
       "      <th>link</th>\n",
       "      <th>text</th>\n",
       "    </tr>\n",
       "  </thead>\n",
       "  <tbody>\n",
       "    <tr>\n",
       "      <th>0</th>\n",
       "      <td>0</td>\n",
       "      <td>ABBA</td>\n",
       "      <td>Ahe's My Kind Of Girl</td>\n",
       "      <td>/a/abba/ahes+my+kind+of+girl_20598417.html</td>\n",
       "      <td>look at her face, it's a wonderful face and it...</td>\n",
       "    </tr>\n",
       "    <tr>\n",
       "      <th>1</th>\n",
       "      <td>1</td>\n",
       "      <td>ABBA</td>\n",
       "      <td>Andante, Andante</td>\n",
       "      <td>/a/abba/andante+andante_20002708.html</td>\n",
       "      <td>take it easy with me, please touch me gently l...</td>\n",
       "    </tr>\n",
       "    <tr>\n",
       "      <th>2</th>\n",
       "      <td>2</td>\n",
       "      <td>ABBA</td>\n",
       "      <td>As Good As New</td>\n",
       "      <td>/a/abba/as+good+as+new_20003033.html</td>\n",
       "      <td>i'll never know why i had to go why i had to p...</td>\n",
       "    </tr>\n",
       "    <tr>\n",
       "      <th>3</th>\n",
       "      <td>3</td>\n",
       "      <td>ABBA</td>\n",
       "      <td>Bang</td>\n",
       "      <td>/a/abba/bang_20598415.html</td>\n",
       "      <td>making somebody happy is a question of give an...</td>\n",
       "    </tr>\n",
       "    <tr>\n",
       "      <th>4</th>\n",
       "      <td>4</td>\n",
       "      <td>ABBA</td>\n",
       "      <td>Bang-A-Boomerang</td>\n",
       "      <td>/a/abba/bang+a+boomerang_20002668.html</td>\n",
       "      <td>making somebody happy is a question of give an...</td>\n",
       "    </tr>\n",
       "  </tbody>\n",
       "</table>\n",
       "</div>"
      ],
      "text/plain": [
       "   Unnamed: 0 artist                   song  \\\n",
       "0           0   ABBA  Ahe's My Kind Of Girl   \n",
       "1           1   ABBA       Andante, Andante   \n",
       "2           2   ABBA         As Good As New   \n",
       "3           3   ABBA                   Bang   \n",
       "4           4   ABBA       Bang-A-Boomerang   \n",
       "\n",
       "                                         link  \\\n",
       "0  /a/abba/ahes+my+kind+of+girl_20598417.html   \n",
       "1       /a/abba/andante+andante_20002708.html   \n",
       "2        /a/abba/as+good+as+new_20003033.html   \n",
       "3                  /a/abba/bang_20598415.html   \n",
       "4      /a/abba/bang+a+boomerang_20002668.html   \n",
       "\n",
       "                                                text  \n",
       "0  look at her face, it's a wonderful face and it...  \n",
       "1  take it easy with me, please touch me gently l...  \n",
       "2  i'll never know why i had to go why i had to p...  \n",
       "3  making somebody happy is a question of give an...  \n",
       "4  making somebody happy is a question of give an...  "
      ]
     },
     "execution_count": 46,
     "metadata": {},
     "output_type": "execute_result"
    }
   ],
   "source": [
    "music.head() # here's what the data frame with music data and song lyrics"
   ]
  },
  {
   "cell_type": "code",
   "execution_count": 47,
   "id": "7a8f79cb-cc1d-4a1f-bff8-949ef4ddf663",
   "metadata": {},
   "outputs": [],
   "source": [
    "stmf=music.text[83]"
   ]
  },
  {
   "cell_type": "code",
   "execution_count": 48,
   "id": "47cfac4b-83f6-4400-bcad-20f52ba34dcb",
   "metadata": {},
   "outputs": [],
   "source": [
    "stmf_emotion_score=emotion_score(stmf)"
   ]
  },
  {
   "cell_type": "code",
   "execution_count": 49,
   "id": "474f4252-67c9-41ee-9d80-bef343157f5c",
   "metadata": {},
   "outputs": [
    {
     "data": {
      "text/plain": [
       "0.1440686713399015"
      ]
     },
     "execution_count": 49,
     "metadata": {},
     "output_type": "execute_result"
    }
   ],
   "source": [
    "stmf_emotion_score[5]"
   ]
  },
  {
   "cell_type": "code",
   "execution_count": 50,
   "id": "80e7e45c-316f-4703-ac9e-c99840ae3c80",
   "metadata": {},
   "outputs": [
    {
     "data": {
      "text/html": [
       "<div>\n",
       "<style scoped>\n",
       "    .dataframe tbody tr th:only-of-type {\n",
       "        vertical-align: middle;\n",
       "    }\n",
       "\n",
       "    .dataframe tbody tr th {\n",
       "        vertical-align: top;\n",
       "    }\n",
       "\n",
       "    .dataframe thead th {\n",
       "        text-align: right;\n",
       "    }\n",
       "</style>\n",
       "<table border=\"1\" class=\"dataframe\">\n",
       "  <thead>\n",
       "    <tr style=\"text-align: right;\">\n",
       "      <th></th>\n",
       "      <th>text</th>\n",
       "      <th>label</th>\n",
       "      <th>tokens</th>\n",
       "      <th>filtered_tokens</th>\n",
       "      <th>text_combined</th>\n",
       "    </tr>\n",
       "  </thead>\n",
       "  <tbody>\n",
       "    <tr>\n",
       "      <th>0</th>\n",
       "      <td>i just feel really helpless and heavy hearted</td>\n",
       "      <td>4</td>\n",
       "      <td>[i, just, feel, really, helpless, and, heavy, ...</td>\n",
       "      <td>[feel, really, helpless, heavy, hearted]</td>\n",
       "      <td>feel really helpless heavy hearted</td>\n",
       "    </tr>\n",
       "    <tr>\n",
       "      <th>1</th>\n",
       "      <td>ive enjoyed being able to slouch about relax a...</td>\n",
       "      <td>0</td>\n",
       "      <td>[ive, enjoyed, being, able, to, slouch, about,...</td>\n",
       "      <td>[ive, enjoyed, able, slouch, relax, unwind, fr...</td>\n",
       "      <td>ive enjoyed able slouch relax unwind frankly n...</td>\n",
       "    </tr>\n",
       "    <tr>\n",
       "      <th>2</th>\n",
       "      <td>i gave up my internship with the dmrg and am f...</td>\n",
       "      <td>4</td>\n",
       "      <td>[i, gave, up, my, internship, with, the, dmrg,...</td>\n",
       "      <td>[gave, internship, dmrg, feeling, distraught]</td>\n",
       "      <td>gave internship dmrg feeling distraught</td>\n",
       "    </tr>\n",
       "    <tr>\n",
       "      <th>3</th>\n",
       "      <td>i dont know i feel so lost</td>\n",
       "      <td>0</td>\n",
       "      <td>[i, dont, know, i, feel, so, lost]</td>\n",
       "      <td>[dont, know, feel, lost]</td>\n",
       "      <td>dont know feel lost</td>\n",
       "    </tr>\n",
       "    <tr>\n",
       "      <th>4</th>\n",
       "      <td>i am a kindergarten teacher and i am thoroughl...</td>\n",
       "      <td>4</td>\n",
       "      <td>[i, am, a, kindergarten, teacher, and, i, am, ...</td>\n",
       "      <td>[kindergarten, teacher, thoroughly, weary, job...</td>\n",
       "      <td>kindergarten teacher thoroughly weary job take...</td>\n",
       "    </tr>\n",
       "    <tr>\n",
       "      <th>...</th>\n",
       "      <td>...</td>\n",
       "      <td>...</td>\n",
       "      <td>...</td>\n",
       "      <td>...</td>\n",
       "      <td>...</td>\n",
       "    </tr>\n",
       "    <tr>\n",
       "      <th>416804</th>\n",
       "      <td>i feel like telling these horny devils to find...</td>\n",
       "      <td>2</td>\n",
       "      <td>[i, feel, like, telling, these, horny, devils,...</td>\n",
       "      <td>[feel, like, telling, horny, devils, find, sit...</td>\n",
       "      <td>feel like telling horny devils find site suite...</td>\n",
       "    </tr>\n",
       "    <tr>\n",
       "      <th>416805</th>\n",
       "      <td>i began to realize that when i was feeling agi...</td>\n",
       "      <td>3</td>\n",
       "      <td>[i, began, to, realize, that, when, i, was, fe...</td>\n",
       "      <td>[began, realize, feeling, agitated, restless, ...</td>\n",
       "      <td>began realize feeling agitated restless would ...</td>\n",
       "    </tr>\n",
       "    <tr>\n",
       "      <th>416806</th>\n",
       "      <td>i feel very curious be why previous early dawn...</td>\n",
       "      <td>5</td>\n",
       "      <td>[i, feel, very, curious, be, why, previous, ea...</td>\n",
       "      <td>[feel, curious, previous, early, dawn, time, s...</td>\n",
       "      <td>feel curious previous early dawn time seek tro...</td>\n",
       "    </tr>\n",
       "    <tr>\n",
       "      <th>416807</th>\n",
       "      <td>i feel that becuase of the tyranical nature of...</td>\n",
       "      <td>3</td>\n",
       "      <td>[i, feel, that, becuase, of, the, tyranical, n...</td>\n",
       "      <td>[feel, becuase, tyranical, nature, government,...</td>\n",
       "      <td>feel becuase tyranical nature government el sa...</td>\n",
       "    </tr>\n",
       "    <tr>\n",
       "      <th>416808</th>\n",
       "      <td>i think that after i had spent some time inves...</td>\n",
       "      <td>5</td>\n",
       "      <td>[i, think, that, after, i, had, spent, some, t...</td>\n",
       "      <td>[think, spent, time, investigating, surroundin...</td>\n",
       "      <td>think spent time investigating surroundings th...</td>\n",
       "    </tr>\n",
       "  </tbody>\n",
       "</table>\n",
       "<p>416809 rows × 5 columns</p>\n",
       "</div>"
      ],
      "text/plain": [
       "                                                     text  label  \\\n",
       "0           i just feel really helpless and heavy hearted      4   \n",
       "1       ive enjoyed being able to slouch about relax a...      0   \n",
       "2       i gave up my internship with the dmrg and am f...      4   \n",
       "3                              i dont know i feel so lost      0   \n",
       "4       i am a kindergarten teacher and i am thoroughl...      4   \n",
       "...                                                   ...    ...   \n",
       "416804  i feel like telling these horny devils to find...      2   \n",
       "416805  i began to realize that when i was feeling agi...      3   \n",
       "416806  i feel very curious be why previous early dawn...      5   \n",
       "416807  i feel that becuase of the tyranical nature of...      3   \n",
       "416808  i think that after i had spent some time inves...      5   \n",
       "\n",
       "                                                   tokens  \\\n",
       "0       [i, just, feel, really, helpless, and, heavy, ...   \n",
       "1       [ive, enjoyed, being, able, to, slouch, about,...   \n",
       "2       [i, gave, up, my, internship, with, the, dmrg,...   \n",
       "3                      [i, dont, know, i, feel, so, lost]   \n",
       "4       [i, am, a, kindergarten, teacher, and, i, am, ...   \n",
       "...                                                   ...   \n",
       "416804  [i, feel, like, telling, these, horny, devils,...   \n",
       "416805  [i, began, to, realize, that, when, i, was, fe...   \n",
       "416806  [i, feel, very, curious, be, why, previous, ea...   \n",
       "416807  [i, feel, that, becuase, of, the, tyranical, n...   \n",
       "416808  [i, think, that, after, i, had, spent, some, t...   \n",
       "\n",
       "                                          filtered_tokens  \\\n",
       "0                [feel, really, helpless, heavy, hearted]   \n",
       "1       [ive, enjoyed, able, slouch, relax, unwind, fr...   \n",
       "2           [gave, internship, dmrg, feeling, distraught]   \n",
       "3                                [dont, know, feel, lost]   \n",
       "4       [kindergarten, teacher, thoroughly, weary, job...   \n",
       "...                                                   ...   \n",
       "416804  [feel, like, telling, horny, devils, find, sit...   \n",
       "416805  [began, realize, feeling, agitated, restless, ...   \n",
       "416806  [feel, curious, previous, early, dawn, time, s...   \n",
       "416807  [feel, becuase, tyranical, nature, government,...   \n",
       "416808  [think, spent, time, investigating, surroundin...   \n",
       "\n",
       "                                            text_combined  \n",
       "0                      feel really helpless heavy hearted  \n",
       "1       ive enjoyed able slouch relax unwind frankly n...  \n",
       "2                 gave internship dmrg feeling distraught  \n",
       "3                                     dont know feel lost  \n",
       "4       kindergarten teacher thoroughly weary job take...  \n",
       "...                                                   ...  \n",
       "416804  feel like telling horny devils find site suite...  \n",
       "416805  began realize feeling agitated restless would ...  \n",
       "416806  feel curious previous early dawn time seek tro...  \n",
       "416807  feel becuase tyranical nature government el sa...  \n",
       "416808  think spent time investigating surroundings th...  \n",
       "\n",
       "[416809 rows x 5 columns]"
      ]
     },
     "execution_count": 50,
     "metadata": {},
     "output_type": "execute_result"
    }
   ],
   "source": [
    "emotions"
   ]
  },
  {
   "cell_type": "code",
   "execution_count": 51,
   "id": "ea1c3dc6-5490-4701-b30c-dce07d938ab0",
   "metadata": {},
   "outputs": [
    {
     "data": {
      "text/plain": [
       "8"
      ]
     },
     "execution_count": 51,
     "metadata": {},
     "output_type": "execute_result"
    }
   ],
   "source": [
    "len(emotions.text[0].split())"
   ]
  },
  {
   "cell_type": "code",
   "execution_count": 52,
   "id": "db1cc618-2205-4bd6-90c6-c45fd3e16ed6",
   "metadata": {},
   "outputs": [],
   "source": [
    "# demo in case anyone asks"
   ]
  },
  {
   "cell_type": "code",
   "execution_count": 53,
   "id": "52e3f7f7-0dd2-42d9-8fb1-102aaf5d1748",
   "metadata": {},
   "outputs": [
    {
     "data": {
      "text/plain": [
       "\"schoolbag in hand, she leaves home in the early morning waving goodbye with an absent-minded smile i watch her go with a surge of that well known sadness and i have to sit down for a while the feeling that i'm losing her forever and without really entering her world i'm glad whenever i can share her laughter that funny little girl slipping through my fingers all the time i try to capture every minute the feeling in it slipping through my fingers all the time do i really see what's in her mind each time i think i'm close to knowing she keeps on growing slipping through my fingers all the time sleep in our eyes, her and me at the breakfast table barely awake i let precious time go by then when she's gone, there's that odd melancholy feeling and a sense of guilt i can't deny what happened to the wonderful adventures the places i had planned for us to go well, some of that we did, but most we didn't and why, i just don't know slipping through my fingers all the time i try to capture every minute the feeling in it slipping through my fingers all the time do i really see what's in her mind each time i think i'm close to knowing she keeps on growing slipping through my fingers all the time sometimes i wish that i could freeze the picture and save it from the funny tricks of time (slipping through my fingers) slipping through my fingers all the time schoolbag in hand, she leaves home in the early morning waving goodbye with an absent-minded smile \""
      ]
     },
     "execution_count": 53,
     "metadata": {},
     "output_type": "execute_result"
    }
   ],
   "source": [
    "stmf # here are the lyrics to the song slipping through my fingers, by abba"
   ]
  },
  {
   "cell_type": "code",
   "execution_count": 54,
   "id": "79d8a96f-6624-491b-8114-d15b8096c346",
   "metadata": {},
   "outputs": [
    {
     "data": {
      "text/plain": [
       "[0.26486169092397066,\n",
       " 0.3791021911283691,\n",
       " 0.0643399182728898,\n",
       " 0.0771725837628346,\n",
       " 0.07045494457203419,\n",
       " 0.1440686713399015]"
      ]
     },
     "execution_count": 54,
     "metadata": {},
     "output_type": "execute_result"
    }
   ],
   "source": [
    "# demo for how the function handles song lyrics\n",
    "emotion_score(stmf)"
   ]
  },
  {
   "cell_type": "code",
   "execution_count": 55,
   "id": "65d0821d-2e38-4ae7-b0b1-149c92fd9792",
   "metadata": {},
   "outputs": [
    {
     "data": {
      "text/plain": [
       "[0.734118761988165,\n",
       " 0.132520592501066,\n",
       " 0.029530023819752265,\n",
       " 0.040496651943053505,\n",
       " 0.034728021670850914,\n",
       " 0.028605948077112395]"
      ]
     },
     "execution_count": 55,
     "metadata": {},
     "output_type": "execute_result"
    }
   ],
   "source": [
    "# demo for how the song handles user input\n",
    "emotion_score(' i had a pretty rough day, can you recommend me a sad song?')"
   ]
  },
  {
   "cell_type": "code",
   "execution_count": 56,
   "id": "e95ebb7e-0d41-4e89-8096-e8ccd1d619a3",
   "metadata": {},
   "outputs": [],
   "source": [
    "# write a function that vectorizes the song lyric data with an emotion score dictionary in order to create a table for the lyric scores"
   ]
  },
  {
   "cell_type": "code",
   "execution_count": 57,
   "id": "9568a222-80eb-407c-80b7-9c50b77e9f97",
   "metadata": {},
   "outputs": [],
   "source": [
    "def emotion_dictionary(user_input):\n",
    "    input_tokens = nltk.word_tokenize(user_input.lower())\n",
    "    filtered_input_tokens = [word for word in input_tokens if word not in stop_words]\n",
    "    input_combined = ' '.join(filtered_input_tokens)\n",
    "    input_vector = vectorizer.transform([input_combined])\n",
    "    probabilities = model.predict_proba(input_vector)\n",
    "    emotion_vector = probabilities.tolist()[0]\n",
    "    return {'sadness': emotion_vector[0],\n",
    "    'joy': emotion_vector[1],\n",
    "    'love': emotion_vector[2],\n",
    "    'anger': emotion_vector[3],\n",
    "    'fear': emotion_vector[4],\n",
    "    'surprise': emotion_vector[5] }"
   ]
  },
  {
   "cell_type": "code",
   "execution_count": 58,
   "id": "725e5d46-4801-4efd-9b38-48e974c8841e",
   "metadata": {},
   "outputs": [
    {
     "data": {
      "text/plain": [
       "{'sadness': 0.26486169092397066,\n",
       " 'joy': 0.3791021911283691,\n",
       " 'love': 0.0643399182728898,\n",
       " 'anger': 0.0771725837628346,\n",
       " 'fear': 0.07045494457203419,\n",
       " 'surprise': 0.1440686713399015}"
      ]
     },
     "execution_count": 58,
     "metadata": {},
     "output_type": "execute_result"
    }
   ],
   "source": [
    "emotion_dictionary(stmf)"
   ]
  },
  {
   "cell_type": "code",
   "execution_count": 59,
   "id": "1652f7e9-3625-447e-a860-cf2114b12e08",
   "metadata": {},
   "outputs": [],
   "source": [
    "# time to make the score table"
   ]
  },
  {
   "cell_type": "code",
   "execution_count": 60,
   "id": "1d69c974-6b64-4a56-bbd6-14ae461fe6f5",
   "metadata": {},
   "outputs": [],
   "source": [
    "from tqdm import tqdm # import tqdm for progress bar"
   ]
  },
  {
   "cell_type": "code",
   "execution_count": 61,
   "id": "f8e4bc40-9702-41e1-af70-922291982cc3",
   "metadata": {},
   "outputs": [],
   "source": [
    "tqdm.pandas() # call this to get the progress bar"
   ]
  },
  {
   "cell_type": "code",
   "execution_count": 62,
   "id": "c56dea62-e820-43d3-9a0f-090998eda026",
   "metadata": {},
   "outputs": [
    {
     "name": "stderr",
     "output_type": "stream",
     "text": [
      "100%|███████████████████████████████████████████████████████████████████████████| 44795/44795 [05:40<00:00, 131.74it/s]\n"
     ]
    }
   ],
   "source": [
    "scores=music['text'].progress_apply(emotion_dictionary).apply(pd.Series) # get a series containing the emotion scores for every song"
   ]
  },
  {
   "cell_type": "code",
   "execution_count": 63,
   "id": "9facddfd-191f-412b-a12a-133651836fd6",
   "metadata": {},
   "outputs": [
    {
     "data": {
      "text/html": [
       "<div>\n",
       "<style scoped>\n",
       "    .dataframe tbody tr th:only-of-type {\n",
       "        vertical-align: middle;\n",
       "    }\n",
       "\n",
       "    .dataframe tbody tr th {\n",
       "        vertical-align: top;\n",
       "    }\n",
       "\n",
       "    .dataframe thead th {\n",
       "        text-align: right;\n",
       "    }\n",
       "</style>\n",
       "<table border=\"1\" class=\"dataframe\">\n",
       "  <thead>\n",
       "    <tr style=\"text-align: right;\">\n",
       "      <th></th>\n",
       "      <th>sadness</th>\n",
       "      <th>joy</th>\n",
       "      <th>love</th>\n",
       "      <th>anger</th>\n",
       "      <th>fear</th>\n",
       "      <th>surprise</th>\n",
       "    </tr>\n",
       "  </thead>\n",
       "  <tbody>\n",
       "    <tr>\n",
       "      <th>0</th>\n",
       "      <td>0.037772</td>\n",
       "      <td>0.865948</td>\n",
       "      <td>0.020204</td>\n",
       "      <td>0.032962</td>\n",
       "      <td>0.023208</td>\n",
       "      <td>0.019906</td>\n",
       "    </tr>\n",
       "    <tr>\n",
       "      <th>1</th>\n",
       "      <td>0.066016</td>\n",
       "      <td>0.637793</td>\n",
       "      <td>0.148777</td>\n",
       "      <td>0.056284</td>\n",
       "      <td>0.058281</td>\n",
       "      <td>0.032849</td>\n",
       "    </tr>\n",
       "    <tr>\n",
       "      <th>2</th>\n",
       "      <td>0.557590</td>\n",
       "      <td>0.304692</td>\n",
       "      <td>0.064213</td>\n",
       "      <td>0.023887</td>\n",
       "      <td>0.027135</td>\n",
       "      <td>0.022482</td>\n",
       "    </tr>\n",
       "    <tr>\n",
       "      <th>3</th>\n",
       "      <td>0.136736</td>\n",
       "      <td>0.362437</td>\n",
       "      <td>0.262408</td>\n",
       "      <td>0.145773</td>\n",
       "      <td>0.065213</td>\n",
       "      <td>0.027435</td>\n",
       "    </tr>\n",
       "    <tr>\n",
       "      <th>4</th>\n",
       "      <td>0.967274</td>\n",
       "      <td>0.005258</td>\n",
       "      <td>0.016713</td>\n",
       "      <td>0.006844</td>\n",
       "      <td>0.002461</td>\n",
       "      <td>0.001449</td>\n",
       "    </tr>\n",
       "    <tr>\n",
       "      <th>...</th>\n",
       "      <td>...</td>\n",
       "      <td>...</td>\n",
       "      <td>...</td>\n",
       "      <td>...</td>\n",
       "      <td>...</td>\n",
       "      <td>...</td>\n",
       "    </tr>\n",
       "    <tr>\n",
       "      <th>44790</th>\n",
       "      <td>0.152381</td>\n",
       "      <td>0.504729</td>\n",
       "      <td>0.055719</td>\n",
       "      <td>0.141408</td>\n",
       "      <td>0.109148</td>\n",
       "      <td>0.036615</td>\n",
       "    </tr>\n",
       "    <tr>\n",
       "      <th>44791</th>\n",
       "      <td>0.426336</td>\n",
       "      <td>0.203087</td>\n",
       "      <td>0.030651</td>\n",
       "      <td>0.199676</td>\n",
       "      <td>0.091436</td>\n",
       "      <td>0.048814</td>\n",
       "    </tr>\n",
       "    <tr>\n",
       "      <th>44792</th>\n",
       "      <td>0.164597</td>\n",
       "      <td>0.422916</td>\n",
       "      <td>0.090274</td>\n",
       "      <td>0.126768</td>\n",
       "      <td>0.155709</td>\n",
       "      <td>0.039737</td>\n",
       "    </tr>\n",
       "    <tr>\n",
       "      <th>44793</th>\n",
       "      <td>0.297446</td>\n",
       "      <td>0.294825</td>\n",
       "      <td>0.074738</td>\n",
       "      <td>0.199254</td>\n",
       "      <td>0.100945</td>\n",
       "      <td>0.032792</td>\n",
       "    </tr>\n",
       "    <tr>\n",
       "      <th>44794</th>\n",
       "      <td>0.307117</td>\n",
       "      <td>0.265349</td>\n",
       "      <td>0.081950</td>\n",
       "      <td>0.221630</td>\n",
       "      <td>0.094529</td>\n",
       "      <td>0.029424</td>\n",
       "    </tr>\n",
       "  </tbody>\n",
       "</table>\n",
       "<p>44795 rows × 6 columns</p>\n",
       "</div>"
      ],
      "text/plain": [
       "        sadness       joy      love     anger      fear  surprise\n",
       "0      0.037772  0.865948  0.020204  0.032962  0.023208  0.019906\n",
       "1      0.066016  0.637793  0.148777  0.056284  0.058281  0.032849\n",
       "2      0.557590  0.304692  0.064213  0.023887  0.027135  0.022482\n",
       "3      0.136736  0.362437  0.262408  0.145773  0.065213  0.027435\n",
       "4      0.967274  0.005258  0.016713  0.006844  0.002461  0.001449\n",
       "...         ...       ...       ...       ...       ...       ...\n",
       "44790  0.152381  0.504729  0.055719  0.141408  0.109148  0.036615\n",
       "44791  0.426336  0.203087  0.030651  0.199676  0.091436  0.048814\n",
       "44792  0.164597  0.422916  0.090274  0.126768  0.155709  0.039737\n",
       "44793  0.297446  0.294825  0.074738  0.199254  0.100945  0.032792\n",
       "44794  0.307117  0.265349  0.081950  0.221630  0.094529  0.029424\n",
       "\n",
       "[44795 rows x 6 columns]"
      ]
     },
     "execution_count": 63,
     "metadata": {},
     "output_type": "execute_result"
    }
   ],
   "source": [
    "scores # this is what it looks like"
   ]
  },
  {
   "cell_type": "code",
   "execution_count": 64,
   "id": "b3c6fa0b-fb11-4e0b-8d13-20638658672d",
   "metadata": {},
   "outputs": [
    {
     "data": {
      "text/plain": [
       "sadness     0.268034\n",
       "joy         0.282942\n",
       "love        0.135176\n",
       "anger       0.151015\n",
       "fear        0.116307\n",
       "surprise    0.046526\n",
       "dtype: float64"
      ]
     },
     "execution_count": 64,
     "metadata": {},
     "output_type": "execute_result"
    }
   ],
   "source": [
    "scores.mean() # basic stats on the emotions"
   ]
  },
  {
   "cell_type": "code",
   "execution_count": 65,
   "id": "ee3a039c-b897-4db8-86cb-984baf6f7011",
   "metadata": {},
   "outputs": [
    {
     "data": {
      "text/plain": [
       "sadness     0.228373\n",
       "joy         0.257645\n",
       "love        0.103459\n",
       "anger       0.132783\n",
       "fear        0.101210\n",
       "surprise    0.039736\n",
       "dtype: float64"
      ]
     },
     "execution_count": 65,
     "metadata": {},
     "output_type": "execute_result"
    }
   ],
   "source": [
    "scores.median() # same as above"
   ]
  },
  {
   "cell_type": "code",
   "execution_count": 66,
   "id": "589871b4-a952-4f35-868c-579a5b70bbda",
   "metadata": {},
   "outputs": [
    {
     "data": {
      "text/html": [
       "<div>\n",
       "<style scoped>\n",
       "    .dataframe tbody tr th:only-of-type {\n",
       "        vertical-align: middle;\n",
       "    }\n",
       "\n",
       "    .dataframe tbody tr th {\n",
       "        vertical-align: top;\n",
       "    }\n",
       "\n",
       "    .dataframe thead th {\n",
       "        text-align: right;\n",
       "    }\n",
       "</style>\n",
       "<table border=\"1\" class=\"dataframe\">\n",
       "  <thead>\n",
       "    <tr style=\"text-align: right;\">\n",
       "      <th></th>\n",
       "      <th>Unnamed: 0</th>\n",
       "      <th>artist</th>\n",
       "      <th>song</th>\n",
       "      <th>link</th>\n",
       "      <th>text</th>\n",
       "    </tr>\n",
       "  </thead>\n",
       "  <tbody>\n",
       "    <tr>\n",
       "      <th>0</th>\n",
       "      <td>0</td>\n",
       "      <td>ABBA</td>\n",
       "      <td>Ahe's My Kind Of Girl</td>\n",
       "      <td>/a/abba/ahes+my+kind+of+girl_20598417.html</td>\n",
       "      <td>look at her face, it's a wonderful face and it...</td>\n",
       "    </tr>\n",
       "    <tr>\n",
       "      <th>1</th>\n",
       "      <td>1</td>\n",
       "      <td>ABBA</td>\n",
       "      <td>Andante, Andante</td>\n",
       "      <td>/a/abba/andante+andante_20002708.html</td>\n",
       "      <td>take it easy with me, please touch me gently l...</td>\n",
       "    </tr>\n",
       "    <tr>\n",
       "      <th>2</th>\n",
       "      <td>2</td>\n",
       "      <td>ABBA</td>\n",
       "      <td>As Good As New</td>\n",
       "      <td>/a/abba/as+good+as+new_20003033.html</td>\n",
       "      <td>i'll never know why i had to go why i had to p...</td>\n",
       "    </tr>\n",
       "    <tr>\n",
       "      <th>3</th>\n",
       "      <td>3</td>\n",
       "      <td>ABBA</td>\n",
       "      <td>Bang</td>\n",
       "      <td>/a/abba/bang_20598415.html</td>\n",
       "      <td>making somebody happy is a question of give an...</td>\n",
       "    </tr>\n",
       "    <tr>\n",
       "      <th>4</th>\n",
       "      <td>4</td>\n",
       "      <td>ABBA</td>\n",
       "      <td>Bang-A-Boomerang</td>\n",
       "      <td>/a/abba/bang+a+boomerang_20002668.html</td>\n",
       "      <td>making somebody happy is a question of give an...</td>\n",
       "    </tr>\n",
       "    <tr>\n",
       "      <th>...</th>\n",
       "      <td>...</td>\n",
       "      <td>...</td>\n",
       "      <td>...</td>\n",
       "      <td>...</td>\n",
       "      <td>...</td>\n",
       "    </tr>\n",
       "    <tr>\n",
       "      <th>44790</th>\n",
       "      <td>44790</td>\n",
       "      <td>Zebrahead</td>\n",
       "      <td>Mental Health</td>\n",
       "      <td>/z/zebrahead/mental+health_20747013.html</td>\n",
       "      <td>let's go the lights are on but there is no one...</td>\n",
       "    </tr>\n",
       "    <tr>\n",
       "      <th>44791</th>\n",
       "      <td>44791</td>\n",
       "      <td>Zebrahead</td>\n",
       "      <td>The Setup</td>\n",
       "      <td>/z/zebrahead/the+setup_10198494.html</td>\n",
       "      <td>lie to me tell me that everything will be all ...</td>\n",
       "    </tr>\n",
       "    <tr>\n",
       "      <th>44792</th>\n",
       "      <td>44792</td>\n",
       "      <td>Ziggy Marley</td>\n",
       "      <td>Freedom Road</td>\n",
       "      <td>/z/ziggy+marley/freedom+road_20531174.html</td>\n",
       "      <td>that's why i'm marching, yes, i'm marching, ma...</td>\n",
       "    </tr>\n",
       "    <tr>\n",
       "      <th>44793</th>\n",
       "      <td>44793</td>\n",
       "      <td>Ziggy Marley</td>\n",
       "      <td>G7</td>\n",
       "      <td>/z/ziggy+marley/g7_20531173.html</td>\n",
       "      <td>seven richest countries in the world them have...</td>\n",
       "    </tr>\n",
       "    <tr>\n",
       "      <th>44794</th>\n",
       "      <td>44794</td>\n",
       "      <td>Ziggy Marley</td>\n",
       "      <td>Generation</td>\n",
       "      <td>/z/ziggy+marley/generation_20531171.html</td>\n",
       "      <td>many generation have passed away fighting for ...</td>\n",
       "    </tr>\n",
       "  </tbody>\n",
       "</table>\n",
       "<p>44795 rows × 5 columns</p>\n",
       "</div>"
      ],
      "text/plain": [
       "       Unnamed: 0        artist                   song  \\\n",
       "0               0          ABBA  Ahe's My Kind Of Girl   \n",
       "1               1          ABBA       Andante, Andante   \n",
       "2               2          ABBA         As Good As New   \n",
       "3               3          ABBA                   Bang   \n",
       "4               4          ABBA       Bang-A-Boomerang   \n",
       "...           ...           ...                    ...   \n",
       "44790       44790     Zebrahead          Mental Health   \n",
       "44791       44791     Zebrahead              The Setup   \n",
       "44792       44792  Ziggy Marley           Freedom Road   \n",
       "44793       44793  Ziggy Marley                     G7   \n",
       "44794       44794  Ziggy Marley             Generation   \n",
       "\n",
       "                                             link  \\\n",
       "0      /a/abba/ahes+my+kind+of+girl_20598417.html   \n",
       "1           /a/abba/andante+andante_20002708.html   \n",
       "2            /a/abba/as+good+as+new_20003033.html   \n",
       "3                      /a/abba/bang_20598415.html   \n",
       "4          /a/abba/bang+a+boomerang_20002668.html   \n",
       "...                                           ...   \n",
       "44790    /z/zebrahead/mental+health_20747013.html   \n",
       "44791        /z/zebrahead/the+setup_10198494.html   \n",
       "44792  /z/ziggy+marley/freedom+road_20531174.html   \n",
       "44793            /z/ziggy+marley/g7_20531173.html   \n",
       "44794    /z/ziggy+marley/generation_20531171.html   \n",
       "\n",
       "                                                    text  \n",
       "0      look at her face, it's a wonderful face and it...  \n",
       "1      take it easy with me, please touch me gently l...  \n",
       "2      i'll never know why i had to go why i had to p...  \n",
       "3      making somebody happy is a question of give an...  \n",
       "4      making somebody happy is a question of give an...  \n",
       "...                                                  ...  \n",
       "44790  let's go the lights are on but there is no one...  \n",
       "44791  lie to me tell me that everything will be all ...  \n",
       "44792  that's why i'm marching, yes, i'm marching, ma...  \n",
       "44793  seven richest countries in the world them have...  \n",
       "44794  many generation have passed away fighting for ...  \n",
       "\n",
       "[44795 rows x 5 columns]"
      ]
     },
     "execution_count": 66,
     "metadata": {},
     "output_type": "execute_result"
    }
   ],
   "source": [
    "music"
   ]
  },
  {
   "cell_type": "code",
   "execution_count": 67,
   "id": "c4bbfe22-c083-41a0-81f4-7bf24b45d726",
   "metadata": {},
   "outputs": [
    {
     "data": {
      "text/html": [
       "<div>\n",
       "<style scoped>\n",
       "    .dataframe tbody tr th:only-of-type {\n",
       "        vertical-align: middle;\n",
       "    }\n",
       "\n",
       "    .dataframe tbody tr th {\n",
       "        vertical-align: top;\n",
       "    }\n",
       "\n",
       "    .dataframe thead th {\n",
       "        text-align: right;\n",
       "    }\n",
       "</style>\n",
       "<table border=\"1\" class=\"dataframe\">\n",
       "  <thead>\n",
       "    <tr style=\"text-align: right;\">\n",
       "      <th></th>\n",
       "      <th>sadness</th>\n",
       "      <th>joy</th>\n",
       "      <th>love</th>\n",
       "      <th>anger</th>\n",
       "      <th>fear</th>\n",
       "      <th>surprise</th>\n",
       "    </tr>\n",
       "  </thead>\n",
       "  <tbody>\n",
       "    <tr>\n",
       "      <th>0</th>\n",
       "      <td>0.037772</td>\n",
       "      <td>0.865948</td>\n",
       "      <td>0.020204</td>\n",
       "      <td>0.032962</td>\n",
       "      <td>0.023208</td>\n",
       "      <td>0.019906</td>\n",
       "    </tr>\n",
       "    <tr>\n",
       "      <th>1</th>\n",
       "      <td>0.066016</td>\n",
       "      <td>0.637793</td>\n",
       "      <td>0.148777</td>\n",
       "      <td>0.056284</td>\n",
       "      <td>0.058281</td>\n",
       "      <td>0.032849</td>\n",
       "    </tr>\n",
       "    <tr>\n",
       "      <th>2</th>\n",
       "      <td>0.557590</td>\n",
       "      <td>0.304692</td>\n",
       "      <td>0.064213</td>\n",
       "      <td>0.023887</td>\n",
       "      <td>0.027135</td>\n",
       "      <td>0.022482</td>\n",
       "    </tr>\n",
       "    <tr>\n",
       "      <th>3</th>\n",
       "      <td>0.136736</td>\n",
       "      <td>0.362437</td>\n",
       "      <td>0.262408</td>\n",
       "      <td>0.145773</td>\n",
       "      <td>0.065213</td>\n",
       "      <td>0.027435</td>\n",
       "    </tr>\n",
       "    <tr>\n",
       "      <th>4</th>\n",
       "      <td>0.967274</td>\n",
       "      <td>0.005258</td>\n",
       "      <td>0.016713</td>\n",
       "      <td>0.006844</td>\n",
       "      <td>0.002461</td>\n",
       "      <td>0.001449</td>\n",
       "    </tr>\n",
       "    <tr>\n",
       "      <th>...</th>\n",
       "      <td>...</td>\n",
       "      <td>...</td>\n",
       "      <td>...</td>\n",
       "      <td>...</td>\n",
       "      <td>...</td>\n",
       "      <td>...</td>\n",
       "    </tr>\n",
       "    <tr>\n",
       "      <th>44790</th>\n",
       "      <td>0.152381</td>\n",
       "      <td>0.504729</td>\n",
       "      <td>0.055719</td>\n",
       "      <td>0.141408</td>\n",
       "      <td>0.109148</td>\n",
       "      <td>0.036615</td>\n",
       "    </tr>\n",
       "    <tr>\n",
       "      <th>44791</th>\n",
       "      <td>0.426336</td>\n",
       "      <td>0.203087</td>\n",
       "      <td>0.030651</td>\n",
       "      <td>0.199676</td>\n",
       "      <td>0.091436</td>\n",
       "      <td>0.048814</td>\n",
       "    </tr>\n",
       "    <tr>\n",
       "      <th>44792</th>\n",
       "      <td>0.164597</td>\n",
       "      <td>0.422916</td>\n",
       "      <td>0.090274</td>\n",
       "      <td>0.126768</td>\n",
       "      <td>0.155709</td>\n",
       "      <td>0.039737</td>\n",
       "    </tr>\n",
       "    <tr>\n",
       "      <th>44793</th>\n",
       "      <td>0.297446</td>\n",
       "      <td>0.294825</td>\n",
       "      <td>0.074738</td>\n",
       "      <td>0.199254</td>\n",
       "      <td>0.100945</td>\n",
       "      <td>0.032792</td>\n",
       "    </tr>\n",
       "    <tr>\n",
       "      <th>44794</th>\n",
       "      <td>0.307117</td>\n",
       "      <td>0.265349</td>\n",
       "      <td>0.081950</td>\n",
       "      <td>0.221630</td>\n",
       "      <td>0.094529</td>\n",
       "      <td>0.029424</td>\n",
       "    </tr>\n",
       "  </tbody>\n",
       "</table>\n",
       "<p>44795 rows × 6 columns</p>\n",
       "</div>"
      ],
      "text/plain": [
       "        sadness       joy      love     anger      fear  surprise\n",
       "0      0.037772  0.865948  0.020204  0.032962  0.023208  0.019906\n",
       "1      0.066016  0.637793  0.148777  0.056284  0.058281  0.032849\n",
       "2      0.557590  0.304692  0.064213  0.023887  0.027135  0.022482\n",
       "3      0.136736  0.362437  0.262408  0.145773  0.065213  0.027435\n",
       "4      0.967274  0.005258  0.016713  0.006844  0.002461  0.001449\n",
       "...         ...       ...       ...       ...       ...       ...\n",
       "44790  0.152381  0.504729  0.055719  0.141408  0.109148  0.036615\n",
       "44791  0.426336  0.203087  0.030651  0.199676  0.091436  0.048814\n",
       "44792  0.164597  0.422916  0.090274  0.126768  0.155709  0.039737\n",
       "44793  0.297446  0.294825  0.074738  0.199254  0.100945  0.032792\n",
       "44794  0.307117  0.265349  0.081950  0.221630  0.094529  0.029424\n",
       "\n",
       "[44795 rows x 6 columns]"
      ]
     },
     "execution_count": 67,
     "metadata": {},
     "output_type": "execute_result"
    }
   ],
   "source": [
    "scores"
   ]
  },
  {
   "cell_type": "code",
   "execution_count": 68,
   "id": "bc104d0d-9531-49c6-9947-3b32964e5ab5",
   "metadata": {},
   "outputs": [],
   "source": [
    "scored_music=pd.concat([music,scores],axis=1)"
   ]
  },
  {
   "cell_type": "code",
   "execution_count": 69,
   "id": "81c76775-c315-4b9f-aae7-61236782eaa2",
   "metadata": {},
   "outputs": [],
   "source": [
    "scored_music.drop(columns=['Unnamed: 0'],inplace=True)"
   ]
  },
  {
   "cell_type": "code",
   "execution_count": 70,
   "id": "52600889-18bb-4593-ad67-fc6319879d6f",
   "metadata": {},
   "outputs": [
    {
     "data": {
      "text/plain": [
       "Index(['artist', 'song', 'link', 'text', 'sadness', 'joy', 'love', 'anger',\n",
       "       'fear', 'surprise'],\n",
       "      dtype='object')"
      ]
     },
     "execution_count": 70,
     "metadata": {},
     "output_type": "execute_result"
    }
   ],
   "source": [
    "scored_music.columns"
   ]
  },
  {
   "cell_type": "code",
   "execution_count": 71,
   "id": "03124a7e-849a-4d07-b384-e1b81827565b",
   "metadata": {},
   "outputs": [
    {
     "data": {
      "text/html": [
       "<div>\n",
       "<style scoped>\n",
       "    .dataframe tbody tr th:only-of-type {\n",
       "        vertical-align: middle;\n",
       "    }\n",
       "\n",
       "    .dataframe tbody tr th {\n",
       "        vertical-align: top;\n",
       "    }\n",
       "\n",
       "    .dataframe thead th {\n",
       "        text-align: right;\n",
       "    }\n",
       "</style>\n",
       "<table border=\"1\" class=\"dataframe\">\n",
       "  <thead>\n",
       "    <tr style=\"text-align: right;\">\n",
       "      <th></th>\n",
       "      <th>artist</th>\n",
       "      <th>song</th>\n",
       "      <th>link</th>\n",
       "      <th>text</th>\n",
       "      <th>sadness</th>\n",
       "      <th>joy</th>\n",
       "      <th>love</th>\n",
       "      <th>anger</th>\n",
       "      <th>fear</th>\n",
       "      <th>surprise</th>\n",
       "    </tr>\n",
       "  </thead>\n",
       "  <tbody>\n",
       "    <tr>\n",
       "      <th>0</th>\n",
       "      <td>ABBA</td>\n",
       "      <td>Ahe's My Kind Of Girl</td>\n",
       "      <td>/a/abba/ahes+my+kind+of+girl_20598417.html</td>\n",
       "      <td>look at her face, it's a wonderful face and it...</td>\n",
       "      <td>0.037772</td>\n",
       "      <td>0.865948</td>\n",
       "      <td>0.020204</td>\n",
       "      <td>0.032962</td>\n",
       "      <td>0.023208</td>\n",
       "      <td>0.019906</td>\n",
       "    </tr>\n",
       "    <tr>\n",
       "      <th>1</th>\n",
       "      <td>ABBA</td>\n",
       "      <td>Andante, Andante</td>\n",
       "      <td>/a/abba/andante+andante_20002708.html</td>\n",
       "      <td>take it easy with me, please touch me gently l...</td>\n",
       "      <td>0.066016</td>\n",
       "      <td>0.637793</td>\n",
       "      <td>0.148777</td>\n",
       "      <td>0.056284</td>\n",
       "      <td>0.058281</td>\n",
       "      <td>0.032849</td>\n",
       "    </tr>\n",
       "    <tr>\n",
       "      <th>2</th>\n",
       "      <td>ABBA</td>\n",
       "      <td>As Good As New</td>\n",
       "      <td>/a/abba/as+good+as+new_20003033.html</td>\n",
       "      <td>i'll never know why i had to go why i had to p...</td>\n",
       "      <td>0.557590</td>\n",
       "      <td>0.304692</td>\n",
       "      <td>0.064213</td>\n",
       "      <td>0.023887</td>\n",
       "      <td>0.027135</td>\n",
       "      <td>0.022482</td>\n",
       "    </tr>\n",
       "    <tr>\n",
       "      <th>3</th>\n",
       "      <td>ABBA</td>\n",
       "      <td>Bang</td>\n",
       "      <td>/a/abba/bang_20598415.html</td>\n",
       "      <td>making somebody happy is a question of give an...</td>\n",
       "      <td>0.136736</td>\n",
       "      <td>0.362437</td>\n",
       "      <td>0.262408</td>\n",
       "      <td>0.145773</td>\n",
       "      <td>0.065213</td>\n",
       "      <td>0.027435</td>\n",
       "    </tr>\n",
       "    <tr>\n",
       "      <th>4</th>\n",
       "      <td>ABBA</td>\n",
       "      <td>Bang-A-Boomerang</td>\n",
       "      <td>/a/abba/bang+a+boomerang_20002668.html</td>\n",
       "      <td>making somebody happy is a question of give an...</td>\n",
       "      <td>0.967274</td>\n",
       "      <td>0.005258</td>\n",
       "      <td>0.016713</td>\n",
       "      <td>0.006844</td>\n",
       "      <td>0.002461</td>\n",
       "      <td>0.001449</td>\n",
       "    </tr>\n",
       "    <tr>\n",
       "      <th>...</th>\n",
       "      <td>...</td>\n",
       "      <td>...</td>\n",
       "      <td>...</td>\n",
       "      <td>...</td>\n",
       "      <td>...</td>\n",
       "      <td>...</td>\n",
       "      <td>...</td>\n",
       "      <td>...</td>\n",
       "      <td>...</td>\n",
       "      <td>...</td>\n",
       "    </tr>\n",
       "    <tr>\n",
       "      <th>44790</th>\n",
       "      <td>Zebrahead</td>\n",
       "      <td>Mental Health</td>\n",
       "      <td>/z/zebrahead/mental+health_20747013.html</td>\n",
       "      <td>let's go the lights are on but there is no one...</td>\n",
       "      <td>0.152381</td>\n",
       "      <td>0.504729</td>\n",
       "      <td>0.055719</td>\n",
       "      <td>0.141408</td>\n",
       "      <td>0.109148</td>\n",
       "      <td>0.036615</td>\n",
       "    </tr>\n",
       "    <tr>\n",
       "      <th>44791</th>\n",
       "      <td>Zebrahead</td>\n",
       "      <td>The Setup</td>\n",
       "      <td>/z/zebrahead/the+setup_10198494.html</td>\n",
       "      <td>lie to me tell me that everything will be all ...</td>\n",
       "      <td>0.426336</td>\n",
       "      <td>0.203087</td>\n",
       "      <td>0.030651</td>\n",
       "      <td>0.199676</td>\n",
       "      <td>0.091436</td>\n",
       "      <td>0.048814</td>\n",
       "    </tr>\n",
       "    <tr>\n",
       "      <th>44792</th>\n",
       "      <td>Ziggy Marley</td>\n",
       "      <td>Freedom Road</td>\n",
       "      <td>/z/ziggy+marley/freedom+road_20531174.html</td>\n",
       "      <td>that's why i'm marching, yes, i'm marching, ma...</td>\n",
       "      <td>0.164597</td>\n",
       "      <td>0.422916</td>\n",
       "      <td>0.090274</td>\n",
       "      <td>0.126768</td>\n",
       "      <td>0.155709</td>\n",
       "      <td>0.039737</td>\n",
       "    </tr>\n",
       "    <tr>\n",
       "      <th>44793</th>\n",
       "      <td>Ziggy Marley</td>\n",
       "      <td>G7</td>\n",
       "      <td>/z/ziggy+marley/g7_20531173.html</td>\n",
       "      <td>seven richest countries in the world them have...</td>\n",
       "      <td>0.297446</td>\n",
       "      <td>0.294825</td>\n",
       "      <td>0.074738</td>\n",
       "      <td>0.199254</td>\n",
       "      <td>0.100945</td>\n",
       "      <td>0.032792</td>\n",
       "    </tr>\n",
       "    <tr>\n",
       "      <th>44794</th>\n",
       "      <td>Ziggy Marley</td>\n",
       "      <td>Generation</td>\n",
       "      <td>/z/ziggy+marley/generation_20531171.html</td>\n",
       "      <td>many generation have passed away fighting for ...</td>\n",
       "      <td>0.307117</td>\n",
       "      <td>0.265349</td>\n",
       "      <td>0.081950</td>\n",
       "      <td>0.221630</td>\n",
       "      <td>0.094529</td>\n",
       "      <td>0.029424</td>\n",
       "    </tr>\n",
       "  </tbody>\n",
       "</table>\n",
       "<p>44795 rows × 10 columns</p>\n",
       "</div>"
      ],
      "text/plain": [
       "             artist                   song  \\\n",
       "0              ABBA  Ahe's My Kind Of Girl   \n",
       "1              ABBA       Andante, Andante   \n",
       "2              ABBA         As Good As New   \n",
       "3              ABBA                   Bang   \n",
       "4              ABBA       Bang-A-Boomerang   \n",
       "...             ...                    ...   \n",
       "44790     Zebrahead          Mental Health   \n",
       "44791     Zebrahead              The Setup   \n",
       "44792  Ziggy Marley           Freedom Road   \n",
       "44793  Ziggy Marley                     G7   \n",
       "44794  Ziggy Marley             Generation   \n",
       "\n",
       "                                             link  \\\n",
       "0      /a/abba/ahes+my+kind+of+girl_20598417.html   \n",
       "1           /a/abba/andante+andante_20002708.html   \n",
       "2            /a/abba/as+good+as+new_20003033.html   \n",
       "3                      /a/abba/bang_20598415.html   \n",
       "4          /a/abba/bang+a+boomerang_20002668.html   \n",
       "...                                           ...   \n",
       "44790    /z/zebrahead/mental+health_20747013.html   \n",
       "44791        /z/zebrahead/the+setup_10198494.html   \n",
       "44792  /z/ziggy+marley/freedom+road_20531174.html   \n",
       "44793            /z/ziggy+marley/g7_20531173.html   \n",
       "44794    /z/ziggy+marley/generation_20531171.html   \n",
       "\n",
       "                                                    text   sadness       joy  \\\n",
       "0      look at her face, it's a wonderful face and it...  0.037772  0.865948   \n",
       "1      take it easy with me, please touch me gently l...  0.066016  0.637793   \n",
       "2      i'll never know why i had to go why i had to p...  0.557590  0.304692   \n",
       "3      making somebody happy is a question of give an...  0.136736  0.362437   \n",
       "4      making somebody happy is a question of give an...  0.967274  0.005258   \n",
       "...                                                  ...       ...       ...   \n",
       "44790  let's go the lights are on but there is no one...  0.152381  0.504729   \n",
       "44791  lie to me tell me that everything will be all ...  0.426336  0.203087   \n",
       "44792  that's why i'm marching, yes, i'm marching, ma...  0.164597  0.422916   \n",
       "44793  seven richest countries in the world them have...  0.297446  0.294825   \n",
       "44794  many generation have passed away fighting for ...  0.307117  0.265349   \n",
       "\n",
       "           love     anger      fear  surprise  \n",
       "0      0.020204  0.032962  0.023208  0.019906  \n",
       "1      0.148777  0.056284  0.058281  0.032849  \n",
       "2      0.064213  0.023887  0.027135  0.022482  \n",
       "3      0.262408  0.145773  0.065213  0.027435  \n",
       "4      0.016713  0.006844  0.002461  0.001449  \n",
       "...         ...       ...       ...       ...  \n",
       "44790  0.055719  0.141408  0.109148  0.036615  \n",
       "44791  0.030651  0.199676  0.091436  0.048814  \n",
       "44792  0.090274  0.126768  0.155709  0.039737  \n",
       "44793  0.074738  0.199254  0.100945  0.032792  \n",
       "44794  0.081950  0.221630  0.094529  0.029424  \n",
       "\n",
       "[44795 rows x 10 columns]"
      ]
     },
     "execution_count": 71,
     "metadata": {},
     "output_type": "execute_result"
    }
   ],
   "source": [
    "scored_music"
   ]
  },
  {
   "cell_type": "code",
   "execution_count": 72,
   "id": "ad12bf7d-eab6-46dc-b436-2d0a0f10c5bb",
   "metadata": {},
   "outputs": [],
   "source": [
    "scored_music.to_csv('scored_music.xlsx',index=False) "
   ]
  },
  {
   "cell_type": "code",
   "execution_count": 73,
   "id": "f6c2e014-9a32-465d-929c-b5be069c2293",
   "metadata": {},
   "outputs": [
    {
     "name": "stderr",
     "output_type": "stream",
     "text": [
      "100%|███████████████████████████████████████████████████████████████████████████| 44795/44795 [05:39<00:00, 131.82it/s]\n"
     ]
    }
   ],
   "source": [
    "vector=music['text'].progress_apply(emotion_score)"
   ]
  },
  {
   "cell_type": "code",
   "execution_count": 74,
   "id": "29b33929-f791-4d6b-82fc-42d866099f4e",
   "metadata": {},
   "outputs": [
    {
     "data": {
      "text/plain": [
       "0        [0.037771861392196945, 0.865948419112691, 0.02...\n",
       "1        [0.0660160140254407, 0.6377930766113133, 0.148...\n",
       "2        [0.5575900549063024, 0.3046922826265263, 0.064...\n",
       "3        [0.13673553505589905, 0.3624368879213182, 0.26...\n",
       "4        [0.9672743610382378, 0.0052580633129720306, 0....\n",
       "                               ...                        \n",
       "44790    [0.15238124763496208, 0.5047291126308601, 0.05...\n",
       "44791    [0.4263364301563252, 0.2030869043838914, 0.030...\n",
       "44792    [0.1645965162351848, 0.4229155166796501, 0.090...\n",
       "44793    [0.2974464252724677, 0.2948254435155049, 0.074...\n",
       "44794    [0.30711703875536295, 0.26534945267114374, 0.0...\n",
       "Name: text, Length: 44795, dtype: object"
      ]
     },
     "execution_count": 74,
     "metadata": {},
     "output_type": "execute_result"
    }
   ],
   "source": [
    "vector"
   ]
  },
  {
   "cell_type": "code",
   "execution_count": 75,
   "id": "a448009e-bd64-4342-b38e-74bd785c2547",
   "metadata": {},
   "outputs": [
    {
     "data": {
      "text/plain": [
       "0        [0.037771861392196945, 0.865948419112691, 0.02...\n",
       "1        [0.0660160140254407, 0.6377930766113133, 0.148...\n",
       "2        [0.5575900549063024, 0.3046922826265263, 0.064...\n",
       "3        [0.13673553505589905, 0.3624368879213182, 0.26...\n",
       "4        [0.9672743610382378, 0.0052580633129720306, 0....\n",
       "                               ...                        \n",
       "44790    [0.15238124763496208, 0.5047291126308601, 0.05...\n",
       "44791    [0.4263364301563252, 0.2030869043838914, 0.030...\n",
       "44792    [0.1645965162351848, 0.4229155166796501, 0.090...\n",
       "44793    [0.2974464252724677, 0.2948254435155049, 0.074...\n",
       "44794    [0.30711703875536295, 0.26534945267114374, 0.0...\n",
       "Name: text, Length: 44795, dtype: object"
      ]
     },
     "execution_count": 75,
     "metadata": {},
     "output_type": "execute_result"
    }
   ],
   "source": [
    "vector"
   ]
  },
  {
   "cell_type": "code",
   "execution_count": 76,
   "id": "6d4feea5-814c-474a-8546-d6f16c0f3429",
   "metadata": {},
   "outputs": [
    {
     "data": {
      "text/plain": [
       "0        [0.037771861392196945, 0.865948419112691, 0.02...\n",
       "1        [0.0660160140254407, 0.6377930766113133, 0.148...\n",
       "2        [0.5575900549063024, 0.3046922826265263, 0.064...\n",
       "3        [0.13673553505589905, 0.3624368879213182, 0.26...\n",
       "4        [0.9672743610382378, 0.0052580633129720306, 0....\n",
       "                               ...                        \n",
       "44790    [0.15238124763496208, 0.5047291126308601, 0.05...\n",
       "44791    [0.4263364301563252, 0.2030869043838914, 0.030...\n",
       "44792    [0.1645965162351848, 0.4229155166796501, 0.090...\n",
       "44793    [0.2974464252724677, 0.2948254435155049, 0.074...\n",
       "44794    [0.30711703875536295, 0.26534945267114374, 0.0...\n",
       "Name: text, Length: 44795, dtype: object"
      ]
     },
     "execution_count": 76,
     "metadata": {},
     "output_type": "execute_result"
    }
   ],
   "source": [
    "pd.Series(vector)"
   ]
  },
  {
   "cell_type": "code",
   "execution_count": 77,
   "id": "e6bb3d30-11ff-4a18-9dfc-00b985dbcbce",
   "metadata": {},
   "outputs": [
    {
     "data": {
      "text/html": [
       "<div>\n",
       "<style scoped>\n",
       "    .dataframe tbody tr th:only-of-type {\n",
       "        vertical-align: middle;\n",
       "    }\n",
       "\n",
       "    .dataframe tbody tr th {\n",
       "        vertical-align: top;\n",
       "    }\n",
       "\n",
       "    .dataframe thead th {\n",
       "        text-align: right;\n",
       "    }\n",
       "</style>\n",
       "<table border=\"1\" class=\"dataframe\">\n",
       "  <thead>\n",
       "    <tr style=\"text-align: right;\">\n",
       "      <th></th>\n",
       "      <th>artist</th>\n",
       "      <th>song</th>\n",
       "      <th>link</th>\n",
       "      <th>text</th>\n",
       "      <th>sadness</th>\n",
       "      <th>joy</th>\n",
       "      <th>love</th>\n",
       "      <th>anger</th>\n",
       "      <th>fear</th>\n",
       "      <th>surprise</th>\n",
       "    </tr>\n",
       "  </thead>\n",
       "  <tbody>\n",
       "    <tr>\n",
       "      <th>0</th>\n",
       "      <td>ABBA</td>\n",
       "      <td>Ahe's My Kind Of Girl</td>\n",
       "      <td>/a/abba/ahes+my+kind+of+girl_20598417.html</td>\n",
       "      <td>look at her face, it's a wonderful face and it...</td>\n",
       "      <td>0.037772</td>\n",
       "      <td>0.865948</td>\n",
       "      <td>0.020204</td>\n",
       "      <td>0.032962</td>\n",
       "      <td>0.023208</td>\n",
       "      <td>0.019906</td>\n",
       "    </tr>\n",
       "    <tr>\n",
       "      <th>1</th>\n",
       "      <td>ABBA</td>\n",
       "      <td>Andante, Andante</td>\n",
       "      <td>/a/abba/andante+andante_20002708.html</td>\n",
       "      <td>take it easy with me, please touch me gently l...</td>\n",
       "      <td>0.066016</td>\n",
       "      <td>0.637793</td>\n",
       "      <td>0.148777</td>\n",
       "      <td>0.056284</td>\n",
       "      <td>0.058281</td>\n",
       "      <td>0.032849</td>\n",
       "    </tr>\n",
       "    <tr>\n",
       "      <th>2</th>\n",
       "      <td>ABBA</td>\n",
       "      <td>As Good As New</td>\n",
       "      <td>/a/abba/as+good+as+new_20003033.html</td>\n",
       "      <td>i'll never know why i had to go why i had to p...</td>\n",
       "      <td>0.557590</td>\n",
       "      <td>0.304692</td>\n",
       "      <td>0.064213</td>\n",
       "      <td>0.023887</td>\n",
       "      <td>0.027135</td>\n",
       "      <td>0.022482</td>\n",
       "    </tr>\n",
       "    <tr>\n",
       "      <th>3</th>\n",
       "      <td>ABBA</td>\n",
       "      <td>Bang</td>\n",
       "      <td>/a/abba/bang_20598415.html</td>\n",
       "      <td>making somebody happy is a question of give an...</td>\n",
       "      <td>0.136736</td>\n",
       "      <td>0.362437</td>\n",
       "      <td>0.262408</td>\n",
       "      <td>0.145773</td>\n",
       "      <td>0.065213</td>\n",
       "      <td>0.027435</td>\n",
       "    </tr>\n",
       "    <tr>\n",
       "      <th>4</th>\n",
       "      <td>ABBA</td>\n",
       "      <td>Bang-A-Boomerang</td>\n",
       "      <td>/a/abba/bang+a+boomerang_20002668.html</td>\n",
       "      <td>making somebody happy is a question of give an...</td>\n",
       "      <td>0.967274</td>\n",
       "      <td>0.005258</td>\n",
       "      <td>0.016713</td>\n",
       "      <td>0.006844</td>\n",
       "      <td>0.002461</td>\n",
       "      <td>0.001449</td>\n",
       "    </tr>\n",
       "    <tr>\n",
       "      <th>...</th>\n",
       "      <td>...</td>\n",
       "      <td>...</td>\n",
       "      <td>...</td>\n",
       "      <td>...</td>\n",
       "      <td>...</td>\n",
       "      <td>...</td>\n",
       "      <td>...</td>\n",
       "      <td>...</td>\n",
       "      <td>...</td>\n",
       "      <td>...</td>\n",
       "    </tr>\n",
       "    <tr>\n",
       "      <th>44790</th>\n",
       "      <td>Zebrahead</td>\n",
       "      <td>Mental Health</td>\n",
       "      <td>/z/zebrahead/mental+health_20747013.html</td>\n",
       "      <td>let's go the lights are on but there is no one...</td>\n",
       "      <td>0.152381</td>\n",
       "      <td>0.504729</td>\n",
       "      <td>0.055719</td>\n",
       "      <td>0.141408</td>\n",
       "      <td>0.109148</td>\n",
       "      <td>0.036615</td>\n",
       "    </tr>\n",
       "    <tr>\n",
       "      <th>44791</th>\n",
       "      <td>Zebrahead</td>\n",
       "      <td>The Setup</td>\n",
       "      <td>/z/zebrahead/the+setup_10198494.html</td>\n",
       "      <td>lie to me tell me that everything will be all ...</td>\n",
       "      <td>0.426336</td>\n",
       "      <td>0.203087</td>\n",
       "      <td>0.030651</td>\n",
       "      <td>0.199676</td>\n",
       "      <td>0.091436</td>\n",
       "      <td>0.048814</td>\n",
       "    </tr>\n",
       "    <tr>\n",
       "      <th>44792</th>\n",
       "      <td>Ziggy Marley</td>\n",
       "      <td>Freedom Road</td>\n",
       "      <td>/z/ziggy+marley/freedom+road_20531174.html</td>\n",
       "      <td>that's why i'm marching, yes, i'm marching, ma...</td>\n",
       "      <td>0.164597</td>\n",
       "      <td>0.422916</td>\n",
       "      <td>0.090274</td>\n",
       "      <td>0.126768</td>\n",
       "      <td>0.155709</td>\n",
       "      <td>0.039737</td>\n",
       "    </tr>\n",
       "    <tr>\n",
       "      <th>44793</th>\n",
       "      <td>Ziggy Marley</td>\n",
       "      <td>G7</td>\n",
       "      <td>/z/ziggy+marley/g7_20531173.html</td>\n",
       "      <td>seven richest countries in the world them have...</td>\n",
       "      <td>0.297446</td>\n",
       "      <td>0.294825</td>\n",
       "      <td>0.074738</td>\n",
       "      <td>0.199254</td>\n",
       "      <td>0.100945</td>\n",
       "      <td>0.032792</td>\n",
       "    </tr>\n",
       "    <tr>\n",
       "      <th>44794</th>\n",
       "      <td>Ziggy Marley</td>\n",
       "      <td>Generation</td>\n",
       "      <td>/z/ziggy+marley/generation_20531171.html</td>\n",
       "      <td>many generation have passed away fighting for ...</td>\n",
       "      <td>0.307117</td>\n",
       "      <td>0.265349</td>\n",
       "      <td>0.081950</td>\n",
       "      <td>0.221630</td>\n",
       "      <td>0.094529</td>\n",
       "      <td>0.029424</td>\n",
       "    </tr>\n",
       "  </tbody>\n",
       "</table>\n",
       "<p>44795 rows × 10 columns</p>\n",
       "</div>"
      ],
      "text/plain": [
       "             artist                   song  \\\n",
       "0              ABBA  Ahe's My Kind Of Girl   \n",
       "1              ABBA       Andante, Andante   \n",
       "2              ABBA         As Good As New   \n",
       "3              ABBA                   Bang   \n",
       "4              ABBA       Bang-A-Boomerang   \n",
       "...             ...                    ...   \n",
       "44790     Zebrahead          Mental Health   \n",
       "44791     Zebrahead              The Setup   \n",
       "44792  Ziggy Marley           Freedom Road   \n",
       "44793  Ziggy Marley                     G7   \n",
       "44794  Ziggy Marley             Generation   \n",
       "\n",
       "                                             link  \\\n",
       "0      /a/abba/ahes+my+kind+of+girl_20598417.html   \n",
       "1           /a/abba/andante+andante_20002708.html   \n",
       "2            /a/abba/as+good+as+new_20003033.html   \n",
       "3                      /a/abba/bang_20598415.html   \n",
       "4          /a/abba/bang+a+boomerang_20002668.html   \n",
       "...                                           ...   \n",
       "44790    /z/zebrahead/mental+health_20747013.html   \n",
       "44791        /z/zebrahead/the+setup_10198494.html   \n",
       "44792  /z/ziggy+marley/freedom+road_20531174.html   \n",
       "44793            /z/ziggy+marley/g7_20531173.html   \n",
       "44794    /z/ziggy+marley/generation_20531171.html   \n",
       "\n",
       "                                                    text   sadness       joy  \\\n",
       "0      look at her face, it's a wonderful face and it...  0.037772  0.865948   \n",
       "1      take it easy with me, please touch me gently l...  0.066016  0.637793   \n",
       "2      i'll never know why i had to go why i had to p...  0.557590  0.304692   \n",
       "3      making somebody happy is a question of give an...  0.136736  0.362437   \n",
       "4      making somebody happy is a question of give an...  0.967274  0.005258   \n",
       "...                                                  ...       ...       ...   \n",
       "44790  let's go the lights are on but there is no one...  0.152381  0.504729   \n",
       "44791  lie to me tell me that everything will be all ...  0.426336  0.203087   \n",
       "44792  that's why i'm marching, yes, i'm marching, ma...  0.164597  0.422916   \n",
       "44793  seven richest countries in the world them have...  0.297446  0.294825   \n",
       "44794  many generation have passed away fighting for ...  0.307117  0.265349   \n",
       "\n",
       "           love     anger      fear  surprise  \n",
       "0      0.020204  0.032962  0.023208  0.019906  \n",
       "1      0.148777  0.056284  0.058281  0.032849  \n",
       "2      0.064213  0.023887  0.027135  0.022482  \n",
       "3      0.262408  0.145773  0.065213  0.027435  \n",
       "4      0.016713  0.006844  0.002461  0.001449  \n",
       "...         ...       ...       ...       ...  \n",
       "44790  0.055719  0.141408  0.109148  0.036615  \n",
       "44791  0.030651  0.199676  0.091436  0.048814  \n",
       "44792  0.090274  0.126768  0.155709  0.039737  \n",
       "44793  0.074738  0.199254  0.100945  0.032792  \n",
       "44794  0.081950  0.221630  0.094529  0.029424  \n",
       "\n",
       "[44795 rows x 10 columns]"
      ]
     },
     "execution_count": 77,
     "metadata": {},
     "output_type": "execute_result"
    }
   ],
   "source": [
    "scored_music"
   ]
  },
  {
   "cell_type": "code",
   "execution_count": 78,
   "id": "acb0424a-3106-4cfd-b838-83e7b9a6cf5f",
   "metadata": {},
   "outputs": [],
   "source": [
    "#scored_music_w_vector=pd.concat([scored_music,pd.Series(vector)],axis=1)"
   ]
  },
  {
   "cell_type": "code",
   "execution_count": 79,
   "id": "ec2a4ab2-a616-4e5e-9ac8-d87e8d15b0a2",
   "metadata": {},
   "outputs": [
    {
     "ename": "NameError",
     "evalue": "name 'scored_music_w_vector' is not defined",
     "output_type": "error",
     "traceback": [
      "\u001b[1;31m---------------------------------------------------------------------------\u001b[0m",
      "\u001b[1;31mNameError\u001b[0m                                 Traceback (most recent call last)",
      "Cell \u001b[1;32mIn[79], line 1\u001b[0m\n\u001b[1;32m----> 1\u001b[0m \u001b[43mscored_music_w_vector\u001b[49m\n",
      "\u001b[1;31mNameError\u001b[0m: name 'scored_music_w_vector' is not defined"
     ]
    }
   ],
   "source": [
    "#scored_music_w_vector"
   ]
  },
  {
   "cell_type": "code",
   "execution_count": 80,
   "id": "73818238-ca89-46a7-a8e3-5f771ce7f8b9",
   "metadata": {},
   "outputs": [],
   "source": [
    "scored_music['vector']=vector"
   ]
  },
  {
   "cell_type": "code",
   "execution_count": 81,
   "id": "a9bee4a9-6d93-41f4-9780-7dc270b8bb4e",
   "metadata": {},
   "outputs": [
    {
     "data": {
      "text/html": [
       "<div>\n",
       "<style scoped>\n",
       "    .dataframe tbody tr th:only-of-type {\n",
       "        vertical-align: middle;\n",
       "    }\n",
       "\n",
       "    .dataframe tbody tr th {\n",
       "        vertical-align: top;\n",
       "    }\n",
       "\n",
       "    .dataframe thead th {\n",
       "        text-align: right;\n",
       "    }\n",
       "</style>\n",
       "<table border=\"1\" class=\"dataframe\">\n",
       "  <thead>\n",
       "    <tr style=\"text-align: right;\">\n",
       "      <th></th>\n",
       "      <th>artist</th>\n",
       "      <th>song</th>\n",
       "      <th>link</th>\n",
       "      <th>text</th>\n",
       "      <th>sadness</th>\n",
       "      <th>joy</th>\n",
       "      <th>love</th>\n",
       "      <th>anger</th>\n",
       "      <th>fear</th>\n",
       "      <th>surprise</th>\n",
       "      <th>vector</th>\n",
       "    </tr>\n",
       "  </thead>\n",
       "  <tbody>\n",
       "    <tr>\n",
       "      <th>0</th>\n",
       "      <td>ABBA</td>\n",
       "      <td>Ahe's My Kind Of Girl</td>\n",
       "      <td>/a/abba/ahes+my+kind+of+girl_20598417.html</td>\n",
       "      <td>look at her face, it's a wonderful face and it...</td>\n",
       "      <td>0.037772</td>\n",
       "      <td>0.865948</td>\n",
       "      <td>0.020204</td>\n",
       "      <td>0.032962</td>\n",
       "      <td>0.023208</td>\n",
       "      <td>0.019906</td>\n",
       "      <td>[0.037771861392196945, 0.865948419112691, 0.02...</td>\n",
       "    </tr>\n",
       "    <tr>\n",
       "      <th>1</th>\n",
       "      <td>ABBA</td>\n",
       "      <td>Andante, Andante</td>\n",
       "      <td>/a/abba/andante+andante_20002708.html</td>\n",
       "      <td>take it easy with me, please touch me gently l...</td>\n",
       "      <td>0.066016</td>\n",
       "      <td>0.637793</td>\n",
       "      <td>0.148777</td>\n",
       "      <td>0.056284</td>\n",
       "      <td>0.058281</td>\n",
       "      <td>0.032849</td>\n",
       "      <td>[0.0660160140254407, 0.6377930766113133, 0.148...</td>\n",
       "    </tr>\n",
       "    <tr>\n",
       "      <th>2</th>\n",
       "      <td>ABBA</td>\n",
       "      <td>As Good As New</td>\n",
       "      <td>/a/abba/as+good+as+new_20003033.html</td>\n",
       "      <td>i'll never know why i had to go why i had to p...</td>\n",
       "      <td>0.557590</td>\n",
       "      <td>0.304692</td>\n",
       "      <td>0.064213</td>\n",
       "      <td>0.023887</td>\n",
       "      <td>0.027135</td>\n",
       "      <td>0.022482</td>\n",
       "      <td>[0.5575900549063024, 0.3046922826265263, 0.064...</td>\n",
       "    </tr>\n",
       "    <tr>\n",
       "      <th>3</th>\n",
       "      <td>ABBA</td>\n",
       "      <td>Bang</td>\n",
       "      <td>/a/abba/bang_20598415.html</td>\n",
       "      <td>making somebody happy is a question of give an...</td>\n",
       "      <td>0.136736</td>\n",
       "      <td>0.362437</td>\n",
       "      <td>0.262408</td>\n",
       "      <td>0.145773</td>\n",
       "      <td>0.065213</td>\n",
       "      <td>0.027435</td>\n",
       "      <td>[0.13673553505589905, 0.3624368879213182, 0.26...</td>\n",
       "    </tr>\n",
       "    <tr>\n",
       "      <th>4</th>\n",
       "      <td>ABBA</td>\n",
       "      <td>Bang-A-Boomerang</td>\n",
       "      <td>/a/abba/bang+a+boomerang_20002668.html</td>\n",
       "      <td>making somebody happy is a question of give an...</td>\n",
       "      <td>0.967274</td>\n",
       "      <td>0.005258</td>\n",
       "      <td>0.016713</td>\n",
       "      <td>0.006844</td>\n",
       "      <td>0.002461</td>\n",
       "      <td>0.001449</td>\n",
       "      <td>[0.9672743610382378, 0.0052580633129720306, 0....</td>\n",
       "    </tr>\n",
       "    <tr>\n",
       "      <th>...</th>\n",
       "      <td>...</td>\n",
       "      <td>...</td>\n",
       "      <td>...</td>\n",
       "      <td>...</td>\n",
       "      <td>...</td>\n",
       "      <td>...</td>\n",
       "      <td>...</td>\n",
       "      <td>...</td>\n",
       "      <td>...</td>\n",
       "      <td>...</td>\n",
       "      <td>...</td>\n",
       "    </tr>\n",
       "    <tr>\n",
       "      <th>44790</th>\n",
       "      <td>Zebrahead</td>\n",
       "      <td>Mental Health</td>\n",
       "      <td>/z/zebrahead/mental+health_20747013.html</td>\n",
       "      <td>let's go the lights are on but there is no one...</td>\n",
       "      <td>0.152381</td>\n",
       "      <td>0.504729</td>\n",
       "      <td>0.055719</td>\n",
       "      <td>0.141408</td>\n",
       "      <td>0.109148</td>\n",
       "      <td>0.036615</td>\n",
       "      <td>[0.15238124763496208, 0.5047291126308601, 0.05...</td>\n",
       "    </tr>\n",
       "    <tr>\n",
       "      <th>44791</th>\n",
       "      <td>Zebrahead</td>\n",
       "      <td>The Setup</td>\n",
       "      <td>/z/zebrahead/the+setup_10198494.html</td>\n",
       "      <td>lie to me tell me that everything will be all ...</td>\n",
       "      <td>0.426336</td>\n",
       "      <td>0.203087</td>\n",
       "      <td>0.030651</td>\n",
       "      <td>0.199676</td>\n",
       "      <td>0.091436</td>\n",
       "      <td>0.048814</td>\n",
       "      <td>[0.4263364301563252, 0.2030869043838914, 0.030...</td>\n",
       "    </tr>\n",
       "    <tr>\n",
       "      <th>44792</th>\n",
       "      <td>Ziggy Marley</td>\n",
       "      <td>Freedom Road</td>\n",
       "      <td>/z/ziggy+marley/freedom+road_20531174.html</td>\n",
       "      <td>that's why i'm marching, yes, i'm marching, ma...</td>\n",
       "      <td>0.164597</td>\n",
       "      <td>0.422916</td>\n",
       "      <td>0.090274</td>\n",
       "      <td>0.126768</td>\n",
       "      <td>0.155709</td>\n",
       "      <td>0.039737</td>\n",
       "      <td>[0.1645965162351848, 0.4229155166796501, 0.090...</td>\n",
       "    </tr>\n",
       "    <tr>\n",
       "      <th>44793</th>\n",
       "      <td>Ziggy Marley</td>\n",
       "      <td>G7</td>\n",
       "      <td>/z/ziggy+marley/g7_20531173.html</td>\n",
       "      <td>seven richest countries in the world them have...</td>\n",
       "      <td>0.297446</td>\n",
       "      <td>0.294825</td>\n",
       "      <td>0.074738</td>\n",
       "      <td>0.199254</td>\n",
       "      <td>0.100945</td>\n",
       "      <td>0.032792</td>\n",
       "      <td>[0.2974464252724677, 0.2948254435155049, 0.074...</td>\n",
       "    </tr>\n",
       "    <tr>\n",
       "      <th>44794</th>\n",
       "      <td>Ziggy Marley</td>\n",
       "      <td>Generation</td>\n",
       "      <td>/z/ziggy+marley/generation_20531171.html</td>\n",
       "      <td>many generation have passed away fighting for ...</td>\n",
       "      <td>0.307117</td>\n",
       "      <td>0.265349</td>\n",
       "      <td>0.081950</td>\n",
       "      <td>0.221630</td>\n",
       "      <td>0.094529</td>\n",
       "      <td>0.029424</td>\n",
       "      <td>[0.30711703875536295, 0.26534945267114374, 0.0...</td>\n",
       "    </tr>\n",
       "  </tbody>\n",
       "</table>\n",
       "<p>44795 rows × 11 columns</p>\n",
       "</div>"
      ],
      "text/plain": [
       "             artist                   song  \\\n",
       "0              ABBA  Ahe's My Kind Of Girl   \n",
       "1              ABBA       Andante, Andante   \n",
       "2              ABBA         As Good As New   \n",
       "3              ABBA                   Bang   \n",
       "4              ABBA       Bang-A-Boomerang   \n",
       "...             ...                    ...   \n",
       "44790     Zebrahead          Mental Health   \n",
       "44791     Zebrahead              The Setup   \n",
       "44792  Ziggy Marley           Freedom Road   \n",
       "44793  Ziggy Marley                     G7   \n",
       "44794  Ziggy Marley             Generation   \n",
       "\n",
       "                                             link  \\\n",
       "0      /a/abba/ahes+my+kind+of+girl_20598417.html   \n",
       "1           /a/abba/andante+andante_20002708.html   \n",
       "2            /a/abba/as+good+as+new_20003033.html   \n",
       "3                      /a/abba/bang_20598415.html   \n",
       "4          /a/abba/bang+a+boomerang_20002668.html   \n",
       "...                                           ...   \n",
       "44790    /z/zebrahead/mental+health_20747013.html   \n",
       "44791        /z/zebrahead/the+setup_10198494.html   \n",
       "44792  /z/ziggy+marley/freedom+road_20531174.html   \n",
       "44793            /z/ziggy+marley/g7_20531173.html   \n",
       "44794    /z/ziggy+marley/generation_20531171.html   \n",
       "\n",
       "                                                    text   sadness       joy  \\\n",
       "0      look at her face, it's a wonderful face and it...  0.037772  0.865948   \n",
       "1      take it easy with me, please touch me gently l...  0.066016  0.637793   \n",
       "2      i'll never know why i had to go why i had to p...  0.557590  0.304692   \n",
       "3      making somebody happy is a question of give an...  0.136736  0.362437   \n",
       "4      making somebody happy is a question of give an...  0.967274  0.005258   \n",
       "...                                                  ...       ...       ...   \n",
       "44790  let's go the lights are on but there is no one...  0.152381  0.504729   \n",
       "44791  lie to me tell me that everything will be all ...  0.426336  0.203087   \n",
       "44792  that's why i'm marching, yes, i'm marching, ma...  0.164597  0.422916   \n",
       "44793  seven richest countries in the world them have...  0.297446  0.294825   \n",
       "44794  many generation have passed away fighting for ...  0.307117  0.265349   \n",
       "\n",
       "           love     anger      fear  surprise  \\\n",
       "0      0.020204  0.032962  0.023208  0.019906   \n",
       "1      0.148777  0.056284  0.058281  0.032849   \n",
       "2      0.064213  0.023887  0.027135  0.022482   \n",
       "3      0.262408  0.145773  0.065213  0.027435   \n",
       "4      0.016713  0.006844  0.002461  0.001449   \n",
       "...         ...       ...       ...       ...   \n",
       "44790  0.055719  0.141408  0.109148  0.036615   \n",
       "44791  0.030651  0.199676  0.091436  0.048814   \n",
       "44792  0.090274  0.126768  0.155709  0.039737   \n",
       "44793  0.074738  0.199254  0.100945  0.032792   \n",
       "44794  0.081950  0.221630  0.094529  0.029424   \n",
       "\n",
       "                                                  vector  \n",
       "0      [0.037771861392196945, 0.865948419112691, 0.02...  \n",
       "1      [0.0660160140254407, 0.6377930766113133, 0.148...  \n",
       "2      [0.5575900549063024, 0.3046922826265263, 0.064...  \n",
       "3      [0.13673553505589905, 0.3624368879213182, 0.26...  \n",
       "4      [0.9672743610382378, 0.0052580633129720306, 0....  \n",
       "...                                                  ...  \n",
       "44790  [0.15238124763496208, 0.5047291126308601, 0.05...  \n",
       "44791  [0.4263364301563252, 0.2030869043838914, 0.030...  \n",
       "44792  [0.1645965162351848, 0.4229155166796501, 0.090...  \n",
       "44793  [0.2974464252724677, 0.2948254435155049, 0.074...  \n",
       "44794  [0.30711703875536295, 0.26534945267114374, 0.0...  \n",
       "\n",
       "[44795 rows x 11 columns]"
      ]
     },
     "execution_count": 81,
     "metadata": {},
     "output_type": "execute_result"
    }
   ],
   "source": [
    "scored_music"
   ]
  },
  {
   "cell_type": "code",
   "execution_count": null,
   "id": "aeba93c3-a98f-43a4-85eb-f31e03e5bf7b",
   "metadata": {},
   "outputs": [],
   "source": [
    "#scored_music.to_csv('scored_music_w_vector.csv',index=False)"
   ]
  },
  {
   "cell_type": "code",
   "execution_count": 82,
   "id": "06a09800-d232-4ad9-ab2d-e4f8a03cd743",
   "metadata": {},
   "outputs": [
    {
     "data": {
      "text/html": [
       "<div>\n",
       "<style scoped>\n",
       "    .dataframe tbody tr th:only-of-type {\n",
       "        vertical-align: middle;\n",
       "    }\n",
       "\n",
       "    .dataframe tbody tr th {\n",
       "        vertical-align: top;\n",
       "    }\n",
       "\n",
       "    .dataframe thead th {\n",
       "        text-align: right;\n",
       "    }\n",
       "</style>\n",
       "<table border=\"1\" class=\"dataframe\">\n",
       "  <thead>\n",
       "    <tr style=\"text-align: right;\">\n",
       "      <th></th>\n",
       "      <th>artist</th>\n",
       "      <th>song</th>\n",
       "      <th>link</th>\n",
       "      <th>text</th>\n",
       "      <th>sadness</th>\n",
       "      <th>joy</th>\n",
       "      <th>love</th>\n",
       "      <th>anger</th>\n",
       "      <th>fear</th>\n",
       "      <th>surprise</th>\n",
       "      <th>vector</th>\n",
       "    </tr>\n",
       "  </thead>\n",
       "  <tbody>\n",
       "    <tr>\n",
       "      <th>0</th>\n",
       "      <td>ABBA</td>\n",
       "      <td>Ahe's My Kind Of Girl</td>\n",
       "      <td>/a/abba/ahes+my+kind+of+girl_20598417.html</td>\n",
       "      <td>look at her face, it's a wonderful face and it...</td>\n",
       "      <td>0.037772</td>\n",
       "      <td>0.865948</td>\n",
       "      <td>0.020204</td>\n",
       "      <td>0.032962</td>\n",
       "      <td>0.023208</td>\n",
       "      <td>0.019906</td>\n",
       "      <td>[0.037771861392196945, 0.865948419112691, 0.02...</td>\n",
       "    </tr>\n",
       "    <tr>\n",
       "      <th>1</th>\n",
       "      <td>ABBA</td>\n",
       "      <td>Andante, Andante</td>\n",
       "      <td>/a/abba/andante+andante_20002708.html</td>\n",
       "      <td>take it easy with me, please touch me gently l...</td>\n",
       "      <td>0.066016</td>\n",
       "      <td>0.637793</td>\n",
       "      <td>0.148777</td>\n",
       "      <td>0.056284</td>\n",
       "      <td>0.058281</td>\n",
       "      <td>0.032849</td>\n",
       "      <td>[0.0660160140254407, 0.6377930766113133, 0.148...</td>\n",
       "    </tr>\n",
       "    <tr>\n",
       "      <th>2</th>\n",
       "      <td>ABBA</td>\n",
       "      <td>As Good As New</td>\n",
       "      <td>/a/abba/as+good+as+new_20003033.html</td>\n",
       "      <td>i'll never know why i had to go why i had to p...</td>\n",
       "      <td>0.557590</td>\n",
       "      <td>0.304692</td>\n",
       "      <td>0.064213</td>\n",
       "      <td>0.023887</td>\n",
       "      <td>0.027135</td>\n",
       "      <td>0.022482</td>\n",
       "      <td>[0.5575900549063024, 0.3046922826265263, 0.064...</td>\n",
       "    </tr>\n",
       "    <tr>\n",
       "      <th>3</th>\n",
       "      <td>ABBA</td>\n",
       "      <td>Bang</td>\n",
       "      <td>/a/abba/bang_20598415.html</td>\n",
       "      <td>making somebody happy is a question of give an...</td>\n",
       "      <td>0.136736</td>\n",
       "      <td>0.362437</td>\n",
       "      <td>0.262408</td>\n",
       "      <td>0.145773</td>\n",
       "      <td>0.065213</td>\n",
       "      <td>0.027435</td>\n",
       "      <td>[0.13673553505589905, 0.3624368879213182, 0.26...</td>\n",
       "    </tr>\n",
       "    <tr>\n",
       "      <th>4</th>\n",
       "      <td>ABBA</td>\n",
       "      <td>Bang-A-Boomerang</td>\n",
       "      <td>/a/abba/bang+a+boomerang_20002668.html</td>\n",
       "      <td>making somebody happy is a question of give an...</td>\n",
       "      <td>0.967274</td>\n",
       "      <td>0.005258</td>\n",
       "      <td>0.016713</td>\n",
       "      <td>0.006844</td>\n",
       "      <td>0.002461</td>\n",
       "      <td>0.001449</td>\n",
       "      <td>[0.9672743610382378, 0.0052580633129720306, 0....</td>\n",
       "    </tr>\n",
       "    <tr>\n",
       "      <th>...</th>\n",
       "      <td>...</td>\n",
       "      <td>...</td>\n",
       "      <td>...</td>\n",
       "      <td>...</td>\n",
       "      <td>...</td>\n",
       "      <td>...</td>\n",
       "      <td>...</td>\n",
       "      <td>...</td>\n",
       "      <td>...</td>\n",
       "      <td>...</td>\n",
       "      <td>...</td>\n",
       "    </tr>\n",
       "    <tr>\n",
       "      <th>44790</th>\n",
       "      <td>Zebrahead</td>\n",
       "      <td>Mental Health</td>\n",
       "      <td>/z/zebrahead/mental+health_20747013.html</td>\n",
       "      <td>let's go the lights are on but there is no one...</td>\n",
       "      <td>0.152381</td>\n",
       "      <td>0.504729</td>\n",
       "      <td>0.055719</td>\n",
       "      <td>0.141408</td>\n",
       "      <td>0.109148</td>\n",
       "      <td>0.036615</td>\n",
       "      <td>[0.15238124763496208, 0.5047291126308601, 0.05...</td>\n",
       "    </tr>\n",
       "    <tr>\n",
       "      <th>44791</th>\n",
       "      <td>Zebrahead</td>\n",
       "      <td>The Setup</td>\n",
       "      <td>/z/zebrahead/the+setup_10198494.html</td>\n",
       "      <td>lie to me tell me that everything will be all ...</td>\n",
       "      <td>0.426336</td>\n",
       "      <td>0.203087</td>\n",
       "      <td>0.030651</td>\n",
       "      <td>0.199676</td>\n",
       "      <td>0.091436</td>\n",
       "      <td>0.048814</td>\n",
       "      <td>[0.4263364301563252, 0.2030869043838914, 0.030...</td>\n",
       "    </tr>\n",
       "    <tr>\n",
       "      <th>44792</th>\n",
       "      <td>Ziggy Marley</td>\n",
       "      <td>Freedom Road</td>\n",
       "      <td>/z/ziggy+marley/freedom+road_20531174.html</td>\n",
       "      <td>that's why i'm marching, yes, i'm marching, ma...</td>\n",
       "      <td>0.164597</td>\n",
       "      <td>0.422916</td>\n",
       "      <td>0.090274</td>\n",
       "      <td>0.126768</td>\n",
       "      <td>0.155709</td>\n",
       "      <td>0.039737</td>\n",
       "      <td>[0.1645965162351848, 0.4229155166796501, 0.090...</td>\n",
       "    </tr>\n",
       "    <tr>\n",
       "      <th>44793</th>\n",
       "      <td>Ziggy Marley</td>\n",
       "      <td>G7</td>\n",
       "      <td>/z/ziggy+marley/g7_20531173.html</td>\n",
       "      <td>seven richest countries in the world them have...</td>\n",
       "      <td>0.297446</td>\n",
       "      <td>0.294825</td>\n",
       "      <td>0.074738</td>\n",
       "      <td>0.199254</td>\n",
       "      <td>0.100945</td>\n",
       "      <td>0.032792</td>\n",
       "      <td>[0.2974464252724677, 0.2948254435155049, 0.074...</td>\n",
       "    </tr>\n",
       "    <tr>\n",
       "      <th>44794</th>\n",
       "      <td>Ziggy Marley</td>\n",
       "      <td>Generation</td>\n",
       "      <td>/z/ziggy+marley/generation_20531171.html</td>\n",
       "      <td>many generation have passed away fighting for ...</td>\n",
       "      <td>0.307117</td>\n",
       "      <td>0.265349</td>\n",
       "      <td>0.081950</td>\n",
       "      <td>0.221630</td>\n",
       "      <td>0.094529</td>\n",
       "      <td>0.029424</td>\n",
       "      <td>[0.30711703875536295, 0.26534945267114374, 0.0...</td>\n",
       "    </tr>\n",
       "  </tbody>\n",
       "</table>\n",
       "<p>44795 rows × 11 columns</p>\n",
       "</div>"
      ],
      "text/plain": [
       "             artist                   song  \\\n",
       "0              ABBA  Ahe's My Kind Of Girl   \n",
       "1              ABBA       Andante, Andante   \n",
       "2              ABBA         As Good As New   \n",
       "3              ABBA                   Bang   \n",
       "4              ABBA       Bang-A-Boomerang   \n",
       "...             ...                    ...   \n",
       "44790     Zebrahead          Mental Health   \n",
       "44791     Zebrahead              The Setup   \n",
       "44792  Ziggy Marley           Freedom Road   \n",
       "44793  Ziggy Marley                     G7   \n",
       "44794  Ziggy Marley             Generation   \n",
       "\n",
       "                                             link  \\\n",
       "0      /a/abba/ahes+my+kind+of+girl_20598417.html   \n",
       "1           /a/abba/andante+andante_20002708.html   \n",
       "2            /a/abba/as+good+as+new_20003033.html   \n",
       "3                      /a/abba/bang_20598415.html   \n",
       "4          /a/abba/bang+a+boomerang_20002668.html   \n",
       "...                                           ...   \n",
       "44790    /z/zebrahead/mental+health_20747013.html   \n",
       "44791        /z/zebrahead/the+setup_10198494.html   \n",
       "44792  /z/ziggy+marley/freedom+road_20531174.html   \n",
       "44793            /z/ziggy+marley/g7_20531173.html   \n",
       "44794    /z/ziggy+marley/generation_20531171.html   \n",
       "\n",
       "                                                    text   sadness       joy  \\\n",
       "0      look at her face, it's a wonderful face and it...  0.037772  0.865948   \n",
       "1      take it easy with me, please touch me gently l...  0.066016  0.637793   \n",
       "2      i'll never know why i had to go why i had to p...  0.557590  0.304692   \n",
       "3      making somebody happy is a question of give an...  0.136736  0.362437   \n",
       "4      making somebody happy is a question of give an...  0.967274  0.005258   \n",
       "...                                                  ...       ...       ...   \n",
       "44790  let's go the lights are on but there is no one...  0.152381  0.504729   \n",
       "44791  lie to me tell me that everything will be all ...  0.426336  0.203087   \n",
       "44792  that's why i'm marching, yes, i'm marching, ma...  0.164597  0.422916   \n",
       "44793  seven richest countries in the world them have...  0.297446  0.294825   \n",
       "44794  many generation have passed away fighting for ...  0.307117  0.265349   \n",
       "\n",
       "           love     anger      fear  surprise  \\\n",
       "0      0.020204  0.032962  0.023208  0.019906   \n",
       "1      0.148777  0.056284  0.058281  0.032849   \n",
       "2      0.064213  0.023887  0.027135  0.022482   \n",
       "3      0.262408  0.145773  0.065213  0.027435   \n",
       "4      0.016713  0.006844  0.002461  0.001449   \n",
       "...         ...       ...       ...       ...   \n",
       "44790  0.055719  0.141408  0.109148  0.036615   \n",
       "44791  0.030651  0.199676  0.091436  0.048814   \n",
       "44792  0.090274  0.126768  0.155709  0.039737   \n",
       "44793  0.074738  0.199254  0.100945  0.032792   \n",
       "44794  0.081950  0.221630  0.094529  0.029424   \n",
       "\n",
       "                                                  vector  \n",
       "0      [0.037771861392196945, 0.865948419112691, 0.02...  \n",
       "1      [0.0660160140254407, 0.6377930766113133, 0.148...  \n",
       "2      [0.5575900549063024, 0.3046922826265263, 0.064...  \n",
       "3      [0.13673553505589905, 0.3624368879213182, 0.26...  \n",
       "4      [0.9672743610382378, 0.0052580633129720306, 0....  \n",
       "...                                                  ...  \n",
       "44790  [0.15238124763496208, 0.5047291126308601, 0.05...  \n",
       "44791  [0.4263364301563252, 0.2030869043838914, 0.030...  \n",
       "44792  [0.1645965162351848, 0.4229155166796501, 0.090...  \n",
       "44793  [0.2974464252724677, 0.2948254435155049, 0.074...  \n",
       "44794  [0.30711703875536295, 0.26534945267114374, 0.0...  \n",
       "\n",
       "[44795 rows x 11 columns]"
      ]
     },
     "execution_count": 82,
     "metadata": {},
     "output_type": "execute_result"
    }
   ],
   "source": [
    "scored_music"
   ]
  },
  {
   "cell_type": "code",
   "execution_count": 83,
   "id": "0a8c08cb-5df5-4f9e-8f52-53e86ce840d2",
   "metadata": {},
   "outputs": [],
   "source": [
    "# import the similarity algorithm for vectors\n",
    "from sklearn.metrics.pairwise import cosine_similarity\n",
    "import numpy as np"
   ]
  },
  {
   "cell_type": "code",
   "execution_count": 84,
   "id": "419540e1-ba64-44b7-842e-9e23aa28aced",
   "metadata": {},
   "outputs": [
    {
     "name": "stdout",
     "output_type": "stream",
     "text": [
      "Cosine Similarity: 0.816496580927726\n"
     ]
    }
   ],
   "source": [
    "vector1 = np.array([1, 0, 1])\n",
    "vector2 = np.array([1, 1, 1])\n",
    "\n",
    "# Reshape the vectors to be 2D (required by cosine_similarity)\n",
    "vector1 = vector1.reshape(1, -1)\n",
    "vector2 = vector2.reshape(1, -1)\n",
    "\n",
    "# Calculate cosine similarity\n",
    "similarity = cosine_similarity(vector1, vector2)\n",
    "\n",
    "print(\"Cosine Similarity:\", similarity[0][0])"
   ]
  },
  {
   "cell_type": "code",
   "execution_count": 85,
   "id": "ec638ce7-2723-4acf-a2b7-bc29d99e98f2",
   "metadata": {},
   "outputs": [
    {
     "data": {
      "text/plain": [
       "0.816496580927726"
      ]
     },
     "execution_count": 85,
     "metadata": {},
     "output_type": "execute_result"
    }
   ],
   "source": [
    "similarity[0][0]"
   ]
  },
  {
   "cell_type": "code",
   "execution_count": 86,
   "id": "6e161008-a4c9-4e82-96c4-59b9d46e7a1c",
   "metadata": {},
   "outputs": [],
   "source": [
    "user_input='yesterday i watched the lakers game and i lost money on it which was rough but i had fun watching the game anyways which was good'"
   ]
  },
  {
   "cell_type": "code",
   "execution_count": 87,
   "id": "b1a89e1e-90b1-4234-87af-01bd0545be73",
   "metadata": {},
   "outputs": [],
   "source": [
    "user_vec = emotion_score(user_input)"
   ]
  },
  {
   "cell_type": "code",
   "execution_count": 88,
   "id": "927b686d-836d-4e0a-a6fd-8aceb57e190f",
   "metadata": {},
   "outputs": [
    {
     "data": {
      "text/plain": [
       "[0.5396963788057415,\n",
       " 0.19285173072893422,\n",
       " 0.04366610469701906,\n",
       " 0.09854388358690694,\n",
       " 0.07520161452573766,\n",
       " 0.050040287655660556]"
      ]
     },
     "execution_count": 88,
     "metadata": {},
     "output_type": "execute_result"
    }
   ],
   "source": [
    "user_vec"
   ]
  },
  {
   "cell_type": "code",
   "execution_count": 89,
   "id": "ca12b033-9910-43c7-8c78-dce2669cfc23",
   "metadata": {},
   "outputs": [],
   "source": [
    "stmf_vector = scored_music.vector[83]"
   ]
  },
  {
   "cell_type": "code",
   "execution_count": 90,
   "id": "d4bb09b2-cb56-4544-9bed-abc518b5351a",
   "metadata": {},
   "outputs": [
    {
     "data": {
      "text/plain": [
       "[0.26486169092397066,\n",
       " 0.3791021911283691,\n",
       " 0.0643399182728898,\n",
       " 0.0771725837628346,\n",
       " 0.07045494457203419,\n",
       " 0.1440686713399015]"
      ]
     },
     "execution_count": 90,
     "metadata": {},
     "output_type": "execute_result"
    }
   ],
   "source": [
    "stmf_vector"
   ]
  },
  {
   "cell_type": "code",
   "execution_count": 91,
   "id": "3103dafe-8757-4e45-b5a0-d6737cfb2e93",
   "metadata": {},
   "outputs": [],
   "source": [
    "# try to see the cosine similarity between my user vector and the song vector\n",
    "\n",
    "stmf_array = np.array(stmf_vector)\n",
    "\n",
    "user_array = np.array(user_vec)\n",
    "\n",
    "shaped_stmf = stmf_array.reshape(1,-1)\n",
    "\n",
    "shaped_user = user_array.reshape(1,-1)\n",
    "\n",
    "sim = cosine_similarity(shaped_stmf,shaped_user)\n"
   ]
  },
  {
   "cell_type": "code",
   "execution_count": 92,
   "id": "b6afd237-600a-42a5-8152-6b4a7a377eb4",
   "metadata": {},
   "outputs": [
    {
     "data": {
      "text/plain": [
       "0.8104393137259611"
      ]
     },
     "execution_count": 92,
     "metadata": {},
     "output_type": "execute_result"
    }
   ],
   "source": [
    "sim[0][0]"
   ]
  },
  {
   "cell_type": "code",
   "execution_count": 93,
   "id": "1c834e8c-5f2f-4bcb-86e0-b62f3608945c",
   "metadata": {},
   "outputs": [
    {
     "data": {
      "text/plain": [
       "list"
      ]
     },
     "execution_count": 93,
     "metadata": {},
     "output_type": "execute_result"
    }
   ],
   "source": [
    "type(scored_music.vector[0])"
   ]
  },
  {
   "cell_type": "code",
   "execution_count": 94,
   "id": "c8919c9a-baff-4ec8-a2e8-6a43ebff5f73",
   "metadata": {},
   "outputs": [],
   "source": [
    "def song_similarity(user_input,song_vector):\n",
    "    \n",
    "    song_array = np.array(song_vector)\n",
    "    u_array = np.array(user_input)\n",
    "    shaped_s_array = np.array(song_array).reshape(1,-1)\n",
    "    shaped_u_array = np.array(u_array).reshape(1,-1)\n",
    "    similar = cosine_similarity(shaped_s_array,shaped_u_array)\n",
    "    return similar[0][0]\n",
    "\n",
    "\n",
    "\n",
    "\n",
    "    \n",
    "\n"
   ]
  },
  {
   "cell_type": "code",
   "execution_count": 95,
   "id": "a0160ebe-fbd7-4901-8be7-52cf7ec1c3d9",
   "metadata": {},
   "outputs": [
    {
     "data": {
      "text/plain": [
       "0.8104393137259611"
      ]
     },
     "execution_count": 95,
     "metadata": {},
     "output_type": "execute_result"
    }
   ],
   "source": [
    "song_similarity(stmf_vector,user_vec)"
   ]
  },
  {
   "cell_type": "code",
   "execution_count": 96,
   "id": "2c38dab6-ee2a-4a53-9c7c-c3db230223b6",
   "metadata": {},
   "outputs": [
    {
     "data": {
      "text/plain": [
       "\"schoolbag in hand, she leaves home in the early morning waving goodbye with an absent-minded smile i watch her go with a surge of that well known sadness and i have to sit down for a while the feeling that i'm losing her forever and without really entering her world i'm glad whenever i can share her laughter that funny little girl slipping through my fingers all the time i try to capture every minute the feeling in it slipping through my fingers all the time do i really see what's in her mind each time i think i'm close to knowing she keeps on growing slipping through my fingers all the time sleep in our eyes, her and me at the breakfast table barely awake i let precious time go by then when she's gone, there's that odd melancholy feeling and a sense of guilt i can't deny what happened to the wonderful adventures the places i had planned for us to go well, some of that we did, but most we didn't and why, i just don't know slipping through my fingers all the time i try to capture every minute the feeling in it slipping through my fingers all the time do i really see what's in her mind each time i think i'm close to knowing she keeps on growing slipping through my fingers all the time sometimes i wish that i could freeze the picture and save it from the funny tricks of time (slipping through my fingers) slipping through my fingers all the time schoolbag in hand, she leaves home in the early morning waving goodbye with an absent-minded smile \""
      ]
     },
     "execution_count": 96,
     "metadata": {},
     "output_type": "execute_result"
    }
   ],
   "source": [
    "stmf"
   ]
  },
  {
   "cell_type": "code",
   "execution_count": 97,
   "id": "26257c24-d160-4361-8656-bed33433a6ee",
   "metadata": {},
   "outputs": [
    {
     "data": {
      "text/plain": [
       "[0.26486169092397066,\n",
       " 0.3791021911283691,\n",
       " 0.0643399182728898,\n",
       " 0.0771725837628346,\n",
       " 0.07045494457203419,\n",
       " 0.1440686713399015]"
      ]
     },
     "execution_count": 97,
     "metadata": {},
     "output_type": "execute_result"
    }
   ],
   "source": [
    "emotion_score(stmf)"
   ]
  },
  {
   "cell_type": "code",
   "execution_count": 98,
   "id": "e1bca1b2-d7e5-4e23-8331-9d0ac18bcd3f",
   "metadata": {},
   "outputs": [
    {
     "data": {
      "text/html": [
       "<div>\n",
       "<style scoped>\n",
       "    .dataframe tbody tr th:only-of-type {\n",
       "        vertical-align: middle;\n",
       "    }\n",
       "\n",
       "    .dataframe tbody tr th {\n",
       "        vertical-align: top;\n",
       "    }\n",
       "\n",
       "    .dataframe thead th {\n",
       "        text-align: right;\n",
       "    }\n",
       "</style>\n",
       "<table border=\"1\" class=\"dataframe\">\n",
       "  <thead>\n",
       "    <tr style=\"text-align: right;\">\n",
       "      <th></th>\n",
       "      <th>artist</th>\n",
       "      <th>song</th>\n",
       "      <th>link</th>\n",
       "      <th>text</th>\n",
       "      <th>sadness</th>\n",
       "      <th>joy</th>\n",
       "      <th>love</th>\n",
       "      <th>anger</th>\n",
       "      <th>fear</th>\n",
       "      <th>surprise</th>\n",
       "      <th>vector</th>\n",
       "    </tr>\n",
       "  </thead>\n",
       "  <tbody>\n",
       "    <tr>\n",
       "      <th>0</th>\n",
       "      <td>ABBA</td>\n",
       "      <td>Ahe's My Kind Of Girl</td>\n",
       "      <td>/a/abba/ahes+my+kind+of+girl_20598417.html</td>\n",
       "      <td>look at her face, it's a wonderful face and it...</td>\n",
       "      <td>0.037772</td>\n",
       "      <td>0.865948</td>\n",
       "      <td>0.020204</td>\n",
       "      <td>0.032962</td>\n",
       "      <td>0.023208</td>\n",
       "      <td>0.019906</td>\n",
       "      <td>[0.037771861392196945, 0.865948419112691, 0.02...</td>\n",
       "    </tr>\n",
       "    <tr>\n",
       "      <th>1</th>\n",
       "      <td>ABBA</td>\n",
       "      <td>Andante, Andante</td>\n",
       "      <td>/a/abba/andante+andante_20002708.html</td>\n",
       "      <td>take it easy with me, please touch me gently l...</td>\n",
       "      <td>0.066016</td>\n",
       "      <td>0.637793</td>\n",
       "      <td>0.148777</td>\n",
       "      <td>0.056284</td>\n",
       "      <td>0.058281</td>\n",
       "      <td>0.032849</td>\n",
       "      <td>[0.0660160140254407, 0.6377930766113133, 0.148...</td>\n",
       "    </tr>\n",
       "    <tr>\n",
       "      <th>2</th>\n",
       "      <td>ABBA</td>\n",
       "      <td>As Good As New</td>\n",
       "      <td>/a/abba/as+good+as+new_20003033.html</td>\n",
       "      <td>i'll never know why i had to go why i had to p...</td>\n",
       "      <td>0.557590</td>\n",
       "      <td>0.304692</td>\n",
       "      <td>0.064213</td>\n",
       "      <td>0.023887</td>\n",
       "      <td>0.027135</td>\n",
       "      <td>0.022482</td>\n",
       "      <td>[0.5575900549063024, 0.3046922826265263, 0.064...</td>\n",
       "    </tr>\n",
       "    <tr>\n",
       "      <th>3</th>\n",
       "      <td>ABBA</td>\n",
       "      <td>Bang</td>\n",
       "      <td>/a/abba/bang_20598415.html</td>\n",
       "      <td>making somebody happy is a question of give an...</td>\n",
       "      <td>0.136736</td>\n",
       "      <td>0.362437</td>\n",
       "      <td>0.262408</td>\n",
       "      <td>0.145773</td>\n",
       "      <td>0.065213</td>\n",
       "      <td>0.027435</td>\n",
       "      <td>[0.13673553505589905, 0.3624368879213182, 0.26...</td>\n",
       "    </tr>\n",
       "    <tr>\n",
       "      <th>4</th>\n",
       "      <td>ABBA</td>\n",
       "      <td>Bang-A-Boomerang</td>\n",
       "      <td>/a/abba/bang+a+boomerang_20002668.html</td>\n",
       "      <td>making somebody happy is a question of give an...</td>\n",
       "      <td>0.967274</td>\n",
       "      <td>0.005258</td>\n",
       "      <td>0.016713</td>\n",
       "      <td>0.006844</td>\n",
       "      <td>0.002461</td>\n",
       "      <td>0.001449</td>\n",
       "      <td>[0.9672743610382378, 0.0052580633129720306, 0....</td>\n",
       "    </tr>\n",
       "    <tr>\n",
       "      <th>...</th>\n",
       "      <td>...</td>\n",
       "      <td>...</td>\n",
       "      <td>...</td>\n",
       "      <td>...</td>\n",
       "      <td>...</td>\n",
       "      <td>...</td>\n",
       "      <td>...</td>\n",
       "      <td>...</td>\n",
       "      <td>...</td>\n",
       "      <td>...</td>\n",
       "      <td>...</td>\n",
       "    </tr>\n",
       "    <tr>\n",
       "      <th>44790</th>\n",
       "      <td>Zebrahead</td>\n",
       "      <td>Mental Health</td>\n",
       "      <td>/z/zebrahead/mental+health_20747013.html</td>\n",
       "      <td>let's go the lights are on but there is no one...</td>\n",
       "      <td>0.152381</td>\n",
       "      <td>0.504729</td>\n",
       "      <td>0.055719</td>\n",
       "      <td>0.141408</td>\n",
       "      <td>0.109148</td>\n",
       "      <td>0.036615</td>\n",
       "      <td>[0.15238124763496208, 0.5047291126308601, 0.05...</td>\n",
       "    </tr>\n",
       "    <tr>\n",
       "      <th>44791</th>\n",
       "      <td>Zebrahead</td>\n",
       "      <td>The Setup</td>\n",
       "      <td>/z/zebrahead/the+setup_10198494.html</td>\n",
       "      <td>lie to me tell me that everything will be all ...</td>\n",
       "      <td>0.426336</td>\n",
       "      <td>0.203087</td>\n",
       "      <td>0.030651</td>\n",
       "      <td>0.199676</td>\n",
       "      <td>0.091436</td>\n",
       "      <td>0.048814</td>\n",
       "      <td>[0.4263364301563252, 0.2030869043838914, 0.030...</td>\n",
       "    </tr>\n",
       "    <tr>\n",
       "      <th>44792</th>\n",
       "      <td>Ziggy Marley</td>\n",
       "      <td>Freedom Road</td>\n",
       "      <td>/z/ziggy+marley/freedom+road_20531174.html</td>\n",
       "      <td>that's why i'm marching, yes, i'm marching, ma...</td>\n",
       "      <td>0.164597</td>\n",
       "      <td>0.422916</td>\n",
       "      <td>0.090274</td>\n",
       "      <td>0.126768</td>\n",
       "      <td>0.155709</td>\n",
       "      <td>0.039737</td>\n",
       "      <td>[0.1645965162351848, 0.4229155166796501, 0.090...</td>\n",
       "    </tr>\n",
       "    <tr>\n",
       "      <th>44793</th>\n",
       "      <td>Ziggy Marley</td>\n",
       "      <td>G7</td>\n",
       "      <td>/z/ziggy+marley/g7_20531173.html</td>\n",
       "      <td>seven richest countries in the world them have...</td>\n",
       "      <td>0.297446</td>\n",
       "      <td>0.294825</td>\n",
       "      <td>0.074738</td>\n",
       "      <td>0.199254</td>\n",
       "      <td>0.100945</td>\n",
       "      <td>0.032792</td>\n",
       "      <td>[0.2974464252724677, 0.2948254435155049, 0.074...</td>\n",
       "    </tr>\n",
       "    <tr>\n",
       "      <th>44794</th>\n",
       "      <td>Ziggy Marley</td>\n",
       "      <td>Generation</td>\n",
       "      <td>/z/ziggy+marley/generation_20531171.html</td>\n",
       "      <td>many generation have passed away fighting for ...</td>\n",
       "      <td>0.307117</td>\n",
       "      <td>0.265349</td>\n",
       "      <td>0.081950</td>\n",
       "      <td>0.221630</td>\n",
       "      <td>0.094529</td>\n",
       "      <td>0.029424</td>\n",
       "      <td>[0.30711703875536295, 0.26534945267114374, 0.0...</td>\n",
       "    </tr>\n",
       "  </tbody>\n",
       "</table>\n",
       "<p>44795 rows × 11 columns</p>\n",
       "</div>"
      ],
      "text/plain": [
       "             artist                   song  \\\n",
       "0              ABBA  Ahe's My Kind Of Girl   \n",
       "1              ABBA       Andante, Andante   \n",
       "2              ABBA         As Good As New   \n",
       "3              ABBA                   Bang   \n",
       "4              ABBA       Bang-A-Boomerang   \n",
       "...             ...                    ...   \n",
       "44790     Zebrahead          Mental Health   \n",
       "44791     Zebrahead              The Setup   \n",
       "44792  Ziggy Marley           Freedom Road   \n",
       "44793  Ziggy Marley                     G7   \n",
       "44794  Ziggy Marley             Generation   \n",
       "\n",
       "                                             link  \\\n",
       "0      /a/abba/ahes+my+kind+of+girl_20598417.html   \n",
       "1           /a/abba/andante+andante_20002708.html   \n",
       "2            /a/abba/as+good+as+new_20003033.html   \n",
       "3                      /a/abba/bang_20598415.html   \n",
       "4          /a/abba/bang+a+boomerang_20002668.html   \n",
       "...                                           ...   \n",
       "44790    /z/zebrahead/mental+health_20747013.html   \n",
       "44791        /z/zebrahead/the+setup_10198494.html   \n",
       "44792  /z/ziggy+marley/freedom+road_20531174.html   \n",
       "44793            /z/ziggy+marley/g7_20531173.html   \n",
       "44794    /z/ziggy+marley/generation_20531171.html   \n",
       "\n",
       "                                                    text   sadness       joy  \\\n",
       "0      look at her face, it's a wonderful face and it...  0.037772  0.865948   \n",
       "1      take it easy with me, please touch me gently l...  0.066016  0.637793   \n",
       "2      i'll never know why i had to go why i had to p...  0.557590  0.304692   \n",
       "3      making somebody happy is a question of give an...  0.136736  0.362437   \n",
       "4      making somebody happy is a question of give an...  0.967274  0.005258   \n",
       "...                                                  ...       ...       ...   \n",
       "44790  let's go the lights are on but there is no one...  0.152381  0.504729   \n",
       "44791  lie to me tell me that everything will be all ...  0.426336  0.203087   \n",
       "44792  that's why i'm marching, yes, i'm marching, ma...  0.164597  0.422916   \n",
       "44793  seven richest countries in the world them have...  0.297446  0.294825   \n",
       "44794  many generation have passed away fighting for ...  0.307117  0.265349   \n",
       "\n",
       "           love     anger      fear  surprise  \\\n",
       "0      0.020204  0.032962  0.023208  0.019906   \n",
       "1      0.148777  0.056284  0.058281  0.032849   \n",
       "2      0.064213  0.023887  0.027135  0.022482   \n",
       "3      0.262408  0.145773  0.065213  0.027435   \n",
       "4      0.016713  0.006844  0.002461  0.001449   \n",
       "...         ...       ...       ...       ...   \n",
       "44790  0.055719  0.141408  0.109148  0.036615   \n",
       "44791  0.030651  0.199676  0.091436  0.048814   \n",
       "44792  0.090274  0.126768  0.155709  0.039737   \n",
       "44793  0.074738  0.199254  0.100945  0.032792   \n",
       "44794  0.081950  0.221630  0.094529  0.029424   \n",
       "\n",
       "                                                  vector  \n",
       "0      [0.037771861392196945, 0.865948419112691, 0.02...  \n",
       "1      [0.0660160140254407, 0.6377930766113133, 0.148...  \n",
       "2      [0.5575900549063024, 0.3046922826265263, 0.064...  \n",
       "3      [0.13673553505589905, 0.3624368879213182, 0.26...  \n",
       "4      [0.9672743610382378, 0.0052580633129720306, 0....  \n",
       "...                                                  ...  \n",
       "44790  [0.15238124763496208, 0.5047291126308601, 0.05...  \n",
       "44791  [0.4263364301563252, 0.2030869043838914, 0.030...  \n",
       "44792  [0.1645965162351848, 0.4229155166796501, 0.090...  \n",
       "44793  [0.2974464252724677, 0.2948254435155049, 0.074...  \n",
       "44794  [0.30711703875536295, 0.26534945267114374, 0.0...  \n",
       "\n",
       "[44795 rows x 11 columns]"
      ]
     },
     "execution_count": 98,
     "metadata": {},
     "output_type": "execute_result"
    }
   ],
   "source": [
    "scored_music"
   ]
  },
  {
   "cell_type": "code",
   "execution_count": 99,
   "id": "8525be45-2786-414b-bdea-7e99fe28d0c5",
   "metadata": {},
   "outputs": [
    {
     "data": {
      "text/plain": [
       "[0.5396963788057415,\n",
       " 0.19285173072893422,\n",
       " 0.04366610469701906,\n",
       " 0.09854388358690694,\n",
       " 0.07520161452573766,\n",
       " 0.050040287655660556]"
      ]
     },
     "execution_count": 99,
     "metadata": {},
     "output_type": "execute_result"
    }
   ],
   "source": [
    "user_vec"
   ]
  },
  {
   "cell_type": "code",
   "execution_count": 113,
   "id": "7fe561ca-27d4-4e91-be61-348da0758e78",
   "metadata": {},
   "outputs": [],
   "source": [
    "\n",
    "comparison = []\n",
    "for i in range(len(scored_music)):\n",
    "    \n",
    "    user_vs_song=[]\n",
    "    cs = song_similarity(user_vec,scored_music['vector'][i])\n",
    "    song_name = scored_music['song'][i]\n",
    "    artist_name = scored_music['artist'][i]\n",
    "    \n",
    "    user_vs_song.append(cs)\n",
    "    user_vs_song.append(song_name)\n",
    "    user_vs_song.append(artist_name)\n",
    "    comparison.append(user_vs_song)\n",
    "\n",
    "#comparison\n",
    "    "
   ]
  },
  {
   "cell_type": "code",
   "execution_count": 101,
   "id": "2f422a62-99a0-41ee-a869-02e7e599cc22",
   "metadata": {},
   "outputs": [],
   "source": [
    "comp_df=pd.DataFrame(comparison,columns=['similarity','track','artist'])"
   ]
  },
  {
   "cell_type": "code",
   "execution_count": 102,
   "id": "2ce6beab-0388-4765-8024-927255d41644",
   "metadata": {},
   "outputs": [
    {
     "data": {
      "text/html": [
       "<div>\n",
       "<style scoped>\n",
       "    .dataframe tbody tr th:only-of-type {\n",
       "        vertical-align: middle;\n",
       "    }\n",
       "\n",
       "    .dataframe tbody tr th {\n",
       "        vertical-align: top;\n",
       "    }\n",
       "\n",
       "    .dataframe thead th {\n",
       "        text-align: right;\n",
       "    }\n",
       "</style>\n",
       "<table border=\"1\" class=\"dataframe\">\n",
       "  <thead>\n",
       "    <tr style=\"text-align: right;\">\n",
       "      <th></th>\n",
       "      <th>similarity</th>\n",
       "      <th>track</th>\n",
       "      <th>artist</th>\n",
       "    </tr>\n",
       "  </thead>\n",
       "  <tbody>\n",
       "    <tr>\n",
       "      <th>0</th>\n",
       "      <td>0.379167</td>\n",
       "      <td>Ahe's My Kind Of Girl</td>\n",
       "      <td>ABBA</td>\n",
       "    </tr>\n",
       "    <tr>\n",
       "      <th>1</th>\n",
       "      <td>0.450934</td>\n",
       "      <td>Andante, Andante</td>\n",
       "      <td>ABBA</td>\n",
       "    </tr>\n",
       "    <tr>\n",
       "      <th>2</th>\n",
       "      <td>0.974319</td>\n",
       "      <td>As Good As New</td>\n",
       "      <td>ABBA</td>\n",
       "    </tr>\n",
       "    <tr>\n",
       "      <th>3</th>\n",
       "      <td>0.601626</td>\n",
       "      <td>Bang</td>\n",
       "      <td>ABBA</td>\n",
       "    </tr>\n",
       "    <tr>\n",
       "      <th>4</th>\n",
       "      <td>0.919065</td>\n",
       "      <td>Bang-A-Boomerang</td>\n",
       "      <td>ABBA</td>\n",
       "    </tr>\n",
       "    <tr>\n",
       "      <th>...</th>\n",
       "      <td>...</td>\n",
       "      <td>...</td>\n",
       "      <td>...</td>\n",
       "    </tr>\n",
       "    <tr>\n",
       "      <th>44790</th>\n",
       "      <td>0.622597</td>\n",
       "      <td>Mental Health</td>\n",
       "      <td>Zebrahead</td>\n",
       "    </tr>\n",
       "    <tr>\n",
       "      <th>44791</th>\n",
       "      <td>0.968883</td>\n",
       "      <td>The Setup</td>\n",
       "      <td>Zebrahead</td>\n",
       "    </tr>\n",
       "    <tr>\n",
       "      <th>44792</th>\n",
       "      <td>0.671603</td>\n",
       "      <td>Freedom Road</td>\n",
       "      <td>Ziggy Marley</td>\n",
       "    </tr>\n",
       "    <tr>\n",
       "      <th>44793</th>\n",
       "      <td>0.877945</td>\n",
       "      <td>G7</td>\n",
       "      <td>Ziggy Marley</td>\n",
       "    </tr>\n",
       "    <tr>\n",
       "      <th>44794</th>\n",
       "      <td>0.885909</td>\n",
       "      <td>Generation</td>\n",
       "      <td>Ziggy Marley</td>\n",
       "    </tr>\n",
       "  </tbody>\n",
       "</table>\n",
       "<p>44795 rows × 3 columns</p>\n",
       "</div>"
      ],
      "text/plain": [
       "       similarity                  track        artist\n",
       "0        0.379167  Ahe's My Kind Of Girl          ABBA\n",
       "1        0.450934       Andante, Andante          ABBA\n",
       "2        0.974319         As Good As New          ABBA\n",
       "3        0.601626                   Bang          ABBA\n",
       "4        0.919065       Bang-A-Boomerang          ABBA\n",
       "...           ...                    ...           ...\n",
       "44790    0.622597          Mental Health     Zebrahead\n",
       "44791    0.968883              The Setup     Zebrahead\n",
       "44792    0.671603           Freedom Road  Ziggy Marley\n",
       "44793    0.877945                     G7  Ziggy Marley\n",
       "44794    0.885909             Generation  Ziggy Marley\n",
       "\n",
       "[44795 rows x 3 columns]"
      ]
     },
     "execution_count": 102,
     "metadata": {},
     "output_type": "execute_result"
    }
   ],
   "source": [
    "comp_df"
   ]
  },
  {
   "cell_type": "code",
   "execution_count": 103,
   "id": "6086cd7a-60eb-4600-9f92-e1c347260ace",
   "metadata": {},
   "outputs": [
    {
     "data": {
      "text/html": [
       "<div>\n",
       "<style scoped>\n",
       "    .dataframe tbody tr th:only-of-type {\n",
       "        vertical-align: middle;\n",
       "    }\n",
       "\n",
       "    .dataframe tbody tr th {\n",
       "        vertical-align: top;\n",
       "    }\n",
       "\n",
       "    .dataframe thead th {\n",
       "        text-align: right;\n",
       "    }\n",
       "</style>\n",
       "<table border=\"1\" class=\"dataframe\">\n",
       "  <thead>\n",
       "    <tr style=\"text-align: right;\">\n",
       "      <th></th>\n",
       "      <th>similarity</th>\n",
       "      <th>track</th>\n",
       "      <th>artist</th>\n",
       "    </tr>\n",
       "  </thead>\n",
       "  <tbody>\n",
       "    <tr>\n",
       "      <th>31264</th>\n",
       "      <td>0.999245</td>\n",
       "      <td>Drums</td>\n",
       "      <td>Johnny Cash</td>\n",
       "    </tr>\n",
       "    <tr>\n",
       "      <th>38521</th>\n",
       "      <td>0.999129</td>\n",
       "      <td>Broken Thing</td>\n",
       "      <td>Point Of Grace</td>\n",
       "    </tr>\n",
       "    <tr>\n",
       "      <th>4167</th>\n",
       "      <td>0.998880</td>\n",
       "      <td>Breakaway</td>\n",
       "      <td>Donna Summer</td>\n",
       "    </tr>\n",
       "    <tr>\n",
       "      <th>27522</th>\n",
       "      <td>0.998843</td>\n",
       "      <td>Entangled</td>\n",
       "      <td>Genesis</td>\n",
       "    </tr>\n",
       "    <tr>\n",
       "      <th>2943</th>\n",
       "      <td>0.998817</td>\n",
       "      <td>My Woman</td>\n",
       "      <td>Chuck Berry</td>\n",
       "    </tr>\n",
       "    <tr>\n",
       "      <th>...</th>\n",
       "      <td>...</td>\n",
       "      <td>...</td>\n",
       "      <td>...</td>\n",
       "    </tr>\n",
       "    <tr>\n",
       "      <th>30424</th>\n",
       "      <td>0.074030</td>\n",
       "      <td>Love Me, Lovely</td>\n",
       "      <td>Jackson Browne</td>\n",
       "    </tr>\n",
       "    <tr>\n",
       "      <th>23277</th>\n",
       "      <td>0.074018</td>\n",
       "      <td>One Sweet Tender Touch</td>\n",
       "      <td>Chris Rea</td>\n",
       "    </tr>\n",
       "    <tr>\n",
       "      <th>20747</th>\n",
       "      <td>0.074017</td>\n",
       "      <td>Tender Is The Night</td>\n",
       "      <td>Andy Williams</td>\n",
       "    </tr>\n",
       "    <tr>\n",
       "      <th>15078</th>\n",
       "      <td>0.074007</td>\n",
       "      <td>Hot In Here</td>\n",
       "      <td>Rascal Flatts</td>\n",
       "    </tr>\n",
       "    <tr>\n",
       "      <th>21029</th>\n",
       "      <td>0.073999</td>\n",
       "      <td>Tender Love</td>\n",
       "      <td>Backstreet Boys</td>\n",
       "    </tr>\n",
       "  </tbody>\n",
       "</table>\n",
       "<p>44795 rows × 3 columns</p>\n",
       "</div>"
      ],
      "text/plain": [
       "       similarity                   track           artist\n",
       "31264    0.999245                   Drums      Johnny Cash\n",
       "38521    0.999129            Broken Thing   Point Of Grace\n",
       "4167     0.998880               Breakaway     Donna Summer\n",
       "27522    0.998843               Entangled          Genesis\n",
       "2943     0.998817                My Woman      Chuck Berry\n",
       "...           ...                     ...              ...\n",
       "30424    0.074030         Love Me, Lovely   Jackson Browne\n",
       "23277    0.074018  One Sweet Tender Touch        Chris Rea\n",
       "20747    0.074017     Tender Is The Night    Andy Williams\n",
       "15078    0.074007             Hot In Here    Rascal Flatts\n",
       "21029    0.073999             Tender Love  Backstreet Boys\n",
       "\n",
       "[44795 rows x 3 columns]"
      ]
     },
     "execution_count": 103,
     "metadata": {},
     "output_type": "execute_result"
    }
   ],
   "source": [
    "comp_df.sort_values(by='similarity',ascending=False)"
   ]
  },
  {
   "cell_type": "code",
   "execution_count": 104,
   "id": "1f211d0f-9188-48cb-812d-34d12abc30ca",
   "metadata": {},
   "outputs": [
    {
     "data": {
      "text/plain": [
       "artist                                            Johnny Cash\n",
       "song                                                    Drums\n",
       "link                       /j/johnny+cash/drums_20188181.html\n",
       "text        from the indian reservation to the governmenta...\n",
       "sadness                                               0.53476\n",
       "joy                                                   0.18721\n",
       "love                                                 0.057187\n",
       "anger                                                0.108818\n",
       "fear                                                 0.075951\n",
       "surprise                                             0.036073\n",
       "vector      [0.5347600909353069, 0.187210201418098, 0.0571...\n",
       "Name: 31264, dtype: object"
      ]
     },
     "execution_count": 104,
     "metadata": {},
     "output_type": "execute_result"
    }
   ],
   "source": [
    "scored_music.loc[31264]"
   ]
  },
  {
   "cell_type": "code",
   "execution_count": 106,
   "id": "b5520df7-6916-47ee-a305-aefc2f02d322",
   "metadata": {},
   "outputs": [],
   "source": [
    "# demo "
   ]
  },
  {
   "cell_type": "code",
   "execution_count": 107,
   "id": "e4712110-e6f9-4a5b-8093-f2fc08d51245",
   "metadata": {},
   "outputs": [
    {
     "data": {
      "text/plain": [
       "'yesterday i watched the lakers game and i lost money on it which was rough but i had fun watching the game anyways which was good'"
      ]
     },
     "execution_count": 107,
     "metadata": {},
     "output_type": "execute_result"
    }
   ],
   "source": [
    "user_input"
   ]
  },
  {
   "cell_type": "code",
   "execution_count": 111,
   "id": "ecfdc1fc-d11b-4cbc-981d-8b5f4304e079",
   "metadata": {},
   "outputs": [
    {
     "data": {
      "text/plain": [
       "\"schoolbag in hand, she leaves home in the early morning waving goodbye with an absent-minded smile i watch her go with a surge of that well known sadness and i have to sit down for a while the feeling that i'm losing her forever and without really entering her world i'm glad whenever i can share her laughter that funny little girl slipping through my fingers all the time i try to capture every minute the feeling in it slipping through my fingers all the time do i really see what's in her mind each time i think i'm close to knowing she keeps on growing slipping through my fingers all the time sleep in our eyes, her and me at the breakfast table barely awake i let precious time go by then when she's gone, there's that odd melancholy feeling and a sense of guilt i can't deny what happened to the wonderful adventures the places i had planned for us to go well, some of that we did, but most we didn't and why, i just don't know slipping through my fingers all the time i try to capture every minute the feeling in it slipping through my fingers all the time do i really see what's in her mind each time i think i'm close to knowing she keeps on growing slipping through my fingers all the time sometimes i wish that i could freeze the picture and save it from the funny tricks of time (slipping through my fingers) slipping through my fingers all the time schoolbag in hand, she leaves home in the early morning waving goodbye with an absent-minded smile \""
      ]
     },
     "execution_count": 111,
     "metadata": {},
     "output_type": "execute_result"
    }
   ],
   "source": [
    "stmf"
   ]
  },
  {
   "cell_type": "code",
   "execution_count": 109,
   "id": "36f5fa92-aa14-4fdb-b090-c1f2e4891ecb",
   "metadata": {},
   "outputs": [
    {
     "data": {
      "text/plain": [
       "[0.26486169092397066,\n",
       " 0.3791021911283691,\n",
       " 0.0643399182728898,\n",
       " 0.0771725837628346,\n",
       " 0.07045494457203419,\n",
       " 0.1440686713399015]"
      ]
     },
     "execution_count": 109,
     "metadata": {},
     "output_type": "execute_result"
    }
   ],
   "source": [
    "stmf_vector"
   ]
  },
  {
   "cell_type": "code",
   "execution_count": 112,
   "id": "338b0c42-3704-46b9-a981-b76ac23f1f7c",
   "metadata": {},
   "outputs": [
    {
     "data": {
      "text/plain": [
       "0.8104393137259611"
      ]
     },
     "execution_count": 112,
     "metadata": {},
     "output_type": "execute_result"
    }
   ],
   "source": [
    "song_similarity(emotion_score(user_input),stmf_vector)"
   ]
  },
  {
   "cell_type": "code",
   "execution_count": 115,
   "id": "34fe4b41-7254-43fa-a14b-2a4fc84c8d96",
   "metadata": {},
   "outputs": [
    {
     "data": {
      "text/plain": [
       "[0.9975793155569983,\n",
       " 0.001418035305696905,\n",
       " 7.066067500300207e-05,\n",
       " 0.0005128585485893484,\n",
       " 0.0003862727789887728,\n",
       " 3.285713472341105e-05]"
      ]
     },
     "execution_count": 115,
     "metadata": {},
     "output_type": "execute_result"
    }
   ],
   "source": [
    "emotion_score('i feel bad i feel bad')"
   ]
  },
  {
   "cell_type": "code",
   "execution_count": null,
   "id": "884e22ba-939f-4f7f-85d2-7039688a9dc9",
   "metadata": {},
   "outputs": [],
   "source": []
  }
 ],
 "metadata": {
  "kernelspec": {
   "display_name": "Python 3 (ipykernel)",
   "language": "python",
   "name": "python3"
  },
  "language_info": {
   "codemirror_mode": {
    "name": "ipython",
    "version": 3
   },
   "file_extension": ".py",
   "mimetype": "text/x-python",
   "name": "python",
   "nbconvert_exporter": "python",
   "pygments_lexer": "ipython3",
   "version": "3.9.19"
  }
 },
 "nbformat": 4,
 "nbformat_minor": 5
}
