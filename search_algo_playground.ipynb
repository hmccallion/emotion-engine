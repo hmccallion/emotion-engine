{
 "cells": [
  {
   "cell_type": "code",
   "execution_count": 1,
   "metadata": {},
   "outputs": [],
   "source": [
    "import pickle\n",
    "import nltk\n",
    "import numpy as np\n",
    "import pandas as pd"
   ]
  },
  {
   "cell_type": "code",
   "execution_count": 2,
   "metadata": {},
   "outputs": [],
   "source": [
    "# more dependencies\n",
    "from nltk.tokenize import word_tokenize\n",
    "from sklearn.feature_extraction.text import TfidfVectorizer \n",
    "from sklearn.metrics.pairwise import cosine_similarity"
   ]
  },
  {
   "cell_type": "code",
   "execution_count": 3,
   "metadata": {},
   "outputs": [
    {
     "name": "stderr",
     "output_type": "stream",
     "text": [
      "[nltk_data] Downloading package stopwords to\n",
      "[nltk_data]     C:\\Users\\mccal\\AppData\\Roaming\\nltk_data...\n",
      "[nltk_data]   Package stopwords is already up-to-date!\n"
     ]
    },
    {
     "data": {
      "text/plain": [
       "True"
      ]
     },
     "execution_count": 3,
     "metadata": {},
     "output_type": "execute_result"
    }
   ],
   "source": [
    "# even more dependencies\n",
    "from nltk.corpus import stopwords\n",
    "nltk.download('stopwords')"
   ]
  },
  {
   "cell_type": "code",
   "execution_count": 4,
   "metadata": {},
   "outputs": [],
   "source": [
    "# this is going to be a set containing all of the english stop words\n",
    "stop_words = set(stopwords.words('english')) "
   ]
  },
  {
   "cell_type": "code",
   "execution_count": 5,
   "metadata": {},
   "outputs": [],
   "source": [
    "with open('emotion_model.pkl','rb') as file:\n",
    "    emotion_model = pickle.load(file)"
   ]
  },
  {
   "cell_type": "code",
   "execution_count": 6,
   "metadata": {},
   "outputs": [],
   "source": [
    "with open('vectorizer.pkl','rb') as file:\n",
    "    vectorizer = pickle.load(file)"
   ]
  },
  {
   "cell_type": "code",
   "execution_count": 7,
   "metadata": {},
   "outputs": [],
   "source": [
    "with open('scored_music.pkl','rb') as file:\n",
    "    scored_music = pickle.load(file)"
   ]
  },
  {
   "cell_type": "markdown",
   "metadata": {},
   "source": [
    "The following cells will be for tinkering with the cosine similarity search algorithm and figuring out how to make it faster."
   ]
  },
  {
   "cell_type": "code",
   "execution_count": 8,
   "metadata": {},
   "outputs": [],
   "source": [
    "# we need the emotion score function\n",
    "\n",
    "def emotion_score(user_input):\n",
    "    # tokenize the input\n",
    "    input_tokens = nltk.word_tokenize(user_input.lower()) \n",
    "    # filter stopwords out of the input\n",
    "    filtered_input_tokens = [word for word in input_tokens if word not in stop_words] \n",
    "    # re-join the filtered tokens\n",
    "    input_combined = ' '.join(filtered_input_tokens) \n",
    "    # feature extraction\n",
    "    input_vector = vectorizer.transform([input_combined]) \n",
    "    # pull the probabilities from the input\n",
    "    probabilities = emotion_model.predict_proba(input_vector)\n",
    "    # return the probabilities\n",
    "    return probabilities.tolist()[0] "
   ]
  },
  {
   "cell_type": "code",
   "execution_count": 27,
   "metadata": {},
   "outputs": [
    {
     "name": "stdout",
     "output_type": "stream",
     "text": [
      "[[1 2 3 4 5 6]]\n",
      "\n",
      "[[ 1  2  3  4  5  6]\n",
      " [ 7  8  9 10 11 12]\n",
      " [13 14 15 16 17 18]]\n"
     ]
    }
   ],
   "source": [
    "# lets break down how cosine similarity is computed vector by vector\n",
    "\n",
    "#for this example lets use array 1 and array 2\n",
    "\n",
    "array1 = np.array([[1,2,3,4,5,6]])\n",
    "array2 = np.array([[1,2,3,4,5,6],[7,8,9,10,11,12],[13,14,15,16,17,18]])\n",
    "\n",
    "\n",
    "print(array1)\n",
    "print('')\n",
    "print(array2)"
   ]
  },
  {
   "cell_type": "code",
   "execution_count": 28,
   "metadata": {},
   "outputs": [],
   "source": [
    "# the first step in computing the cosine similarity is to take the dot product of the two matrices\n",
    "\n",
    "# currently, the shapes are not compatible\n",
    "# we have a (1,6) and a (3,6)\n",
    "\n",
    "# we need shapes (1,6) and (6,3)"
   ]
  },
  {
   "cell_type": "code",
   "execution_count": 29,
   "metadata": {},
   "outputs": [
    {
     "name": "stdout",
     "output_type": "stream",
     "text": [
      "[[ 1  7 13]\n",
      " [ 2  8 14]\n",
      " [ 3  9 15]\n",
      " [ 4 10 16]\n",
      " [ 5 11 17]\n",
      " [ 6 12 18]]\n",
      "\n",
      "(6, 3)\n"
     ]
    }
   ],
   "source": [
    "# so in order to take the dot product of the two matrices we will need to take the transpose of array2\n",
    "\n",
    "array2_t  = np.transpose(array2)\n",
    "\n",
    "print(array2_t)\n",
    "print('')\n",
    "print(array2_t.shape)"
   ]
  },
  {
   "cell_type": "code",
   "execution_count": 30,
   "metadata": {},
   "outputs": [
    {
     "data": {
      "text/plain": [
       "array([[ 91, 217, 343]])"
      ]
     },
     "execution_count": 30,
     "metadata": {},
     "output_type": "execute_result"
    }
   ],
   "source": [
    "# now that we have the desired shapes we can take the dot product\n",
    "\n",
    "dot = np.dot(array1,array2_t)\n",
    "dot"
   ]
  },
  {
   "cell_type": "code",
   "execution_count": 31,
   "metadata": {},
   "outputs": [
    {
     "data": {
      "text/plain": [
       "array([[1, 2, 3, 4, 5, 6]])"
      ]
     },
     "execution_count": 31,
     "metadata": {},
     "output_type": "execute_result"
    }
   ],
   "source": [
    "array1"
   ]
  },
  {
   "cell_type": "code",
   "execution_count": 37,
   "metadata": {},
   "outputs": [
    {
     "name": "stdout",
     "output_type": "stream",
     "text": [
      "mag1:  [9.53939201]\n",
      "\n",
      "mag2:  [ 9.53939201 23.64318084 38.19685851]\n"
     ]
    }
   ],
   "source": [
    "# next we will compute the magnitudes\n",
    "\n",
    "mag1 = np.linalg.norm(array1,axis=1)\n",
    "mag2 = np.linalg.norm(array2,axis=1)\n",
    "print('mag1: ',mag1)\n",
    "print('')\n",
    "print('mag2: ',mag2)\n"
   ]
  },
  {
   "cell_type": "code",
   "execution_count": 33,
   "metadata": {},
   "outputs": [],
   "source": [
    "# take the outer product of the matrix\n",
    "outer_prodcut = np.outer(mag1,mag2)"
   ]
  },
  {
   "cell_type": "code",
   "execution_count": 34,
   "metadata": {},
   "outputs": [
    {
     "data": {
      "text/plain": [
       "array([[1.        , 0.96212862, 0.94133841]])"
      ]
     },
     "execution_count": 34,
     "metadata": {},
     "output_type": "execute_result"
    }
   ],
   "source": [
    "dot/outer_prodcut"
   ]
  },
  {
   "cell_type": "code",
   "execution_count": 35,
   "metadata": {},
   "outputs": [],
   "source": [
    "sample_string = \"testing to see if my cosine similarity function works or is faster\""
   ]
  },
  {
   "cell_type": "code",
   "execution_count": 38,
   "metadata": {},
   "outputs": [],
   "source": [
    "# try to write your own cosine similarity function on top of numpy\n",
    "\n",
    "def cos_sim(v,u):\n",
    "    # only pass objects if they are (m,n) and (k,n) matrices\n",
    "\n",
    "    # first take the transpose of vector u so it is compatible for dot product\n",
    "    ut = np.transpose(u)\n",
    "\n",
    "    # take the dot product\n",
    "    dot_product = np.dot(v,ut)\n",
    "\n",
    "    # compute the magnitudes of each row for each matrix\n",
    "    v_mag = np.linalg.norm(v,axis=1)\n",
    "    u_mag = np.linalg.norm(u,axis=1)\n",
    "\n",
    "    # take the outer product of the two magnitude matrices\n",
    "    outer_product = np.outer(v_mag,u_mag)\n",
    "\n",
    "    # the cosine similarity is the dot product over the outer product\n",
    "    cosine_sim = dot_product/outer_product\n",
    "    return cosine_sim\n",
    "\n",
    "\n"
   ]
  },
  {
   "cell_type": "code",
   "execution_count": 39,
   "metadata": {},
   "outputs": [],
   "source": [
    "def cosine_similarity_search(user_input):\n",
    "    \n",
    "    # Convert the user's input into a vector \n",
    "    user_vector = emotion_score(user_input)\n",
    "    \n",
    "    \n",
    "    \n",
    "    # Convert the list of vectors from the scored_music DataFrame into a matrix  \n",
    "    # we can compute all forty five thousand cosine similarities at once instead of one by one if we use a matrix\n",
    "    song_vectors = np.vstack(scored_music['vector'].values)\n",
    "    \n",
    "    # Calculate cosine similarity for the entire set of song vectors at once\n",
    "    # the 0 index is to turn the array into a list which can then be stored in a data frame\n",
    "    cosine_sim = cos_sim(np.array(user_vector).reshape(1,-1), song_vectors)[0]\n",
    "    \n",
    "    \n",
    "\n",
    "    \n",
    "    \n",
    "    # Create a DataFrame to store the similarity scores along with song and artist info\n",
    "    comparison_df = pd.DataFrame({\n",
    "        'similarity': cosine_sim,\n",
    "        'track': scored_music['song'],\n",
    "        'artist': scored_music['artist']\n",
    "    })\n",
    "    \n",
    "    # Sort by similarity in descending order\n",
    "    sorted_comparison_df = comparison_df.sort_values(by='similarity', ascending=False)\n",
    "    \n",
    "    # return the top 10\n",
    "    return sorted_comparison_df.head(10)"
   ]
  },
  {
   "cell_type": "code",
   "execution_count": 40,
   "metadata": {},
   "outputs": [],
   "source": [
    "hank_table = cosine_similarity_search(sample_string)"
   ]
  },
  {
   "cell_type": "code",
   "execution_count": 41,
   "metadata": {},
   "outputs": [],
   "source": [
    "def cosine_similarity_search_sk(user_input):\n",
    "    \n",
    "    # Convert the user's input into a vector \n",
    "    user_vector = emotion_score(user_input)\n",
    "    \n",
    "    \n",
    "    \n",
    "    # Convert the list of vectors from the scored_music DataFrame into a matrix  \n",
    "    # we can compute all forty five thousand cosine similarities at once instead of one by one if we use a matrix\n",
    "    song_vectors = np.vstack(scored_music['vector'].values)\n",
    "    \n",
    "    # Calculate cosine similarity for the entire set of song vectors at once\n",
    "    # the 0 index is to turn the array into a list which can then be stored in a data frame\n",
    "    cosine_sim = cosine_similarity(np.array(user_vector).reshape(1,-1), song_vectors)[0]\n",
    "    \n",
    "    \n",
    "\n",
    "    \n",
    "    \n",
    "    # Create a DataFrame to store the similarity scores along with song and artist info\n",
    "    comparison_df = pd.DataFrame({\n",
    "        'similarity': cosine_sim,\n",
    "        'track': scored_music['song'],\n",
    "        'artist': scored_music['artist']\n",
    "    })\n",
    "    \n",
    "    # Sort by similarity in descending order\n",
    "    sorted_comparison_df = comparison_df.sort_values(by='similarity', ascending=False)\n",
    "    \n",
    "    # return the top 10\n",
    "    return sorted_comparison_df.head(10)"
   ]
  },
  {
   "cell_type": "code",
   "execution_count": 42,
   "metadata": {},
   "outputs": [],
   "source": [
    "sk_table = cosine_similarity_search_sk(sample_string)"
   ]
  },
  {
   "cell_type": "code",
   "execution_count": 43,
   "metadata": {},
   "outputs": [
    {
     "data": {
      "text/html": [
       "<div>\n",
       "<style scoped>\n",
       "    .dataframe tbody tr th:only-of-type {\n",
       "        vertical-align: middle;\n",
       "    }\n",
       "\n",
       "    .dataframe tbody tr th {\n",
       "        vertical-align: top;\n",
       "    }\n",
       "\n",
       "    .dataframe thead th {\n",
       "        text-align: right;\n",
       "    }\n",
       "</style>\n",
       "<table border=\"1\" class=\"dataframe\">\n",
       "  <thead>\n",
       "    <tr style=\"text-align: right;\">\n",
       "      <th></th>\n",
       "      <th>similarity</th>\n",
       "      <th>track</th>\n",
       "      <th>artist</th>\n",
       "    </tr>\n",
       "  </thead>\n",
       "  <tbody>\n",
       "    <tr>\n",
       "      <th>29788</th>\n",
       "      <td>0.999423</td>\n",
       "      <td>Real Wild Child</td>\n",
       "      <td>Iggy Pop</td>\n",
       "    </tr>\n",
       "    <tr>\n",
       "      <th>37509</th>\n",
       "      <td>0.999315</td>\n",
       "      <td>Won't Be Coming Home (S.I.N.) [Demo]</td>\n",
       "      <td>Ozzy Osbourne</td>\n",
       "    </tr>\n",
       "    <tr>\n",
       "      <th>6618</th>\n",
       "      <td>0.999262</td>\n",
       "      <td>Rich Man's Spiritual</td>\n",
       "      <td>Gordon Lightfoot</td>\n",
       "    </tr>\n",
       "    <tr>\n",
       "      <th>1761</th>\n",
       "      <td>0.999191</td>\n",
       "      <td>Goodbye My Friend</td>\n",
       "      <td>Boney M.</td>\n",
       "    </tr>\n",
       "    <tr>\n",
       "      <th>24319</th>\n",
       "      <td>0.999039</td>\n",
       "      <td>Join The Gang</td>\n",
       "      <td>David Bowie</td>\n",
       "    </tr>\n",
       "    <tr>\n",
       "      <th>10348</th>\n",
       "      <td>0.998848</td>\n",
       "      <td>Unlucky In Love</td>\n",
       "      <td>Leo Sayer</td>\n",
       "    </tr>\n",
       "    <tr>\n",
       "      <th>8607</th>\n",
       "      <td>0.998831</td>\n",
       "      <td>I Guess He'd Rather Be In Colorado</td>\n",
       "      <td>John Denver</td>\n",
       "    </tr>\n",
       "    <tr>\n",
       "      <th>35571</th>\n",
       "      <td>0.998807</td>\n",
       "      <td>King Leer</td>\n",
       "      <td>Morrissey</td>\n",
       "    </tr>\n",
       "    <tr>\n",
       "      <th>41319</th>\n",
       "      <td>0.998780</td>\n",
       "      <td>Papa Legba</td>\n",
       "      <td>Talking Heads</td>\n",
       "    </tr>\n",
       "    <tr>\n",
       "      <th>5005</th>\n",
       "      <td>0.998756</td>\n",
       "      <td>Ain't Nobody's Business If I Do</td>\n",
       "      <td>Eric Clapton</td>\n",
       "    </tr>\n",
       "  </tbody>\n",
       "</table>\n",
       "</div>"
      ],
      "text/plain": [
       "       similarity                                 track            artist\n",
       "29788    0.999423                       Real Wild Child          Iggy Pop\n",
       "37509    0.999315  Won't Be Coming Home (S.I.N.) [Demo]     Ozzy Osbourne\n",
       "6618     0.999262                  Rich Man's Spiritual  Gordon Lightfoot\n",
       "1761     0.999191                     Goodbye My Friend          Boney M.\n",
       "24319    0.999039                         Join The Gang       David Bowie\n",
       "10348    0.998848                       Unlucky In Love         Leo Sayer\n",
       "8607     0.998831    I Guess He'd Rather Be In Colorado       John Denver\n",
       "35571    0.998807                             King Leer         Morrissey\n",
       "41319    0.998780                            Papa Legba     Talking Heads\n",
       "5005     0.998756       Ain't Nobody's Business If I Do      Eric Clapton"
      ]
     },
     "execution_count": 43,
     "metadata": {},
     "output_type": "execute_result"
    }
   ],
   "source": [
    "hank_table"
   ]
  },
  {
   "cell_type": "code",
   "execution_count": 44,
   "metadata": {},
   "outputs": [
    {
     "data": {
      "text/html": [
       "<div>\n",
       "<style scoped>\n",
       "    .dataframe tbody tr th:only-of-type {\n",
       "        vertical-align: middle;\n",
       "    }\n",
       "\n",
       "    .dataframe tbody tr th {\n",
       "        vertical-align: top;\n",
       "    }\n",
       "\n",
       "    .dataframe thead th {\n",
       "        text-align: right;\n",
       "    }\n",
       "</style>\n",
       "<table border=\"1\" class=\"dataframe\">\n",
       "  <thead>\n",
       "    <tr style=\"text-align: right;\">\n",
       "      <th></th>\n",
       "      <th>similarity</th>\n",
       "      <th>track</th>\n",
       "      <th>artist</th>\n",
       "    </tr>\n",
       "  </thead>\n",
       "  <tbody>\n",
       "    <tr>\n",
       "      <th>29788</th>\n",
       "      <td>0.999423</td>\n",
       "      <td>Real Wild Child</td>\n",
       "      <td>Iggy Pop</td>\n",
       "    </tr>\n",
       "    <tr>\n",
       "      <th>37509</th>\n",
       "      <td>0.999315</td>\n",
       "      <td>Won't Be Coming Home (S.I.N.) [Demo]</td>\n",
       "      <td>Ozzy Osbourne</td>\n",
       "    </tr>\n",
       "    <tr>\n",
       "      <th>6618</th>\n",
       "      <td>0.999262</td>\n",
       "      <td>Rich Man's Spiritual</td>\n",
       "      <td>Gordon Lightfoot</td>\n",
       "    </tr>\n",
       "    <tr>\n",
       "      <th>1761</th>\n",
       "      <td>0.999191</td>\n",
       "      <td>Goodbye My Friend</td>\n",
       "      <td>Boney M.</td>\n",
       "    </tr>\n",
       "    <tr>\n",
       "      <th>24319</th>\n",
       "      <td>0.999039</td>\n",
       "      <td>Join The Gang</td>\n",
       "      <td>David Bowie</td>\n",
       "    </tr>\n",
       "    <tr>\n",
       "      <th>10348</th>\n",
       "      <td>0.998848</td>\n",
       "      <td>Unlucky In Love</td>\n",
       "      <td>Leo Sayer</td>\n",
       "    </tr>\n",
       "    <tr>\n",
       "      <th>8607</th>\n",
       "      <td>0.998831</td>\n",
       "      <td>I Guess He'd Rather Be In Colorado</td>\n",
       "      <td>John Denver</td>\n",
       "    </tr>\n",
       "    <tr>\n",
       "      <th>35571</th>\n",
       "      <td>0.998807</td>\n",
       "      <td>King Leer</td>\n",
       "      <td>Morrissey</td>\n",
       "    </tr>\n",
       "    <tr>\n",
       "      <th>41319</th>\n",
       "      <td>0.998780</td>\n",
       "      <td>Papa Legba</td>\n",
       "      <td>Talking Heads</td>\n",
       "    </tr>\n",
       "    <tr>\n",
       "      <th>5005</th>\n",
       "      <td>0.998756</td>\n",
       "      <td>Ain't Nobody's Business If I Do</td>\n",
       "      <td>Eric Clapton</td>\n",
       "    </tr>\n",
       "  </tbody>\n",
       "</table>\n",
       "</div>"
      ],
      "text/plain": [
       "       similarity                                 track            artist\n",
       "29788    0.999423                       Real Wild Child          Iggy Pop\n",
       "37509    0.999315  Won't Be Coming Home (S.I.N.) [Demo]     Ozzy Osbourne\n",
       "6618     0.999262                  Rich Man's Spiritual  Gordon Lightfoot\n",
       "1761     0.999191                     Goodbye My Friend          Boney M.\n",
       "24319    0.999039                         Join The Gang       David Bowie\n",
       "10348    0.998848                       Unlucky In Love         Leo Sayer\n",
       "8607     0.998831    I Guess He'd Rather Be In Colorado       John Denver\n",
       "35571    0.998807                             King Leer         Morrissey\n",
       "41319    0.998780                            Papa Legba     Talking Heads\n",
       "5005     0.998756       Ain't Nobody's Business If I Do      Eric Clapton"
      ]
     },
     "execution_count": 44,
     "metadata": {},
     "output_type": "execute_result"
    }
   ],
   "source": [
    "sk_table"
   ]
  },
  {
   "cell_type": "code",
   "execution_count": 48,
   "metadata": {},
   "outputs": [],
   "source": [
    "# Tkinter GUI\n",
    "import tkinter as tk\n",
    "from tkinter import messagebox\n",
    "def search_similar_songs():\n",
    "    # Get the user input from the Entry widget\n",
    "    user_input = entry.get()\n",
    "    \n",
    "    if not user_input:\n",
    "        messagebox.showwarning(\"Input Error\", \"Please enter some text.\")\n",
    "        return\n",
    "    \n",
    "    \n",
    "    \n",
    "    \n",
    "    # Perform the search\n",
    "    result = cosine_similarity_search_hank(user_input)\n",
    "    \n",
    "    # Clear the previous results in the Listbox\n",
    "    listbox.delete(0, tk.END)\n",
    "    \n",
    "    # Add the top 10 results to the Listbox\n",
    "    for _, row in result.iterrows():\n",
    "        listbox.insert(tk.END, f\"Track: {row['track']} | Artist: {row['artist']} | Similarity: {row['similarity']:.4f}\")\n",
    "\n",
    "# Create the main window\n",
    "root = tk.Tk()\n",
    "root.title(\"Emotion Engine\")\n",
    "\n",
    "# Create a label for user instructions\n",
    "label = tk.Label(root, text=\"Enter a description or emotion:\")\n",
    "label.pack(pady=10)\n",
    "\n",
    "# Create an entry widget to take user input\n",
    "entry = tk.Entry(root, width=50)\n",
    "entry.pack(pady=10)\n",
    "\n",
    "# Create a button to trigger the search\n",
    "search_button = tk.Button(root, text=\"Find Similar Songs\", command=search_similar_songs)\n",
    "search_button.pack(pady=10)\n",
    "\n",
    "# Create a Listbox to display the results\n",
    "listbox = tk.Listbox(root, width=60, height=10)\n",
    "listbox.pack(pady=10)\n",
    "\n",
    "# Run the GUI main loop\n",
    "root.mainloop()"
   ]
  },
  {
   "cell_type": "code",
   "execution_count": null,
   "metadata": {},
   "outputs": [],
   "source": []
  }
 ],
 "metadata": {
  "kernelspec": {
   "display_name": "py36",
   "language": "python",
   "name": "python3"
  },
  "language_info": {
   "codemirror_mode": {
    "name": "ipython",
    "version": 3
   },
   "file_extension": ".py",
   "mimetype": "text/x-python",
   "name": "python",
   "nbconvert_exporter": "python",
   "pygments_lexer": "ipython3",
   "version": "3.6.8"
  }
 },
 "nbformat": 4,
 "nbformat_minor": 2
}
