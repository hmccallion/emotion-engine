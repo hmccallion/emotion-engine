{
 "cells": [
  {
   "cell_type": "code",
   "execution_count": 1,
   "metadata": {},
   "outputs": [],
   "source": [
    "import pickle\n",
    "import nltk\n",
    "import numpy as np\n",
    "import pandas as pd"
   ]
  },
  {
   "cell_type": "code",
   "execution_count": 2,
   "metadata": {},
   "outputs": [],
   "source": [
    "# more dependencies\n",
    "from nltk.tokenize import word_tokenize\n",
    "from sklearn.feature_extraction.text import TfidfVectorizer \n",
    "from sklearn.metrics.pairwise import cosine_similarity"
   ]
  },
  {
   "cell_type": "code",
   "execution_count": 3,
   "metadata": {},
   "outputs": [
    {
     "name": "stderr",
     "output_type": "stream",
     "text": [
      "[nltk_data] Downloading package stopwords to\n",
      "[nltk_data]     C:\\Users\\mccal\\AppData\\Roaming\\nltk_data...\n",
      "[nltk_data]   Package stopwords is already up-to-date!\n"
     ]
    },
    {
     "data": {
      "text/plain": [
       "True"
      ]
     },
     "execution_count": 3,
     "metadata": {},
     "output_type": "execute_result"
    }
   ],
   "source": [
    "# even more dependencies\n",
    "from nltk.corpus import stopwords\n",
    "nltk.download('stopwords')"
   ]
  },
  {
   "cell_type": "code",
   "execution_count": 4,
   "metadata": {},
   "outputs": [],
   "source": [
    "# this is going to be a set containing all of the english stop words\n",
    "stop_words = set(stopwords.words('english')) "
   ]
  },
  {
   "cell_type": "code",
   "execution_count": 5,
   "metadata": {},
   "outputs": [],
   "source": [
    "with open('emotion_model.pkl','rb') as file:\n",
    "    emotion_model = pickle.load(file)"
   ]
  },
  {
   "cell_type": "code",
   "execution_count": 6,
   "metadata": {},
   "outputs": [],
   "source": [
    "with open('vectorizer.pkl','rb') as file:\n",
    "    vectorizer = pickle.load(file)"
   ]
  },
  {
   "cell_type": "code",
   "execution_count": 7,
   "metadata": {},
   "outputs": [],
   "source": [
    "with open('scored_music.pkl','rb') as file:\n",
    "    scored_music = pickle.load(file)"
   ]
  },
  {
   "cell_type": "markdown",
   "metadata": {},
   "source": [
    "The following cells will be for tinkering with the cosine similarity search algorithm and figuring out how to make it faster."
   ]
  },
  {
   "cell_type": "code",
   "execution_count": 8,
   "metadata": {},
   "outputs": [],
   "source": [
    "# we need the emotion score function\n",
    "\n",
    "def emotion_score(user_input):\n",
    "    # tokenize the input\n",
    "    input_tokens = nltk.word_tokenize(user_input.lower()) \n",
    "    # filter stopwords out of the input\n",
    "    filtered_input_tokens = [word for word in input_tokens if word not in stop_words] \n",
    "    # re-join the filtered tokens\n",
    "    input_combined = ' '.join(filtered_input_tokens) \n",
    "    # feature extraction\n",
    "    input_vector = vectorizer.transform([input_combined]) \n",
    "    # pull the probabilities from the input\n",
    "    probabilities = emotion_model.predict_proba(input_vector)\n",
    "    # return the probabilities\n",
    "    return probabilities.tolist()[0] "
   ]
  },
  {
   "cell_type": "markdown",
   "metadata": {},
   "source": [
    "We need to rewrite the song similarity function.  Since we will be computing the similarity with every song vector at once, it will already be shaped properly.\n",
    "<div></div>\n",
    "The only vector that will need to be re-shaped is the vectorized user input"
   ]
  },
  {
   "cell_type": "code",
   "execution_count": 9,
   "metadata": {},
   "outputs": [
    {
     "data": {
      "text/plain": [
       "[0.1920253255547959,\n",
       " 0.4423441895317889,\n",
       " 0.10115656642592427,\n",
       " 0.1433433982582535,\n",
       " 0.08900427340555789,\n",
       " 0.03212624682367958]"
      ]
     },
     "execution_count": 9,
     "metadata": {},
     "output_type": "execute_result"
    }
   ],
   "source": [
    "# start by creating a vector from a user's input\n",
    "user_vector = emotion_score(\"sample user input written for testing\")\n",
    "user_vector"
   ]
  },
  {
   "cell_type": "code",
   "execution_count": 10,
   "metadata": {},
   "outputs": [
    {
     "data": {
      "text/plain": [
       "0        [0.03579174590286366, 0.8689770047957636, 0.01...\n",
       "1        [0.06429972188393214, 0.6377869365833222, 0.15...\n",
       "2        [0.5374242825027009, 0.31686309768917464, 0.07...\n",
       "3        [0.13480472056337753, 0.36512886018708607, 0.2...\n",
       "4        [0.9674123512465452, 0.00520893792719057, 0.01...\n",
       "                               ...                        \n",
       "44790    [0.15062559050424443, 0.5088407635755823, 0.05...\n",
       "44791    [0.438188434704547, 0.1918744712386625, 0.0303...\n",
       "44792    [0.16985368845236432, 0.41788928089604205, 0.0...\n",
       "44793    [0.2919489066741162, 0.2975261464479545, 0.074...\n",
       "44794    [0.3067180083139707, 0.26479157366799827, 0.08...\n",
       "Name: vector, Length: 44795, dtype: object"
      ]
     },
     "execution_count": 10,
     "metadata": {},
     "output_type": "execute_result"
    }
   ],
   "source": [
    "# we want to be able to compute dot products with this vector and every song vector at once\n",
    "scored_music.vector"
   ]
  },
  {
   "cell_type": "code",
   "execution_count": 11,
   "metadata": {},
   "outputs": [
    {
     "data": {
      "text/plain": [
       "array([list([0.03579174590286366, 0.8689770047957636, 0.019480216983298226, 0.032564944744232945, 0.023263061565039773, 0.01992302600880187]),\n",
       "       list([0.06429972188393214, 0.6377869365833222, 0.1520119896560907, 0.0530454841641546, 0.06036502570132249, 0.032490842011177856]),\n",
       "       list([0.5374242825027009, 0.31686309768917464, 0.07247709323584733, 0.02208633081018713, 0.02742763237694463, 0.02372156338514537]),\n",
       "       ...,\n",
       "       list([0.16985368845236432, 0.41788928089604205, 0.08971713182181408, 0.13040927733200505, 0.15285628878492602, 0.039274332712848595]),\n",
       "       list([0.2919489066741162, 0.2975261464479545, 0.07445915237974543, 0.20084836550918847, 0.10241929294489283, 0.03279813604410254]),\n",
       "       list([0.3067180083139707, 0.26479157366799827, 0.08410894800858743, 0.2173920374978352, 0.0970364581197081, 0.029952974391900266])],\n",
       "      dtype=object)"
      ]
     },
     "execution_count": 11,
     "metadata": {},
     "output_type": "execute_result"
    }
   ],
   "source": [
    "# all we need are the values\n",
    "scored_music.vector.values"
   ]
  },
  {
   "cell_type": "code",
   "execution_count": 12,
   "metadata": {},
   "outputs": [
    {
     "data": {
      "text/plain": [
       "array([[0.03579175, 0.868977  , 0.01948022, 0.03256494, 0.02326306,\n",
       "        0.01992303],\n",
       "       [0.06429972, 0.63778694, 0.15201199, 0.05304548, 0.06036503,\n",
       "        0.03249084],\n",
       "       [0.53742428, 0.3168631 , 0.07247709, 0.02208633, 0.02742763,\n",
       "        0.02372156],\n",
       "       ...,\n",
       "       [0.16985369, 0.41788928, 0.08971713, 0.13040928, 0.15285629,\n",
       "        0.03927433],\n",
       "       [0.29194891, 0.29752615, 0.07445915, 0.20084837, 0.10241929,\n",
       "        0.03279814],\n",
       "       [0.30671801, 0.26479157, 0.08410895, 0.21739204, 0.09703646,\n",
       "        0.02995297]])"
      ]
     },
     "execution_count": 12,
     "metadata": {},
     "output_type": "execute_result"
    }
   ],
   "source": [
    "# but we also need them to be in a matrix\n",
    "song_matrix = np.vstack(scored_music.vector.values)\n",
    "song_matrix"
   ]
  },
  {
   "cell_type": "code",
   "execution_count": 13,
   "metadata": {},
   "outputs": [
    {
     "data": {
      "text/plain": [
       "[0.1920253255547959,\n",
       " 0.4423441895317889,\n",
       " 0.10115656642592427,\n",
       " 0.1433433982582535,\n",
       " 0.08900427340555789,\n",
       " 0.03212624682367958]"
      ]
     },
     "execution_count": 13,
     "metadata": {},
     "output_type": "execute_result"
    }
   ],
   "source": [
    "user_vector"
   ]
  },
  {
   "cell_type": "code",
   "execution_count": 14,
   "metadata": {},
   "outputs": [
    {
     "data": {
      "text/plain": [
       "array([0.19202533, 0.44234419, 0.10115657, 0.1433434 , 0.08900427,\n",
       "       0.03212625])"
      ]
     },
     "execution_count": 14,
     "metadata": {},
     "output_type": "execute_result"
    }
   ],
   "source": [
    "user_array = np.array(user_vector)\n",
    "user_array"
   ]
  },
  {
   "cell_type": "code",
   "execution_count": 15,
   "metadata": {},
   "outputs": [
    {
     "name": "stdout",
     "output_type": "stream",
     "text": [
      "user array shape:  (6,)\n",
      "song matrix shape:  (44795, 6)\n"
     ]
    }
   ],
   "source": [
    "print( 'user array shape: ',user_array.shape)\n",
    "print('song matrix shape: ',song_matrix.shape)"
   ]
  },
  {
   "cell_type": "markdown",
   "metadata": {},
   "source": [
    "In order to do the dot product for an mxn with a pxq matrix, n and q must be equal.  This is why we need to reshape the user_array"
   ]
  },
  {
   "cell_type": "code",
   "execution_count": 16,
   "metadata": {},
   "outputs": [
    {
     "name": "stdout",
     "output_type": "stream",
     "text": [
      "[[0.19202533 0.44234419 0.10115657 0.1433434  0.08900427 0.03212625]]\n",
      "user_array shape:  (1, 6)\n"
     ]
    }
   ],
   "source": [
    "shaped_user_array = user_array.reshape(1,-1)\n",
    "print(shaped_user_array)\n",
    "print( \"user_array shape: \", shaped_user_array.shape)"
   ]
  },
  {
   "cell_type": "markdown",
   "metadata": {},
   "source": [
    "Now we can do dot products which is part of the cosine similarity procedure."
   ]
  },
  {
   "cell_type": "code",
   "execution_count": 17,
   "metadata": {},
   "outputs": [
    {
     "data": {
      "text/plain": [
       "(1, 44795)"
      ]
     },
     "execution_count": 17,
     "metadata": {},
     "output_type": "execute_result"
    }
   ],
   "source": [
    "cosine_similarity(shaped_user_array,song_matrix).shape"
   ]
  },
  {
   "cell_type": "markdown",
   "metadata": {},
   "source": [
    "Once we get the cosine similarity array we need to convert it back to a list so it can be stored in a pandas data frame."
   ]
  },
  {
   "cell_type": "code",
   "execution_count": 18,
   "metadata": {},
   "outputs": [
    {
     "data": {
      "text/plain": [
       "array([[0.8813695 , 0.93407444, 0.78258446, ..., 0.99014323, 0.93328253,\n",
       "        0.90257712]])"
      ]
     },
     "execution_count": 18,
     "metadata": {},
     "output_type": "execute_result"
    }
   ],
   "source": [
    "cosine_similarity(shaped_user_array,song_matrix)"
   ]
  },
  {
   "cell_type": "code",
   "execution_count": 19,
   "metadata": {},
   "outputs": [
    {
     "name": "stdout",
     "output_type": "stream",
     "text": [
      "[[ 1  2  3  4  5  6]\n",
      " [ 7  8  9 10 11 12]\n",
      " [13 14 15 16 17 18]] (3, 6)\n",
      "\n",
      "[[1 2 3 4 5 6]] (1, 6)\n"
     ]
    }
   ],
   "source": [
    "array1 = np.array([[1,2,3,4,5,6],[7,8,9,10,11,12],[13,14,15,16,17,18]])\n",
    "array2 = np.array([[1,2,3,4,5,6]])\n",
    "\n",
    "print(array1,array1.shape)\n",
    "print('')\n",
    "print(array2,array2.shape)\n",
    "\n",
    "    \n"
   ]
  },
  {
   "cell_type": "code",
   "execution_count": 20,
   "metadata": {},
   "outputs": [
    {
     "data": {
      "text/plain": [
       "(1, 6)"
      ]
     },
     "execution_count": 20,
     "metadata": {},
     "output_type": "execute_result"
    }
   ],
   "source": [
    "array2.reshape(1,-1).shape"
   ]
  },
  {
   "cell_type": "code",
   "execution_count": 21,
   "metadata": {},
   "outputs": [
    {
     "data": {
      "text/plain": [
       "(44795, 6)"
      ]
     },
     "execution_count": 21,
     "metadata": {},
     "output_type": "execute_result"
    }
   ],
   "source": [
    "song_matrix.shape"
   ]
  },
  {
   "cell_type": "code",
   "execution_count": 22,
   "metadata": {},
   "outputs": [
    {
     "data": {
      "text/plain": [
       "[0.1920253255547959,\n",
       " 0.4423441895317889,\n",
       " 0.10115656642592427,\n",
       " 0.1433433982582535,\n",
       " 0.08900427340555789,\n",
       " 0.03212624682367958]"
      ]
     },
     "execution_count": 22,
     "metadata": {},
     "output_type": "execute_result"
    }
   ],
   "source": [
    "user_vector"
   ]
  },
  {
   "cell_type": "code",
   "execution_count": 23,
   "metadata": {},
   "outputs": [
    {
     "data": {
      "text/plain": [
       "(1, 44795)"
      ]
     },
     "execution_count": 23,
     "metadata": {},
     "output_type": "execute_result"
    }
   ],
   "source": [
    "cosine_similarity(array2,song_matrix).shape"
   ]
  },
  {
   "cell_type": "code",
   "execution_count": 24,
   "metadata": {},
   "outputs": [
    {
     "data": {
      "text/plain": [
       "array([[1, 2, 3, 4, 5, 6]])"
      ]
     },
     "execution_count": 24,
     "metadata": {},
     "output_type": "execute_result"
    }
   ],
   "source": [
    "array2"
   ]
  },
  {
   "cell_type": "code",
   "execution_count": 25,
   "metadata": {},
   "outputs": [
    {
     "data": {
      "text/plain": [
       "array([[ 1,  7, 13],\n",
       "       [ 2,  8, 14],\n",
       "       [ 3,  9, 15],\n",
       "       [ 4, 10, 16],\n",
       "       [ 5, 11, 17],\n",
       "       [ 6, 12, 18]])"
      ]
     },
     "execution_count": 25,
     "metadata": {},
     "output_type": "execute_result"
    }
   ],
   "source": [
    "np.transpose(array1)"
   ]
  },
  {
   "cell_type": "code",
   "execution_count": 26,
   "metadata": {},
   "outputs": [
    {
     "data": {
      "text/plain": [
       "array([[ 91, 217, 343]])"
      ]
     },
     "execution_count": 26,
     "metadata": {},
     "output_type": "execute_result"
    }
   ],
   "source": [
    "np.dot(array2,np.transpose(array1))"
   ]
  },
  {
   "cell_type": "code",
   "execution_count": 27,
   "metadata": {},
   "outputs": [],
   "source": [
    "def cosine_similarity_matrices(A, B):\n",
    "    # Step 1: Compute the dot product of matrix A with matrix B.T (transpose of B)\n",
    "    dot_product_matrix = np.dot(A, B.T)\n",
    "    \n",
    "    # Step 2: Compute the norms of the rows of matrix A and matrix B\n",
    "    norms_A = np.linalg.norm(A, axis=1)\n",
    "    norms_B = np.linalg.norm(B, axis=1)\n",
    "    \n",
    "    # Step 3: Compute the cosine similarity matrix\n",
    "    similarity_matrix = dot_product_matrix / np.outer(norms_A, norms_B)\n",
    "    \n",
    "    return similarity_matrix"
   ]
  },
  {
   "cell_type": "code",
   "execution_count": 28,
   "metadata": {},
   "outputs": [
    {
     "data": {
      "text/plain": [
       "array([[0.26455028, 0.3951701 , 0.29248176, ..., 0.58227574, 0.57177039,\n",
       "        0.57481759]])"
      ]
     },
     "execution_count": 28,
     "metadata": {},
     "output_type": "execute_result"
    }
   ],
   "source": [
    "cosine_similarity_matrices(array2,song_matrix)"
   ]
  },
  {
   "cell_type": "code",
   "execution_count": 29,
   "metadata": {},
   "outputs": [
    {
     "data": {
      "text/plain": [
       "array([[0.26455028, 0.3951701 , 0.29248176, ..., 0.58227574, 0.57177039,\n",
       "        0.57481759]])"
      ]
     },
     "execution_count": 29,
     "metadata": {},
     "output_type": "execute_result"
    }
   ],
   "source": [
    "cosine_similarity(array2,song_matrix)"
   ]
  },
  {
   "cell_type": "code",
   "execution_count": 30,
   "metadata": {},
   "outputs": [
    {
     "name": "stdout",
     "output_type": "stream",
     "text": [
      "[[ 1  2  3  4  5  6]\n",
      " [ 7  8  9 10 11 12]\n",
      " [13 14 15 16 17 18]]\n",
      "\n",
      "[[1 2 3 4 5 6]]\n"
     ]
    }
   ],
   "source": [
    "# lets break down how cosine similarity is computed vector by vector\n",
    "\n",
    "#for this example lets use array 1 and array 2\n",
    "\n",
    "array1 = np.array([[1,2,3,4,5,6],[7,8,9,10,11,12],[13,14,15,16,17,18]])\n",
    "array2 = np.array([[1,2,3,4,5,6]])\n",
    "\n",
    "print(array1)\n",
    "print('')\n",
    "print(array2)"
   ]
  },
  {
   "cell_type": "code",
   "execution_count": 31,
   "metadata": {},
   "outputs": [],
   "source": [
    "# the first step in computing the cosine similarity is to take the dot product of the two matrices\n",
    "\n",
    "# currently, the shapes are not compatible\n",
    "# we have a (1,6) and a (3,6)"
   ]
  },
  {
   "cell_type": "code",
   "execution_count": 32,
   "metadata": {},
   "outputs": [
    {
     "name": "stdout",
     "output_type": "stream",
     "text": [
      "[[ 1  7 13]\n",
      " [ 2  8 14]\n",
      " [ 3  9 15]\n",
      " [ 4 10 16]\n",
      " [ 5 11 17]\n",
      " [ 6 12 18]]\n",
      "\n",
      "(6, 3)\n"
     ]
    }
   ],
   "source": [
    "# so in order to take the dot product of the two matrices we will need to take the transpose of array1\n",
    "\n",
    "array1_t  = np.transpose(array1)\n",
    "\n",
    "print(array1_t)\n",
    "print('')\n",
    "print(array1_t.shape)"
   ]
  },
  {
   "cell_type": "code",
   "execution_count": 33,
   "metadata": {},
   "outputs": [
    {
     "data": {
      "text/plain": [
       "array([[ 91, 217, 343]])"
      ]
     },
     "execution_count": 33,
     "metadata": {},
     "output_type": "execute_result"
    }
   ],
   "source": [
    "# now that we have the desired shapes we can take the dot product\n",
    "\n",
    "dot = np.dot(array2,array1_t)\n",
    "dot"
   ]
  },
  {
   "cell_type": "code",
   "execution_count": 34,
   "metadata": {},
   "outputs": [
    {
     "data": {
      "text/plain": [
       "array([[ 1,  2,  3,  4,  5,  6],\n",
       "       [ 7,  8,  9, 10, 11, 12],\n",
       "       [13, 14, 15, 16, 17, 18]])"
      ]
     },
     "execution_count": 34,
     "metadata": {},
     "output_type": "execute_result"
    }
   ],
   "source": [
    "array1"
   ]
  },
  {
   "cell_type": "code",
   "execution_count": 35,
   "metadata": {},
   "outputs": [
    {
     "name": "stdout",
     "output_type": "stream",
     "text": [
      "amg1:  [ 9.53939201 23.64318084 38.19685851]\n",
      "\n",
      "mag2:  [9.53939201]\n"
     ]
    }
   ],
   "source": [
    "# next we will compute the magnitudes\n",
    "\n",
    "mag1 = np.linalg.norm(array1,axis=1)\n",
    "mag2 = np.linalg.norm(array2,axis=1)\n",
    "print('amg1: ',mag1)\n",
    "print('')\n",
    "print('mag2: ',mag2)\n"
   ]
  },
  {
   "cell_type": "code",
   "execution_count": 36,
   "metadata": {},
   "outputs": [],
   "source": [
    "# take the outer product of the matrix\n",
    "outer_prodcut = np.outer(mag1,mag2)"
   ]
  },
  {
   "cell_type": "code",
   "execution_count": 37,
   "metadata": {},
   "outputs": [
    {
     "data": {
      "text/plain": [
       "array([[1.        , 2.38461538, 3.76923077],\n",
       "       [0.40347329, 0.96212862, 1.52078395],\n",
       "       [0.24974284, 0.59554062, 0.94133841]])"
      ]
     },
     "execution_count": 37,
     "metadata": {},
     "output_type": "execute_result"
    }
   ],
   "source": [
    "dot/outer_prodcut"
   ]
  },
  {
   "cell_type": "code",
   "execution_count": 39,
   "metadata": {},
   "outputs": [],
   "source": [
    "sample_string = \"testing to see if my cosine similarity function works or is faster\""
   ]
  },
  {
   "cell_type": "code",
   "execution_count": 41,
   "metadata": {},
   "outputs": [],
   "source": [
    "# try to write your own cosine similarity function on top of numpy\n",
    "\n",
    "def cos_sim(v,u):\n",
    "    # only pass objects if they are (m,n) and (k,n) matrices\n",
    "\n",
    "    # first take the transpose of vector u so it is compatible for dot product\n",
    "    ut = np.transpose(u)\n",
    "\n",
    "    # take the dot product\n",
    "    dot_product = np.dot(v,ut)\n",
    "\n",
    "    # compute the magnitudes of each row for each matrix\n",
    "    v_mag = np.linalg.norm(v,axis=1)\n",
    "    u_mag = np.linalg.norm(u,axis=1)\n",
    "\n",
    "    # take the outer product of the two magnitude matrices\n",
    "    outer_product = np.outer(v_mag,u_mag)\n",
    "\n",
    "    # the cosine similarity is the dot product over the outer product\n",
    "    cosine_sim = dot_product/outer_product\n",
    "    return cosine_sim\n",
    "\n",
    "\n"
   ]
  },
  {
   "cell_type": "code",
   "execution_count": 50,
   "metadata": {},
   "outputs": [],
   "source": [
    "def cosine_similarity_search_hank(user_input):\n",
    "    \n",
    "    # Convert the user's input into a vector \n",
    "    user_vector = emotion_score(user_input)\n",
    "    \n",
    "    \n",
    "    \n",
    "    # Convert the list of vectors from the scored_music DataFrame into a matrix  \n",
    "    # we can compute all forty five thousand cosine similarities at once instead of one by one if we use a matrix\n",
    "    song_vectors = np.vstack(scored_music['vector'].values)\n",
    "    \n",
    "    # Calculate cosine similarity for the entire set of song vectors at once\n",
    "    # the 0 index is to turn the array into a list which can then be stored in a data frame\n",
    "    cosine_sim = cos_sim(np.array(user_vector).reshape(1,-1), song_vectors)[0]\n",
    "    \n",
    "    \n",
    "\n",
    "    \n",
    "    \n",
    "    # Create a DataFrame to store the similarity scores along with song and artist info\n",
    "    comparison_df = pd.DataFrame({\n",
    "        'similarity': cosine_sim,\n",
    "        'track': scored_music['song'],\n",
    "        'artist': scored_music['artist']\n",
    "    })\n",
    "    \n",
    "    # Sort by similarity in descending order\n",
    "    sorted_comparison_df = comparison_df.sort_values(by='similarity', ascending=False)\n",
    "    \n",
    "    # return the top 10\n",
    "    return sorted_comparison_df.head(10)"
   ]
  },
  {
   "cell_type": "code",
   "execution_count": 56,
   "metadata": {},
   "outputs": [],
   "source": [
    "hank_table = cosine_similarity_search_hank(sample_string)"
   ]
  },
  {
   "cell_type": "code",
   "execution_count": 52,
   "metadata": {},
   "outputs": [],
   "source": [
    "def cosine_similarity_search_sk(user_input):\n",
    "    \n",
    "    # Convert the user's input into a vector \n",
    "    user_vector = emotion_score(user_input)\n",
    "    \n",
    "    \n",
    "    \n",
    "    # Convert the list of vectors from the scored_music DataFrame into a matrix  \n",
    "    # we can compute all forty five thousand cosine similarities at once instead of one by one if we use a matrix\n",
    "    song_vectors = np.vstack(scored_music['vector'].values)\n",
    "    \n",
    "    # Calculate cosine similarity for the entire set of song vectors at once\n",
    "    # the 0 index is to turn the array into a list which can then be stored in a data frame\n",
    "    cosine_sim = cosine_similarity(np.array(user_vector).reshape(1,-1), song_vectors)[0]\n",
    "    \n",
    "    \n",
    "\n",
    "    \n",
    "    \n",
    "    # Create a DataFrame to store the similarity scores along with song and artist info\n",
    "    comparison_df = pd.DataFrame({\n",
    "        'similarity': cosine_sim,\n",
    "        'track': scored_music['song'],\n",
    "        'artist': scored_music['artist']\n",
    "    })\n",
    "    \n",
    "    # Sort by similarity in descending order\n",
    "    sorted_comparison_df = comparison_df.sort_values(by='similarity', ascending=False)\n",
    "    \n",
    "    # return the top 10\n",
    "    return sorted_comparison_df.head(10)"
   ]
  },
  {
   "cell_type": "code",
   "execution_count": 57,
   "metadata": {},
   "outputs": [],
   "source": [
    "sk_table = cosine_similarity_search_sk(sample_string)"
   ]
  },
  {
   "cell_type": "code",
   "execution_count": 54,
   "metadata": {},
   "outputs": [
    {
     "data": {
      "text/html": [
       "<div>\n",
       "<style scoped>\n",
       "    .dataframe tbody tr th:only-of-type {\n",
       "        vertical-align: middle;\n",
       "    }\n",
       "\n",
       "    .dataframe tbody tr th {\n",
       "        vertical-align: top;\n",
       "    }\n",
       "\n",
       "    .dataframe thead th {\n",
       "        text-align: right;\n",
       "    }\n",
       "</style>\n",
       "<table border=\"1\" class=\"dataframe\">\n",
       "  <thead>\n",
       "    <tr style=\"text-align: right;\">\n",
       "      <th></th>\n",
       "      <th>similarity</th>\n",
       "      <th>track</th>\n",
       "      <th>artist</th>\n",
       "    </tr>\n",
       "  </thead>\n",
       "  <tbody>\n",
       "    <tr>\n",
       "      <th>29788</th>\n",
       "      <td>0.999423</td>\n",
       "      <td>Real Wild Child</td>\n",
       "      <td>Iggy Pop</td>\n",
       "    </tr>\n",
       "    <tr>\n",
       "      <th>37509</th>\n",
       "      <td>0.999315</td>\n",
       "      <td>Won't Be Coming Home (S.I.N.) [Demo]</td>\n",
       "      <td>Ozzy Osbourne</td>\n",
       "    </tr>\n",
       "    <tr>\n",
       "      <th>6618</th>\n",
       "      <td>0.999262</td>\n",
       "      <td>Rich Man's Spiritual</td>\n",
       "      <td>Gordon Lightfoot</td>\n",
       "    </tr>\n",
       "    <tr>\n",
       "      <th>1761</th>\n",
       "      <td>0.999191</td>\n",
       "      <td>Goodbye My Friend</td>\n",
       "      <td>Boney M.</td>\n",
       "    </tr>\n",
       "    <tr>\n",
       "      <th>24319</th>\n",
       "      <td>0.999039</td>\n",
       "      <td>Join The Gang</td>\n",
       "      <td>David Bowie</td>\n",
       "    </tr>\n",
       "    <tr>\n",
       "      <th>10348</th>\n",
       "      <td>0.998848</td>\n",
       "      <td>Unlucky In Love</td>\n",
       "      <td>Leo Sayer</td>\n",
       "    </tr>\n",
       "    <tr>\n",
       "      <th>8607</th>\n",
       "      <td>0.998831</td>\n",
       "      <td>I Guess He'd Rather Be In Colorado</td>\n",
       "      <td>John Denver</td>\n",
       "    </tr>\n",
       "    <tr>\n",
       "      <th>35571</th>\n",
       "      <td>0.998807</td>\n",
       "      <td>King Leer</td>\n",
       "      <td>Morrissey</td>\n",
       "    </tr>\n",
       "    <tr>\n",
       "      <th>41319</th>\n",
       "      <td>0.998780</td>\n",
       "      <td>Papa Legba</td>\n",
       "      <td>Talking Heads</td>\n",
       "    </tr>\n",
       "    <tr>\n",
       "      <th>5005</th>\n",
       "      <td>0.998756</td>\n",
       "      <td>Ain't Nobody's Business If I Do</td>\n",
       "      <td>Eric Clapton</td>\n",
       "    </tr>\n",
       "  </tbody>\n",
       "</table>\n",
       "</div>"
      ],
      "text/plain": [
       "       similarity                                 track            artist\n",
       "29788    0.999423                       Real Wild Child          Iggy Pop\n",
       "37509    0.999315  Won't Be Coming Home (S.I.N.) [Demo]     Ozzy Osbourne\n",
       "6618     0.999262                  Rich Man's Spiritual  Gordon Lightfoot\n",
       "1761     0.999191                     Goodbye My Friend          Boney M.\n",
       "24319    0.999039                         Join The Gang       David Bowie\n",
       "10348    0.998848                       Unlucky In Love         Leo Sayer\n",
       "8607     0.998831    I Guess He'd Rather Be In Colorado       John Denver\n",
       "35571    0.998807                             King Leer         Morrissey\n",
       "41319    0.998780                            Papa Legba     Talking Heads\n",
       "5005     0.998756       Ain't Nobody's Business If I Do      Eric Clapton"
      ]
     },
     "execution_count": 54,
     "metadata": {},
     "output_type": "execute_result"
    }
   ],
   "source": [
    "hank_table"
   ]
  },
  {
   "cell_type": "code",
   "execution_count": 55,
   "metadata": {},
   "outputs": [
    {
     "data": {
      "text/html": [
       "<div>\n",
       "<style scoped>\n",
       "    .dataframe tbody tr th:only-of-type {\n",
       "        vertical-align: middle;\n",
       "    }\n",
       "\n",
       "    .dataframe tbody tr th {\n",
       "        vertical-align: top;\n",
       "    }\n",
       "\n",
       "    .dataframe thead th {\n",
       "        text-align: right;\n",
       "    }\n",
       "</style>\n",
       "<table border=\"1\" class=\"dataframe\">\n",
       "  <thead>\n",
       "    <tr style=\"text-align: right;\">\n",
       "      <th></th>\n",
       "      <th>similarity</th>\n",
       "      <th>track</th>\n",
       "      <th>artist</th>\n",
       "    </tr>\n",
       "  </thead>\n",
       "  <tbody>\n",
       "    <tr>\n",
       "      <th>29788</th>\n",
       "      <td>0.999423</td>\n",
       "      <td>Real Wild Child</td>\n",
       "      <td>Iggy Pop</td>\n",
       "    </tr>\n",
       "    <tr>\n",
       "      <th>37509</th>\n",
       "      <td>0.999315</td>\n",
       "      <td>Won't Be Coming Home (S.I.N.) [Demo]</td>\n",
       "      <td>Ozzy Osbourne</td>\n",
       "    </tr>\n",
       "    <tr>\n",
       "      <th>6618</th>\n",
       "      <td>0.999262</td>\n",
       "      <td>Rich Man's Spiritual</td>\n",
       "      <td>Gordon Lightfoot</td>\n",
       "    </tr>\n",
       "    <tr>\n",
       "      <th>1761</th>\n",
       "      <td>0.999191</td>\n",
       "      <td>Goodbye My Friend</td>\n",
       "      <td>Boney M.</td>\n",
       "    </tr>\n",
       "    <tr>\n",
       "      <th>24319</th>\n",
       "      <td>0.999039</td>\n",
       "      <td>Join The Gang</td>\n",
       "      <td>David Bowie</td>\n",
       "    </tr>\n",
       "    <tr>\n",
       "      <th>10348</th>\n",
       "      <td>0.998848</td>\n",
       "      <td>Unlucky In Love</td>\n",
       "      <td>Leo Sayer</td>\n",
       "    </tr>\n",
       "    <tr>\n",
       "      <th>8607</th>\n",
       "      <td>0.998831</td>\n",
       "      <td>I Guess He'd Rather Be In Colorado</td>\n",
       "      <td>John Denver</td>\n",
       "    </tr>\n",
       "    <tr>\n",
       "      <th>35571</th>\n",
       "      <td>0.998807</td>\n",
       "      <td>King Leer</td>\n",
       "      <td>Morrissey</td>\n",
       "    </tr>\n",
       "    <tr>\n",
       "      <th>41319</th>\n",
       "      <td>0.998780</td>\n",
       "      <td>Papa Legba</td>\n",
       "      <td>Talking Heads</td>\n",
       "    </tr>\n",
       "    <tr>\n",
       "      <th>5005</th>\n",
       "      <td>0.998756</td>\n",
       "      <td>Ain't Nobody's Business If I Do</td>\n",
       "      <td>Eric Clapton</td>\n",
       "    </tr>\n",
       "  </tbody>\n",
       "</table>\n",
       "</div>"
      ],
      "text/plain": [
       "       similarity                                 track            artist\n",
       "29788    0.999423                       Real Wild Child          Iggy Pop\n",
       "37509    0.999315  Won't Be Coming Home (S.I.N.) [Demo]     Ozzy Osbourne\n",
       "6618     0.999262                  Rich Man's Spiritual  Gordon Lightfoot\n",
       "1761     0.999191                     Goodbye My Friend          Boney M.\n",
       "24319    0.999039                         Join The Gang       David Bowie\n",
       "10348    0.998848                       Unlucky In Love         Leo Sayer\n",
       "8607     0.998831    I Guess He'd Rather Be In Colorado       John Denver\n",
       "35571    0.998807                             King Leer         Morrissey\n",
       "41319    0.998780                            Papa Legba     Talking Heads\n",
       "5005     0.998756       Ain't Nobody's Business If I Do      Eric Clapton"
      ]
     },
     "execution_count": 55,
     "metadata": {},
     "output_type": "execute_result"
    }
   ],
   "source": [
    "sk_table"
   ]
  },
  {
   "cell_type": "code",
   "execution_count": null,
   "metadata": {},
   "outputs": [],
   "source": []
  }
 ],
 "metadata": {
  "kernelspec": {
   "display_name": "py36",
   "language": "python",
   "name": "python3"
  },
  "language_info": {
   "codemirror_mode": {
    "name": "ipython",
    "version": 3
   },
   "file_extension": ".py",
   "mimetype": "text/x-python",
   "name": "python",
   "nbconvert_exporter": "python",
   "pygments_lexer": "ipython3",
   "version": "3.6.8"
  }
 },
 "nbformat": 4,
 "nbformat_minor": 2
}
