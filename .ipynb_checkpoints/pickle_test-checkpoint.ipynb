{
 "cells": [
  {
   "cell_type": "code",
   "execution_count": 22,
   "id": "02581674-137d-4ac2-9d30-c93373abf8a3",
   "metadata": {},
   "outputs": [],
   "source": [
    "import joblib"
   ]
  },
  {
   "cell_type": "code",
   "execution_count": 23,
   "id": "74518563-b28d-463b-8f1d-7b8b2d3efd2d",
   "metadata": {},
   "outputs": [],
   "source": [
    "import nltk"
   ]
  },
  {
   "cell_type": "code",
   "execution_count": 24,
   "id": "5dec05f1-5e41-4895-adc0-8c4c6c3554ac",
   "metadata": {},
   "outputs": [],
   "source": [
    "emotion_model = joblib.load('emotion_detection_model.pkl')"
   ]
  },
  {
   "cell_type": "code",
   "execution_count": 25,
   "id": "931b1a37-f561-4dd0-bd75-5d6e2f7c5e88",
   "metadata": {},
   "outputs": [],
   "source": [
    "vectorizer = joblib.load('vectorizer.pkl')"
   ]
  },
  {
   "cell_type": "code",
   "execution_count": 26,
   "id": "776b8557-594b-4714-a354-db782015de0a",
   "metadata": {},
   "outputs": [],
   "source": [
    "from nltk.tokenize import word_tokenize # word tokenize will turn each word in a text string into a token"
   ]
  },
  {
   "cell_type": "code",
   "execution_count": 27,
   "id": "2397d2a5-aaf2-4f84-a69f-389f37c16593",
   "metadata": {},
   "outputs": [
    {
     "name": "stderr",
     "output_type": "stream",
     "text": [
      "[nltk_data] Downloading package stopwords to\n",
      "[nltk_data]     C:\\Users\\mccal\\AppData\\Roaming\\nltk_data...\n",
      "[nltk_data]   Package stopwords is already up-to-date!\n"
     ]
    },
    {
     "data": {
      "text/plain": [
       "True"
      ]
     },
     "execution_count": 27,
     "metadata": {},
     "output_type": "execute_result"
    }
   ],
   "source": [
    "from nltk.corpus import stopwords\n",
    "nltk.download('stopwords') # there are definitely stop words in the data we will use to build the model (words that do not have sentiment)"
   ]
  },
  {
   "cell_type": "code",
   "execution_count": 28,
   "id": "a29bf60a-5d46-47ef-b2ac-44a4b10926b7",
   "metadata": {},
   "outputs": [],
   "source": [
    "from sklearn.feature_extraction.text import TfidfVectorizer # this weighs the importance of a word based on freqeuency (feature extraction tool)"
   ]
  },
  {
   "cell_type": "code",
   "execution_count": 29,
   "id": "8e2b26c8-ae83-42a1-bc35-2b5c2fad77a7",
   "metadata": {},
   "outputs": [],
   "source": [
    "stop_words = set(stopwords.words('english')) # this is going to be a set containing all of the english stop words"
   ]
  },
  {
   "cell_type": "code",
   "execution_count": 30,
   "id": "7db30b3d-6211-4a2c-a99b-1263fd396dcf",
   "metadata": {},
   "outputs": [],
   "source": [
    "def emotion_score(user_input):\n",
    "    \n",
    "    input_tokens = nltk.word_tokenize(user_input.lower()) # tokenize the input\n",
    "    \n",
    "    filtered_input_tokens = [word for word in input_tokens if word not in stop_words] # filter stopwords out of the input\n",
    "    \n",
    "    input_combined = ' '.join(filtered_input_tokens) # re-join the filtered tokens\n",
    "    \n",
    "    input_vector = vectorizer.transform([input_combined]) # feature extraction\n",
    "    \n",
    "    probabilities = emotion_model.predict_proba(input_vector) # pull the probabilities from the input\n",
    "    \n",
    "    return probabilities.tolist()[0] # return the probabilities"
   ]
  },
  {
   "cell_type": "code",
   "execution_count": 31,
   "id": "1016c44c-5900-46f8-91e2-fdbdaa65c89a",
   "metadata": {},
   "outputs": [
    {
     "data": {
      "text/plain": [
       "[0.1487058409623,\n",
       " 0.3825773220380542,\n",
       " 0.08053656076647756,\n",
       " 0.20082629782286135,\n",
       " 0.13781645083139327,\n",
       " 0.04953752757891367]"
      ]
     },
     "execution_count": 31,
     "metadata": {},
     "output_type": "execute_result"
    }
   ],
   "source": [
    "emotion_score('test')"
   ]
  },
  {
   "cell_type": "code",
   "execution_count": null,
   "id": "a92d8c70-d549-4058-a814-edefdca13cc0",
   "metadata": {},
   "outputs": [],
   "source": []
  }
 ],
 "metadata": {
  "kernelspec": {
   "display_name": "Python 3 (ipykernel)",
   "language": "python",
   "name": "python3"
  },
  "language_info": {
   "codemirror_mode": {
    "name": "ipython",
    "version": 3
   },
   "file_extension": ".py",
   "mimetype": "text/x-python",
   "name": "python",
   "nbconvert_exporter": "python",
   "pygments_lexer": "ipython3",
   "version": "3.9.19"
  }
 },
 "nbformat": 4,
 "nbformat_minor": 5
}
