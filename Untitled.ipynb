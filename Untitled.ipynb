{
 "cells": [
  {
   "cell_type": "code",
   "execution_count": 1,
   "id": "3a812513-b79c-4eaa-a276-9316f6ede344",
   "metadata": {},
   "outputs": [],
   "source": [
    "import pandas as pd"
   ]
  },
  {
   "cell_type": "code",
   "execution_count": 2,
   "id": "d9981aa3-ae87-49f8-a81d-edc72a8aba5b",
   "metadata": {},
   "outputs": [],
   "source": [
    "music=pd.read_excel('scored_music_w_vector.xlsx')"
   ]
  },
  {
   "cell_type": "code",
   "execution_count": 4,
   "id": "c7b21a1e-516f-479f-b6f7-13a78e17bef4",
   "metadata": {},
   "outputs": [
    {
     "data": {
      "text/plain": [
       "'[0.037771861392196945, 0.865948419112691, 0.02020384183516778, 0.03296205459153309, 0.02320769921587165, 0.019906123852539297]'"
      ]
     },
     "execution_count": 4,
     "metadata": {},
     "output_type": "execute_result"
    }
   ],
   "source": [
    "music.vector[0]"
   ]
  },
  {
   "cell_type": "code",
   "execution_count": null,
   "id": "edae9624-be71-463a-9dcc-cd44ff75c5e4",
   "metadata": {},
   "outputs": [],
   "source": []
  }
 ],
 "metadata": {
  "kernelspec": {
   "display_name": "Python 3 (ipykernel)",
   "language": "python",
   "name": "python3"
  },
  "language_info": {
   "codemirror_mode": {
    "name": "ipython",
    "version": 3
   },
   "file_extension": ".py",
   "mimetype": "text/x-python",
   "name": "python",
   "nbconvert_exporter": "python",
   "pygments_lexer": "ipython3",
   "version": "3.9.19"
  }
 },
 "nbformat": 4,
 "nbformat_minor": 5
}
