{
 "cells": [
  {
   "cell_type": "code",
   "execution_count": 1,
   "metadata": {},
   "outputs": [],
   "source": [
    "import pickle\n",
    "import nltk\n",
    "import numpy as np\n",
    "import pandas as pd"
   ]
  },
  {
   "cell_type": "code",
   "execution_count": 2,
   "metadata": {},
   "outputs": [],
   "source": [
    "# more dependencies\n",
    "from nltk.tokenize import word_tokenize\n",
    "from sklearn.feature_extraction.text import TfidfVectorizer \n",
    "from sklearn.metrics.pairwise import cosine_similarity"
   ]
  },
  {
   "cell_type": "code",
   "execution_count": 3,
   "metadata": {},
   "outputs": [
    {
     "name": "stderr",
     "output_type": "stream",
     "text": [
      "[nltk_data] Downloading package stopwords to\n",
      "[nltk_data]     C:\\Users\\mccal\\AppData\\Roaming\\nltk_data...\n",
      "[nltk_data]   Package stopwords is already up-to-date!\n"
     ]
    },
    {
     "data": {
      "text/plain": [
       "True"
      ]
     },
     "execution_count": 3,
     "metadata": {},
     "output_type": "execute_result"
    }
   ],
   "source": [
    "# even more dependencies\n",
    "from nltk.corpus import stopwords\n",
    "nltk.download('stopwords')"
   ]
  },
  {
   "cell_type": "code",
   "execution_count": 4,
   "metadata": {},
   "outputs": [],
   "source": [
    "# this is going to be a set containing all of the english stop words\n",
    "stop_words = set(stopwords.words('english')) "
   ]
  },
  {
   "cell_type": "code",
   "execution_count": 5,
   "metadata": {},
   "outputs": [],
   "source": [
    "with open('emotion_model.pkl','rb') as file:\n",
    "    emotion_model = pickle.load(file)"
   ]
  },
  {
   "cell_type": "code",
   "execution_count": 6,
   "metadata": {},
   "outputs": [],
   "source": [
    "with open('vectorizer.pkl','rb') as file:\n",
    "    vectorizer = pickle.load(file)"
   ]
  },
  {
   "cell_type": "code",
   "execution_count": 7,
   "metadata": {},
   "outputs": [],
   "source": [
    "with open('scored_music.pkl','rb') as file:\n",
    "    scored_music = pickle.load(file)"
   ]
  },
  {
   "cell_type": "markdown",
   "metadata": {},
   "source": [
    "The following cells will be for tinkering with the cosine similarity search algorithm and figuring out how to make it faster."
   ]
  },
  {
   "cell_type": "code",
   "execution_count": 8,
   "metadata": {},
   "outputs": [],
   "source": [
    "# we need the emotion score function\n",
    "\n",
    "def emotion_score(user_input):\n",
    "    # tokenize the input\n",
    "    input_tokens = nltk.word_tokenize(user_input.lower()) \n",
    "    # filter stopwords out of the input\n",
    "    filtered_input_tokens = [word for word in input_tokens if word not in stop_words] \n",
    "    # re-join the filtered tokens\n",
    "    input_combined = ' '.join(filtered_input_tokens) \n",
    "    # feature extraction\n",
    "    input_vector = vectorizer.transform([input_combined]) \n",
    "    # pull the probabilities from the input\n",
    "    probabilities = emotion_model.predict_proba(input_vector)\n",
    "    # return the probabilities\n",
    "    return probabilities.tolist()[0] "
   ]
  },
  {
   "cell_type": "code",
   "execution_count": 19,
   "metadata": {},
   "outputs": [],
   "source": [
    "# try to write your own cosine similarity function on top of numpy\n",
    "\n",
    "def cos_sim(v,u):\n",
    "    # only pass objects if they are (m,n) and (k,n) matrices\n",
    "\n",
    "    # first take the transpose of vector u so it is compatible for dot product\n",
    "    ut = np.transpose(u)\n",
    "\n",
    "    # take the dot product\n",
    "    dot_product = np.dot(v,ut)\n",
    "\n",
    "    # compute the magnitudes of each row for each matrix\n",
    "    v_mag = np.linalg.norm(v,axis=1)\n",
    "    u_mag = np.linalg.norm(u,axis=1)\n",
    "\n",
    "    # take the outer product of the two magnitude matrices\n",
    "    outer_product = np.outer(v_mag,u_mag)\n",
    "\n",
    "    # the cosine similarity is the dot product over the outer product\n",
    "    cosine_sim = dot_product/outer_product\n",
    "    return cosine_sim\n",
    "\n",
    "\n"
   ]
  },
  {
   "cell_type": "code",
   "execution_count": 20,
   "metadata": {},
   "outputs": [],
   "source": [
    "def cosine_similarity_search(user_input):\n",
    "    \n",
    "    # Convert the user's input into a vector \n",
    "    user_vector = emotion_score(user_input)\n",
    "    \n",
    "    \n",
    "    \n",
    "    # Convert the list of vectors from the scored_music DataFrame into a matrix  \n",
    "    # we can compute all forty five thousand cosine similarities at once instead of one by one if we use a matrix\n",
    "    song_vectors = np.vstack(scored_music['vector'].values)\n",
    "    \n",
    "    # Calculate cosine similarity for the entire set of song vectors at once\n",
    "    # the 0 index is to turn the array into a list which can then be stored in a data frame\n",
    "    cosine_sim = cos_sim(np.array(user_vector).reshape(1,-1), song_vectors)[0]\n",
    "    \n",
    "\n",
    "    \n",
    "    # Create a DataFrame to store the similarity scores along with song and artist info\n",
    "    comparison_df = pd.DataFrame({\n",
    "        'similarity': cosine_sim,\n",
    "        'track': scored_music['song'],\n",
    "        'artist': scored_music['artist']\n",
    "    })\n",
    "    \n",
    "    # Sort by similarity in descending order\n",
    "    sorted_comparison_df = comparison_df.sort_values(by='similarity', ascending=False)\n",
    "    \n",
    "    # return the top 10\n",
    "    return sorted_comparison_df.head(10)"
   ]
  },
  {
   "cell_type": "code",
   "execution_count": 31,
   "metadata": {},
   "outputs": [],
   "source": [
    "hank_table = cosine_similarity_search(\"lovin em and leavin em\")"
   ]
  }
 ],
 "metadata": {
  "kernelspec": {
   "display_name": "py36",
   "language": "python",
   "name": "python3"
  },
  "language_info": {
   "codemirror_mode": {
    "name": "ipython",
    "version": 3
   },
   "file_extension": ".py",
   "mimetype": "text/x-python",
   "name": "python",
   "nbconvert_exporter": "python",
   "pygments_lexer": "ipython3",
   "version": "3.6.8"
  }
 },
 "nbformat": 4,
 "nbformat_minor": 2
}
